{
 "cells": [
  {
   "cell_type": "markdown",
   "metadata": {},
   "source": [
    "#  Film Industry Analysis for Business Expansion \n",
    "\n",
    "##  **Introduction**  \n",
    "As part of a company's expansion into the entertainment industry, they are exploring the creation of a new movie studio. However, with no prior experience in film production, it is critical to make data-driven decisions about the types of movies to develop.  \n",
    "\n",
    "In this project, I will analyze movie industry data to answer key business questions:  \n",
    "- *Which movie genres tend to receive the highest ratings?* \n",
    "- *Which genres have the highest return on investment (ROI)?*\n",
    "- *Are certain directors more likely to deliver high foreign box office success?*  \n",
    "- *Which film languages are associated with higher popularity?*  \n",
    "\n",
    "The goal is to uncover patterns and insights that will help guide the company's decisions on what types of films to produce for maximum commercial success.\n"
   ]
  },
  {
   "cell_type": "markdown",
   "metadata": {},
   "source": [
    "## 【1】**Data Exploration**  "
   ]
  },
  {
   "cell_type": "markdown",
   "metadata": {},
   "source": [
    "### *Loading Datasets*\n",
    "It is crucial we thoroughly explore each of our datasets and database tables. The datasets we are working with include:\n",
    "- `Box Office Mojo`\n",
    "- `IMDB`\n",
    "- `Rotten Tomatoes Movies`\n",
    "- `Rotten Tomatoes Critic Reviews`\n",
    "- `TheMovieDB`\n",
    "- `The Numbers`\n",
    "- `im.db` (SQLite database)\n",
    "\n",
    "Data exploration helps us understand the structure, quality, and characteristics of the data we are working with.  \n",
    "By examining distributions, missing values, duplicates, and relationships between variables, we can identify potential issues early and plan our cleaning and transformation strategies more effectively.  \n",
    "This step ensures that our later analyses are based on a solid understanding of the data, reducing the risk of errors and unexpected results.\n",
    "\n"
   ]
  },
  {
   "cell_type": "code",
   "execution_count": 1,
   "metadata": {},
   "outputs": [],
   "source": [
    "# Import necessary libraries\n",
    "import pandas as pd\n",
    "import numpy as np\n",
    "import sqlite3\n",
    "import matplotlib.pyplot as plt\n",
    "import seaborn as sns"
   ]
  },
  {
   "cell_type": "code",
   "execution_count": 3,
   "metadata": {},
   "outputs": [
    {
     "ename": "OperationalError",
     "evalue": "unable to open database file",
     "output_type": "error",
     "traceback": [
      "\u001b[1;31m---------------------------------------------------------------------------\u001b[0m",
      "\u001b[1;31mOperationalError\u001b[0m                          Traceback (most recent call last)",
      "Cell \u001b[1;32mIn[3], line 2\u001b[0m\n\u001b[0;32m      1\u001b[0m \u001b[38;5;66;03m# Establish a connection to the database\u001b[39;00m\n\u001b[1;32m----> 2\u001b[0m conn \u001b[38;5;241m=\u001b[39m sqlite3\u001b[38;5;241m.\u001b[39mconnect(\u001b[38;5;124m'\u001b[39m\u001b[38;5;124mData/im.db\u001b[39m\u001b[38;5;124m'\u001b[39m)\n\u001b[0;32m      4\u001b[0m \u001b[38;5;66;03m# Check available tables (optional, good for understanding structure)\u001b[39;00m\n\u001b[0;32m      5\u001b[0m pd\u001b[38;5;241m.\u001b[39mread_sql_query(\u001b[38;5;124m\"\u001b[39m\u001b[38;5;124mSELECT name FROM sqlite_master WHERE type=\u001b[39m\u001b[38;5;124m'\u001b[39m\u001b[38;5;124mtable\u001b[39m\u001b[38;5;124m'\u001b[39m\u001b[38;5;124m;\u001b[39m\u001b[38;5;124m\"\u001b[39m, conn)\n",
      "\u001b[1;31mOperationalError\u001b[0m: unable to open database file"
     ]
    }
   ],
   "source": [
    "# Establish a connection to the database\n",
    "conn = sqlite3.connect('Data/im.db')\n",
    "\n",
    "# Check available tables (optional, good for understanding structure)\n",
    "pd.read_sql_query(\"SELECT name FROM sqlite_master WHERE type='table';\", conn)"
   ]
  },
  {
   "cell_type": "code",
   "execution_count": 4,
   "metadata": {},
   "outputs": [
    {
     "ename": "NameError",
     "evalue": "name 'conn' is not defined",
     "output_type": "error",
     "traceback": [
      "\u001b[1;31m---------------------------------------------------------------------------\u001b[0m",
      "\u001b[1;31mNameError\u001b[0m                                 Traceback (most recent call last)",
      "Cell \u001b[1;32mIn[4], line 2\u001b[0m\n\u001b[0;32m      1\u001b[0m \u001b[38;5;66;03m# Close connection\u001b[39;00m\n\u001b[1;32m----> 2\u001b[0m conn\u001b[38;5;241m.\u001b[39mclose()\n",
      "\u001b[1;31mNameError\u001b[0m: name 'conn' is not defined"
     ]
    }
   ],
   "source": [
    "# Close connection\n",
    "conn.close()"
   ]
  },
  {
   "cell_type": "markdown",
   "metadata": {},
   "source": [
    "Load all Datasets into Pandas Dataframes:"
   ]
  },
  {
   "cell_type": "code",
   "execution_count": null,
   "metadata": {},
   "outputs": [
    {
     "data": {
      "application/vnd.microsoft.datawrangler.viewer.v0+json": {
       "columns": [
        {
         "name": "index",
         "rawType": "int64",
         "type": "integer"
        },
        {
         "name": "title",
         "rawType": "object",
         "type": "string"
        },
        {
         "name": "studio",
         "rawType": "object",
         "type": "string"
        },
        {
         "name": "domestic_gross",
         "rawType": "float64",
         "type": "float"
        },
        {
         "name": "foreign_gross",
         "rawType": "object",
         "type": "string"
        },
        {
         "name": "year",
         "rawType": "int64",
         "type": "integer"
        }
       ],
       "conversionMethod": "pd.DataFrame",
       "ref": "a4bd242f-11e9-4568-a452-58cb3637b521",
       "rows": [
        [
         "0",
         "Toy Story 3",
         "BV",
         "415000000.0",
         "652000000",
         "2010"
        ],
        [
         "1",
         "Alice in Wonderland (2010)",
         "BV",
         "334200000.0",
         "691300000",
         "2010"
        ],
        [
         "2",
         "Harry Potter and the Deathly Hallows Part 1",
         "WB",
         "296000000.0",
         "664300000",
         "2010"
        ],
        [
         "3",
         "Inception",
         "WB",
         "292600000.0",
         "535700000",
         "2010"
        ],
        [
         "4",
         "Shrek Forever After",
         "P/DW",
         "238700000.0",
         "513900000",
         "2010"
        ]
       ],
       "shape": {
        "columns": 5,
        "rows": 5
       }
      },
      "text/html": [
       "<div>\n",
       "<style scoped>\n",
       "    .dataframe tbody tr th:only-of-type {\n",
       "        vertical-align: middle;\n",
       "    }\n",
       "\n",
       "    .dataframe tbody tr th {\n",
       "        vertical-align: top;\n",
       "    }\n",
       "\n",
       "    .dataframe thead th {\n",
       "        text-align: right;\n",
       "    }\n",
       "</style>\n",
       "<table border=\"1\" class=\"dataframe\">\n",
       "  <thead>\n",
       "    <tr style=\"text-align: right;\">\n",
       "      <th></th>\n",
       "      <th>title</th>\n",
       "      <th>studio</th>\n",
       "      <th>domestic_gross</th>\n",
       "      <th>foreign_gross</th>\n",
       "      <th>year</th>\n",
       "    </tr>\n",
       "  </thead>\n",
       "  <tbody>\n",
       "    <tr>\n",
       "      <th>0</th>\n",
       "      <td>Toy Story 3</td>\n",
       "      <td>BV</td>\n",
       "      <td>415000000.0</td>\n",
       "      <td>652000000</td>\n",
       "      <td>2010</td>\n",
       "    </tr>\n",
       "    <tr>\n",
       "      <th>1</th>\n",
       "      <td>Alice in Wonderland (2010)</td>\n",
       "      <td>BV</td>\n",
       "      <td>334200000.0</td>\n",
       "      <td>691300000</td>\n",
       "      <td>2010</td>\n",
       "    </tr>\n",
       "    <tr>\n",
       "      <th>2</th>\n",
       "      <td>Harry Potter and the Deathly Hallows Part 1</td>\n",
       "      <td>WB</td>\n",
       "      <td>296000000.0</td>\n",
       "      <td>664300000</td>\n",
       "      <td>2010</td>\n",
       "    </tr>\n",
       "    <tr>\n",
       "      <th>3</th>\n",
       "      <td>Inception</td>\n",
       "      <td>WB</td>\n",
       "      <td>292600000.0</td>\n",
       "      <td>535700000</td>\n",
       "      <td>2010</td>\n",
       "    </tr>\n",
       "    <tr>\n",
       "      <th>4</th>\n",
       "      <td>Shrek Forever After</td>\n",
       "      <td>P/DW</td>\n",
       "      <td>238700000.0</td>\n",
       "      <td>513900000</td>\n",
       "      <td>2010</td>\n",
       "    </tr>\n",
       "  </tbody>\n",
       "</table>\n",
       "</div>"
      ],
      "text/plain": [
       "                                         title studio  domestic_gross  \\\n",
       "0                                  Toy Story 3     BV     415000000.0   \n",
       "1                   Alice in Wonderland (2010)     BV     334200000.0   \n",
       "2  Harry Potter and the Deathly Hallows Part 1     WB     296000000.0   \n",
       "3                                    Inception     WB     292600000.0   \n",
       "4                          Shrek Forever After   P/DW     238700000.0   \n",
       "\n",
       "  foreign_gross  year  \n",
       "0     652000000  2010  \n",
       "1     691300000  2010  \n",
       "2     664300000  2010  \n",
       "3     535700000  2010  \n",
       "4     513900000  2010  "
      ]
     },
     "execution_count": 4,
     "metadata": {},
     "output_type": "execute_result"
    }
   ],
   "source": [
    "# Load dataset using pandas\n",
    "bom_df = pd.read_csv('Data/bom.movie_gross.csv')\n",
    "bom_df.head()"
   ]
  },
  {
   "cell_type": "code",
   "execution_count": null,
   "metadata": {},
   "outputs": [
    {
     "data": {
      "application/vnd.microsoft.datawrangler.viewer.v0+json": {
       "columns": [
        {
         "name": "index",
         "rawType": "int64",
         "type": "integer"
        },
        {
         "name": "rotten_tomatoes_link",
         "rawType": "object",
         "type": "string"
        },
        {
         "name": "critic_name",
         "rawType": "object",
         "type": "unknown"
        },
        {
         "name": "top_critic",
         "rawType": "bool",
         "type": "boolean"
        },
        {
         "name": "publisher_name",
         "rawType": "object",
         "type": "string"
        },
        {
         "name": "review_type",
         "rawType": "object",
         "type": "string"
        },
        {
         "name": "review_score",
         "rawType": "object",
         "type": "unknown"
        },
        {
         "name": "review_date",
         "rawType": "object",
         "type": "string"
        },
        {
         "name": "review_content",
         "rawType": "object",
         "type": "string"
        }
       ],
       "conversionMethod": "pd.DataFrame",
       "ref": "26e95464-5868-4773-84ef-07f00de1f6fc",
       "rows": [
        [
         "0",
         "m/0814255",
         "Andrew L. Urban",
         "False",
         "Urban Cinefile",
         "Fresh",
         null,
         "2010-02-06",
         "A fantasy adventure that fuses Greek mythology to contemporary American places and values. Anyone around 15 (give or take a couple of years) will thrill to the visual spectacle"
        ],
        [
         "1",
         "m/0814255",
         "Louise Keller",
         "False",
         "Urban Cinefile",
         "Fresh",
         null,
         "2010-02-06",
         "Uma Thurman as Medusa, the gorgon with a coiffure of writhing snakes and stone-inducing hypnotic gaze is one of the highlights of this bewitching fantasy"
        ],
        [
         "2",
         "m/0814255",
         null,
         "False",
         "FILMINK (Australia)",
         "Fresh",
         null,
         "2010-02-09",
         "With a top-notch cast and dazzling special effects, this will tide the teens over until the next Harry Potter instalment."
        ],
        [
         "3",
         "m/0814255",
         "Ben McEachen",
         "False",
         "Sunday Mail (Australia)",
         "Fresh",
         "3.5/5",
         "2010-02-09",
         "Whether audiences will get behind The Lightning Thief is hard to predict. Overall, it's an entertaining introduction to a promising new world -- but will the consuming shadow of Potter be too big to break free of?"
        ],
        [
         "4",
         "m/0814255",
         "Ethan Alter",
         "True",
         "Hollywood Reporter",
         "Rotten",
         null,
         "2010-02-10",
         "What's really lacking in The Lightning Thief is a genuine sense of wonder, the same thing that brings viewers back to Hogwarts over and over again."
        ]
       ],
       "shape": {
        "columns": 8,
        "rows": 5
       }
      },
      "text/html": [
       "<div>\n",
       "<style scoped>\n",
       "    .dataframe tbody tr th:only-of-type {\n",
       "        vertical-align: middle;\n",
       "    }\n",
       "\n",
       "    .dataframe tbody tr th {\n",
       "        vertical-align: top;\n",
       "    }\n",
       "\n",
       "    .dataframe thead th {\n",
       "        text-align: right;\n",
       "    }\n",
       "</style>\n",
       "<table border=\"1\" class=\"dataframe\">\n",
       "  <thead>\n",
       "    <tr style=\"text-align: right;\">\n",
       "      <th></th>\n",
       "      <th>rotten_tomatoes_link</th>\n",
       "      <th>critic_name</th>\n",
       "      <th>top_critic</th>\n",
       "      <th>publisher_name</th>\n",
       "      <th>review_type</th>\n",
       "      <th>review_score</th>\n",
       "      <th>review_date</th>\n",
       "      <th>review_content</th>\n",
       "    </tr>\n",
       "  </thead>\n",
       "  <tbody>\n",
       "    <tr>\n",
       "      <th>0</th>\n",
       "      <td>m/0814255</td>\n",
       "      <td>Andrew L. Urban</td>\n",
       "      <td>False</td>\n",
       "      <td>Urban Cinefile</td>\n",
       "      <td>Fresh</td>\n",
       "      <td>NaN</td>\n",
       "      <td>2010-02-06</td>\n",
       "      <td>A fantasy adventure that fuses Greek mythology...</td>\n",
       "    </tr>\n",
       "    <tr>\n",
       "      <th>1</th>\n",
       "      <td>m/0814255</td>\n",
       "      <td>Louise Keller</td>\n",
       "      <td>False</td>\n",
       "      <td>Urban Cinefile</td>\n",
       "      <td>Fresh</td>\n",
       "      <td>NaN</td>\n",
       "      <td>2010-02-06</td>\n",
       "      <td>Uma Thurman as Medusa, the gorgon with a coiff...</td>\n",
       "    </tr>\n",
       "    <tr>\n",
       "      <th>2</th>\n",
       "      <td>m/0814255</td>\n",
       "      <td>NaN</td>\n",
       "      <td>False</td>\n",
       "      <td>FILMINK (Australia)</td>\n",
       "      <td>Fresh</td>\n",
       "      <td>NaN</td>\n",
       "      <td>2010-02-09</td>\n",
       "      <td>With a top-notch cast and dazzling special eff...</td>\n",
       "    </tr>\n",
       "    <tr>\n",
       "      <th>3</th>\n",
       "      <td>m/0814255</td>\n",
       "      <td>Ben McEachen</td>\n",
       "      <td>False</td>\n",
       "      <td>Sunday Mail (Australia)</td>\n",
       "      <td>Fresh</td>\n",
       "      <td>3.5/5</td>\n",
       "      <td>2010-02-09</td>\n",
       "      <td>Whether audiences will get behind The Lightnin...</td>\n",
       "    </tr>\n",
       "    <tr>\n",
       "      <th>4</th>\n",
       "      <td>m/0814255</td>\n",
       "      <td>Ethan Alter</td>\n",
       "      <td>True</td>\n",
       "      <td>Hollywood Reporter</td>\n",
       "      <td>Rotten</td>\n",
       "      <td>NaN</td>\n",
       "      <td>2010-02-10</td>\n",
       "      <td>What's really lacking in The Lightning Thief i...</td>\n",
       "    </tr>\n",
       "  </tbody>\n",
       "</table>\n",
       "</div>"
      ],
      "text/plain": [
       "  rotten_tomatoes_link      critic_name  top_critic           publisher_name  \\\n",
       "0            m/0814255  Andrew L. Urban       False           Urban Cinefile   \n",
       "1            m/0814255    Louise Keller       False           Urban Cinefile   \n",
       "2            m/0814255              NaN       False      FILMINK (Australia)   \n",
       "3            m/0814255     Ben McEachen       False  Sunday Mail (Australia)   \n",
       "4            m/0814255      Ethan Alter        True       Hollywood Reporter   \n",
       "\n",
       "  review_type review_score review_date  \\\n",
       "0       Fresh          NaN  2010-02-06   \n",
       "1       Fresh          NaN  2010-02-06   \n",
       "2       Fresh          NaN  2010-02-09   \n",
       "3       Fresh        3.5/5  2010-02-09   \n",
       "4      Rotten          NaN  2010-02-10   \n",
       "\n",
       "                                      review_content  \n",
       "0  A fantasy adventure that fuses Greek mythology...  \n",
       "1  Uma Thurman as Medusa, the gorgon with a coiff...  \n",
       "2  With a top-notch cast and dazzling special eff...  \n",
       "3  Whether audiences will get behind The Lightnin...  \n",
       "4  What's really lacking in The Lightning Thief i...  "
      ]
     },
     "execution_count": 5,
     "metadata": {},
     "output_type": "execute_result"
    }
   ],
   "source": [
    "# Load dataset using pandas\n",
    "rt_rev_df = pd.read_csv('Data/rt_critic_reviews.csv')\n",
    "rt_rev_df.head()"
   ]
  },
  {
   "cell_type": "code",
   "execution_count": null,
   "metadata": {},
   "outputs": [
    {
     "data": {
      "application/vnd.microsoft.datawrangler.viewer.v0+json": {
       "columns": [
        {
         "name": "index",
         "rawType": "int64",
         "type": "integer"
        },
        {
         "name": "rotten_tomatoes_link",
         "rawType": "object",
         "type": "string"
        },
        {
         "name": "movie_title",
         "rawType": "object",
         "type": "string"
        },
        {
         "name": "movie_info",
         "rawType": "object",
         "type": "string"
        },
        {
         "name": "critics_consensus",
         "rawType": "object",
         "type": "string"
        },
        {
         "name": "content_rating",
         "rawType": "object",
         "type": "string"
        },
        {
         "name": "genres",
         "rawType": "object",
         "type": "string"
        },
        {
         "name": "directors",
         "rawType": "object",
         "type": "string"
        },
        {
         "name": "authors",
         "rawType": "object",
         "type": "string"
        },
        {
         "name": "actors",
         "rawType": "object",
         "type": "string"
        },
        {
         "name": "original_release_date",
         "rawType": "object",
         "type": "string"
        },
        {
         "name": "streaming_release_date",
         "rawType": "object",
         "type": "string"
        },
        {
         "name": "runtime",
         "rawType": "float64",
         "type": "float"
        },
        {
         "name": "production_company",
         "rawType": "object",
         "type": "string"
        },
        {
         "name": "tomatometer_status",
         "rawType": "object",
         "type": "string"
        },
        {
         "name": "tomatometer_rating",
         "rawType": "float64",
         "type": "float"
        },
        {
         "name": "tomatometer_count",
         "rawType": "float64",
         "type": "float"
        },
        {
         "name": "audience_status",
         "rawType": "object",
         "type": "string"
        },
        {
         "name": "audience_rating",
         "rawType": "float64",
         "type": "float"
        },
        {
         "name": "audience_count",
         "rawType": "float64",
         "type": "float"
        },
        {
         "name": "tomatometer_top_critics_count",
         "rawType": "int64",
         "type": "integer"
        },
        {
         "name": "tomatometer_fresh_critics_count",
         "rawType": "int64",
         "type": "integer"
        },
        {
         "name": "tomatometer_rotten_critics_count",
         "rawType": "int64",
         "type": "integer"
        }
       ],
       "conversionMethod": "pd.DataFrame",
       "ref": "540eb267-a12e-472c-8e32-d3e09c25b81b",
       "rows": [
        [
         "0",
         "m/0814255",
         "Percy Jackson & the Olympians: The Lightning Thief",
         "Always trouble-prone, the life of teenager Percy Jackson (Logan Lerman) gets a lot more complicated when he learns he's the son of the Greek god Poseidon. At a training ground for the children of deities, Percy learns to harness his divine powers and prepare for the adventure of a lifetime: he must prevent a feud among the Olympians from erupting into a devastating war on Earth, and rescue his mother from the clutches of Hades, god of the underworld.",
         "Though it may seem like just another Harry Potter knockoff, Percy Jackson benefits from a strong supporting cast, a speedy plot, and plenty of fun with Greek mythology.",
         "PG",
         "Action & Adventure, Comedy, Drama, Science Fiction & Fantasy",
         "Chris Columbus",
         "Craig Titley, Chris Columbus, Rick Riordan",
         "Logan Lerman, Brandon T. Jackson, Alexandra Daddario, Jake Abel, Sean Bean, Pierce Brosnan, Steve Coogan, Rosario Dawson, Melina Kanakaredes, Catherine Keener, Kevin Mckidd, Joe Pantoliano, Uma Thurman, Ray Winstone, Julian Richings, Bonita Friedericy, Annie Ilonzeh, Tania Saulnier, Marie Avgeropoulos, Luisa D'Oliveira, Christie Laing, Marielle Jaffe, Elisa King, Chrystal Tisiga, Alexis Knapp, Charlie Gallant, Chelan Simmons, Andrea Brooks, Natassia Malthe, Max Van Ville, Serinda Swan, Dimitri Lekkos, Ona Grauer, Stefanie von Pfetten, Conrad Coates, Erica Cerra, Dylan Neal, Luke Camilleri, Holly Hougham, Ina Geraldine, Raquel Riskin, Yusleidis Oquendo, Janine Edwards, Valerie Tian, Violet Columbus, Sarah Smyth, Merritt Patterson, Julie Luck, Andrea Day, John Stewart, Suzanne Ristic, Deejay Jackson, Matthew Garrick, Stan Carp, Suzanna Ristic, Richard Harmon, Maria Olsen, Robin Lemon, Doyle Devereux, Tom Pickett, VJ Delos-Reyes, Tim Aas, Keith Dallas, Spencer Atkinson, Maya Washington, Loyd Bateman, Victor Ayala, Zane Holtz, Eli Zagoudakis, Matt Reimer, Rob Hayter, Lloyd Bateman, Shawn Beaton, Jarod Joseph, Reilly Dolman, Paul Cummings, Julie Brar, Dejan Loyola, Damian Arman, Mario Casoria, Dorla Bell, Carolyn Adair (II), Jade Pawluk, G. Patrick Currie, Darian Arman, Mariela Zapata, David L. Smith",
         "2010-02-12",
         "2015-11-25",
         "119.0",
         "20th Century Fox",
         "Rotten",
         "49.0",
         "149.0",
         "Spilled",
         "53.0",
         "254421.0",
         "43",
         "73",
         "76"
        ],
        [
         "1",
         "m/0878835",
         "Please Give",
         "Kate (Catherine Keener) and her husband Alex (Oliver Platt) are wealthy New Yorkers who prowl estate sales and make a tidy profit reselling items they bought cheaply. They buy the apartment next door and plan to remodel just as soon as its current occupant, a cranky old woman, dies. Kate is troubled by the way she and her husband earn a living, and tries to assuage her guilt by befriending her tenant and the woman's granddaughters, but her overtures lead to unexpected consequences.",
         "Nicole Holofcener's newest might seem slight in places, but its rendering of complex characters in a conflicted economic landscape is varied, natural, and touching all the same.",
         "R",
         "Comedy",
         "Nicole Holofcener",
         "Nicole Holofcener",
         "Catherine Keener, Amanda Peet, Oliver Platt, Rebecca Hall, Sarah Steele, Ann Morgan Guilbert, Kevin Corrigan, Lois Smith",
         "2010-04-30",
         "2012-09-04",
         "90.0",
         "Sony Pictures Classics",
         "Certified-Fresh",
         "87.0",
         "142.0",
         "Upright",
         "64.0",
         "11574.0",
         "44",
         "123",
         "19"
        ],
        [
         "2",
         "m/10",
         "10",
         "A successful, middle-aged Hollywood songwriter falls hopelessly in love with the woman of his dreams, and even follows the girl and her new husband to their Mexican honeymoon resort. While his behavior seems sure to land him in trouble, out of the blue fate plays into his hands.",
         "Blake Edwards' bawdy comedy may not score a perfect 10, but Dudley Moore's self-deprecating performance makes this midlife crisis persistently funny.",
         "R",
         "Comedy, Romance",
         "Blake Edwards",
         "Blake Edwards",
         "Dudley Moore, Bo Derek, Julie Andrews, Robert Webber, Dee Wallace, Sam Jones III, Sam J. Jones, Brian Dennehy, Max Showalter, Rad Daly, Nedra Volz, James Noble, Virginia Kiser, John Hawker, Deborah Rush, Don Calfa, Walter George Alton, Annette Martin, John Hancock, Lorry Goldman, Arthur Rosenberg, Mari Gorman, Marcy Hanson, Julia Jennings, Senilo Tanney, Kitty DeCarlo, William Lucking, Owen Sullivan, Debbie White, Laurence Carr, Camila Ashland, Adrian Aron, Gail Bowman, Burke Byrnes, Michael Champion, Doug Sheehan, J. Victor Lopez, Gregory Chase, Jon Linton, Ellen Clark, Antonia Ellis, John Chappell, Lynn Farrell, Art Kassul, Denise Crosby, Jeanetta Arnette",
         "1979-10-05",
         "2014-07-24",
         "122.0",
         "Waner Bros.",
         "Fresh",
         "67.0",
         "24.0",
         "Spilled",
         "53.0",
         "14684.0",
         "2",
         "16",
         "8"
        ],
        [
         "3",
         "m/1000013-12_angry_men",
         "12 Angry Men (Twelve Angry Men)",
         "Following the closing arguments in a murder trial, the 12 members of the jury must deliberate, with a guilty verdict meaning death for the accused, an inner-city teen. As the dozen men try to reach a unanimous decision while sequestered in a room, one juror (Henry Fonda) casts considerable doubt on elements of the case. Personal issues soon rise to the surface, and conflict threatens to derail the delicate process that will decide one boy's fate.",
         "Sidney Lumet's feature debut is a superbly written, dramatically effective courtroom thriller that rightfully stands as a modern classic.",
         "NR",
         "Classics, Drama",
         "Sidney Lumet",
         "Reginald Rose",
         "Martin Balsam, John Fiedler, Lee J. Cobb, E.G. Marshall, Jack Klugman, Edward Binns, Jack Warden, Henry Fonda, Joseph Sweeney, Ed Begley Sr., George Voskovec, Robert Webber, Rudy Bond, James A. Kelly, Billy Nelson, John Savoca",
         "1957-04-13",
         "2017-01-13",
         "95.0",
         "Criterion Collection",
         "Certified-Fresh",
         "100.0",
         "54.0",
         "Upright",
         "97.0",
         "105386.0",
         "6",
         "54",
         "0"
        ],
        [
         "4",
         "m/1000079-20000_leagues_under_the_sea",
         "20,000 Leagues Under The Sea",
         "In 1866, Professor Pierre M. Aronnax (Paul Lukas) and his assistant Conseil (Peter Lorre), stranded in San Francisco by reports of a giant sea monster attacking ships in the Pacific Ocean, are invited to join an expedition to search for the creature. During the search, they and harpooner Ned Land (Kirk Douglas) are thrown overboard during an attack, eventually discovering that the supposed monster is actually a submarine piloted by the brilliant but haunted Captain Nemo (James Mason).",
         "One of Disney's finest live-action adventures, 20,000 Leagues Under the Sea brings Jules Verne's classic sci-fi tale to vivid life, and features an awesome giant squid.",
         "G",
         "Action & Adventure, Drama, Kids & Family",
         "Richard Fleischer",
         "Earl Felton",
         "James Mason, Kirk Douglas, Paul Lukas, Peter Lorre, Robert J. Wilke, Carleton Young, Bob Wilke, Ted de Corsia, Percy Helton, Ted Cooper, Eddie Marr, Fred Graham, Esmeralda, J.M. Kerrigan, Harry Harvey, Herb Vigran",
         "1954-01-01",
         "2016-06-10",
         "127.0",
         "Disney",
         "Fresh",
         "89.0",
         "27.0",
         "Upright",
         "74.0",
         "68918.0",
         "5",
         "24",
         "3"
        ]
       ],
       "shape": {
        "columns": 22,
        "rows": 5
       }
      },
      "text/html": [
       "<div>\n",
       "<style scoped>\n",
       "    .dataframe tbody tr th:only-of-type {\n",
       "        vertical-align: middle;\n",
       "    }\n",
       "\n",
       "    .dataframe tbody tr th {\n",
       "        vertical-align: top;\n",
       "    }\n",
       "\n",
       "    .dataframe thead th {\n",
       "        text-align: right;\n",
       "    }\n",
       "</style>\n",
       "<table border=\"1\" class=\"dataframe\">\n",
       "  <thead>\n",
       "    <tr style=\"text-align: right;\">\n",
       "      <th></th>\n",
       "      <th>rotten_tomatoes_link</th>\n",
       "      <th>movie_title</th>\n",
       "      <th>movie_info</th>\n",
       "      <th>critics_consensus</th>\n",
       "      <th>content_rating</th>\n",
       "      <th>genres</th>\n",
       "      <th>directors</th>\n",
       "      <th>authors</th>\n",
       "      <th>actors</th>\n",
       "      <th>original_release_date</th>\n",
       "      <th>...</th>\n",
       "      <th>production_company</th>\n",
       "      <th>tomatometer_status</th>\n",
       "      <th>tomatometer_rating</th>\n",
       "      <th>tomatometer_count</th>\n",
       "      <th>audience_status</th>\n",
       "      <th>audience_rating</th>\n",
       "      <th>audience_count</th>\n",
       "      <th>tomatometer_top_critics_count</th>\n",
       "      <th>tomatometer_fresh_critics_count</th>\n",
       "      <th>tomatometer_rotten_critics_count</th>\n",
       "    </tr>\n",
       "  </thead>\n",
       "  <tbody>\n",
       "    <tr>\n",
       "      <th>0</th>\n",
       "      <td>m/0814255</td>\n",
       "      <td>Percy Jackson &amp; the Olympians: The Lightning T...</td>\n",
       "      <td>Always trouble-prone, the life of teenager Per...</td>\n",
       "      <td>Though it may seem like just another Harry Pot...</td>\n",
       "      <td>PG</td>\n",
       "      <td>Action &amp; Adventure, Comedy, Drama, Science Fic...</td>\n",
       "      <td>Chris Columbus</td>\n",
       "      <td>Craig Titley, Chris Columbus, Rick Riordan</td>\n",
       "      <td>Logan Lerman, Brandon T. Jackson, Alexandra Da...</td>\n",
       "      <td>2010-02-12</td>\n",
       "      <td>...</td>\n",
       "      <td>20th Century Fox</td>\n",
       "      <td>Rotten</td>\n",
       "      <td>49.0</td>\n",
       "      <td>149.0</td>\n",
       "      <td>Spilled</td>\n",
       "      <td>53.0</td>\n",
       "      <td>254421.0</td>\n",
       "      <td>43</td>\n",
       "      <td>73</td>\n",
       "      <td>76</td>\n",
       "    </tr>\n",
       "    <tr>\n",
       "      <th>1</th>\n",
       "      <td>m/0878835</td>\n",
       "      <td>Please Give</td>\n",
       "      <td>Kate (Catherine Keener) and her husband Alex (...</td>\n",
       "      <td>Nicole Holofcener's newest might seem slight i...</td>\n",
       "      <td>R</td>\n",
       "      <td>Comedy</td>\n",
       "      <td>Nicole Holofcener</td>\n",
       "      <td>Nicole Holofcener</td>\n",
       "      <td>Catherine Keener, Amanda Peet, Oliver Platt, R...</td>\n",
       "      <td>2010-04-30</td>\n",
       "      <td>...</td>\n",
       "      <td>Sony Pictures Classics</td>\n",
       "      <td>Certified-Fresh</td>\n",
       "      <td>87.0</td>\n",
       "      <td>142.0</td>\n",
       "      <td>Upright</td>\n",
       "      <td>64.0</td>\n",
       "      <td>11574.0</td>\n",
       "      <td>44</td>\n",
       "      <td>123</td>\n",
       "      <td>19</td>\n",
       "    </tr>\n",
       "    <tr>\n",
       "      <th>2</th>\n",
       "      <td>m/10</td>\n",
       "      <td>10</td>\n",
       "      <td>A successful, middle-aged Hollywood songwriter...</td>\n",
       "      <td>Blake Edwards' bawdy comedy may not score a pe...</td>\n",
       "      <td>R</td>\n",
       "      <td>Comedy, Romance</td>\n",
       "      <td>Blake Edwards</td>\n",
       "      <td>Blake Edwards</td>\n",
       "      <td>Dudley Moore, Bo Derek, Julie Andrews, Robert ...</td>\n",
       "      <td>1979-10-05</td>\n",
       "      <td>...</td>\n",
       "      <td>Waner Bros.</td>\n",
       "      <td>Fresh</td>\n",
       "      <td>67.0</td>\n",
       "      <td>24.0</td>\n",
       "      <td>Spilled</td>\n",
       "      <td>53.0</td>\n",
       "      <td>14684.0</td>\n",
       "      <td>2</td>\n",
       "      <td>16</td>\n",
       "      <td>8</td>\n",
       "    </tr>\n",
       "    <tr>\n",
       "      <th>3</th>\n",
       "      <td>m/1000013-12_angry_men</td>\n",
       "      <td>12 Angry Men (Twelve Angry Men)</td>\n",
       "      <td>Following the closing arguments in a murder tr...</td>\n",
       "      <td>Sidney Lumet's feature debut is a superbly wri...</td>\n",
       "      <td>NR</td>\n",
       "      <td>Classics, Drama</td>\n",
       "      <td>Sidney Lumet</td>\n",
       "      <td>Reginald Rose</td>\n",
       "      <td>Martin Balsam, John Fiedler, Lee J. Cobb, E.G....</td>\n",
       "      <td>1957-04-13</td>\n",
       "      <td>...</td>\n",
       "      <td>Criterion Collection</td>\n",
       "      <td>Certified-Fresh</td>\n",
       "      <td>100.0</td>\n",
       "      <td>54.0</td>\n",
       "      <td>Upright</td>\n",
       "      <td>97.0</td>\n",
       "      <td>105386.0</td>\n",
       "      <td>6</td>\n",
       "      <td>54</td>\n",
       "      <td>0</td>\n",
       "    </tr>\n",
       "    <tr>\n",
       "      <th>4</th>\n",
       "      <td>m/1000079-20000_leagues_under_the_sea</td>\n",
       "      <td>20,000 Leagues Under The Sea</td>\n",
       "      <td>In 1866, Professor Pierre M. Aronnax (Paul Luk...</td>\n",
       "      <td>One of Disney's finest live-action adventures,...</td>\n",
       "      <td>G</td>\n",
       "      <td>Action &amp; Adventure, Drama, Kids &amp; Family</td>\n",
       "      <td>Richard Fleischer</td>\n",
       "      <td>Earl Felton</td>\n",
       "      <td>James Mason, Kirk Douglas, Paul Lukas, Peter L...</td>\n",
       "      <td>1954-01-01</td>\n",
       "      <td>...</td>\n",
       "      <td>Disney</td>\n",
       "      <td>Fresh</td>\n",
       "      <td>89.0</td>\n",
       "      <td>27.0</td>\n",
       "      <td>Upright</td>\n",
       "      <td>74.0</td>\n",
       "      <td>68918.0</td>\n",
       "      <td>5</td>\n",
       "      <td>24</td>\n",
       "      <td>3</td>\n",
       "    </tr>\n",
       "  </tbody>\n",
       "</table>\n",
       "<p>5 rows × 22 columns</p>\n",
       "</div>"
      ],
      "text/plain": [
       "                    rotten_tomatoes_link  \\\n",
       "0                              m/0814255   \n",
       "1                              m/0878835   \n",
       "2                                   m/10   \n",
       "3                 m/1000013-12_angry_men   \n",
       "4  m/1000079-20000_leagues_under_the_sea   \n",
       "\n",
       "                                         movie_title  \\\n",
       "0  Percy Jackson & the Olympians: The Lightning T...   \n",
       "1                                        Please Give   \n",
       "2                                                 10   \n",
       "3                    12 Angry Men (Twelve Angry Men)   \n",
       "4                       20,000 Leagues Under The Sea   \n",
       "\n",
       "                                          movie_info  \\\n",
       "0  Always trouble-prone, the life of teenager Per...   \n",
       "1  Kate (Catherine Keener) and her husband Alex (...   \n",
       "2  A successful, middle-aged Hollywood songwriter...   \n",
       "3  Following the closing arguments in a murder tr...   \n",
       "4  In 1866, Professor Pierre M. Aronnax (Paul Luk...   \n",
       "\n",
       "                                   critics_consensus content_rating  \\\n",
       "0  Though it may seem like just another Harry Pot...             PG   \n",
       "1  Nicole Holofcener's newest might seem slight i...              R   \n",
       "2  Blake Edwards' bawdy comedy may not score a pe...              R   \n",
       "3  Sidney Lumet's feature debut is a superbly wri...             NR   \n",
       "4  One of Disney's finest live-action adventures,...              G   \n",
       "\n",
       "                                              genres          directors  \\\n",
       "0  Action & Adventure, Comedy, Drama, Science Fic...     Chris Columbus   \n",
       "1                                             Comedy  Nicole Holofcener   \n",
       "2                                    Comedy, Romance      Blake Edwards   \n",
       "3                                    Classics, Drama       Sidney Lumet   \n",
       "4           Action & Adventure, Drama, Kids & Family  Richard Fleischer   \n",
       "\n",
       "                                      authors  \\\n",
       "0  Craig Titley, Chris Columbus, Rick Riordan   \n",
       "1                           Nicole Holofcener   \n",
       "2                               Blake Edwards   \n",
       "3                               Reginald Rose   \n",
       "4                                 Earl Felton   \n",
       "\n",
       "                                              actors original_release_date  \\\n",
       "0  Logan Lerman, Brandon T. Jackson, Alexandra Da...            2010-02-12   \n",
       "1  Catherine Keener, Amanda Peet, Oliver Platt, R...            2010-04-30   \n",
       "2  Dudley Moore, Bo Derek, Julie Andrews, Robert ...            1979-10-05   \n",
       "3  Martin Balsam, John Fiedler, Lee J. Cobb, E.G....            1957-04-13   \n",
       "4  James Mason, Kirk Douglas, Paul Lukas, Peter L...            1954-01-01   \n",
       "\n",
       "   ...      production_company  tomatometer_status tomatometer_rating  \\\n",
       "0  ...        20th Century Fox              Rotten               49.0   \n",
       "1  ...  Sony Pictures Classics     Certified-Fresh               87.0   \n",
       "2  ...             Waner Bros.               Fresh               67.0   \n",
       "3  ...    Criterion Collection     Certified-Fresh              100.0   \n",
       "4  ...                  Disney               Fresh               89.0   \n",
       "\n",
       "  tomatometer_count  audience_status  audience_rating audience_count  \\\n",
       "0             149.0          Spilled             53.0       254421.0   \n",
       "1             142.0          Upright             64.0        11574.0   \n",
       "2              24.0          Spilled             53.0        14684.0   \n",
       "3              54.0          Upright             97.0       105386.0   \n",
       "4              27.0          Upright             74.0        68918.0   \n",
       "\n",
       "   tomatometer_top_critics_count  tomatometer_fresh_critics_count  \\\n",
       "0                             43                               73   \n",
       "1                             44                              123   \n",
       "2                              2                               16   \n",
       "3                              6                               54   \n",
       "4                              5                               24   \n",
       "\n",
       "   tomatometer_rotten_critics_count  \n",
       "0                                76  \n",
       "1                                19  \n",
       "2                                 8  \n",
       "3                                 0  \n",
       "4                                 3  \n",
       "\n",
       "[5 rows x 22 columns]"
      ]
     },
     "execution_count": 6,
     "metadata": {},
     "output_type": "execute_result"
    }
   ],
   "source": [
    "# Load dataset using pandas\n",
    "rt_df = pd.read_csv('Data/rt_movies.csv')\n",
    "rt_df.head()"
   ]
  },
  {
   "cell_type": "code",
   "execution_count": null,
   "metadata": {},
   "outputs": [
    {
     "data": {
      "application/vnd.microsoft.datawrangler.viewer.v0+json": {
       "columns": [
        {
         "name": "index",
         "rawType": "int64",
         "type": "integer"
        },
        {
         "name": "Unnamed: 0",
         "rawType": "int64",
         "type": "integer"
        },
        {
         "name": "genre_ids",
         "rawType": "object",
         "type": "string"
        },
        {
         "name": "id",
         "rawType": "int64",
         "type": "integer"
        },
        {
         "name": "original_language",
         "rawType": "object",
         "type": "string"
        },
        {
         "name": "original_title",
         "rawType": "object",
         "type": "string"
        },
        {
         "name": "popularity",
         "rawType": "float64",
         "type": "float"
        },
        {
         "name": "release_date",
         "rawType": "object",
         "type": "string"
        },
        {
         "name": "title",
         "rawType": "object",
         "type": "string"
        },
        {
         "name": "vote_average",
         "rawType": "float64",
         "type": "float"
        },
        {
         "name": "vote_count",
         "rawType": "int64",
         "type": "integer"
        }
       ],
       "conversionMethod": "pd.DataFrame",
       "ref": "3dc85dac-e55c-4360-813b-bb1dae52f5db",
       "rows": [
        [
         "0",
         "0",
         "[12, 14, 10751]",
         "12444",
         "en",
         "Harry Potter and the Deathly Hallows: Part 1",
         "33.533",
         "2010-11-19",
         "Harry Potter and the Deathly Hallows: Part 1",
         "7.7",
         "10788"
        ],
        [
         "1",
         "1",
         "[14, 12, 16, 10751]",
         "10191",
         "en",
         "How to Train Your Dragon",
         "28.734",
         "2010-03-26",
         "How to Train Your Dragon",
         "7.7",
         "7610"
        ],
        [
         "2",
         "2",
         "[12, 28, 878]",
         "10138",
         "en",
         "Iron Man 2",
         "28.515",
         "2010-05-07",
         "Iron Man 2",
         "6.8",
         "12368"
        ],
        [
         "3",
         "3",
         "[16, 35, 10751]",
         "862",
         "en",
         "Toy Story",
         "28.005",
         "1995-11-22",
         "Toy Story",
         "7.9",
         "10174"
        ],
        [
         "4",
         "4",
         "[28, 878, 12]",
         "27205",
         "en",
         "Inception",
         "27.92",
         "2010-07-16",
         "Inception",
         "8.3",
         "22186"
        ]
       ],
       "shape": {
        "columns": 10,
        "rows": 5
       }
      },
      "text/html": [
       "<div>\n",
       "<style scoped>\n",
       "    .dataframe tbody tr th:only-of-type {\n",
       "        vertical-align: middle;\n",
       "    }\n",
       "\n",
       "    .dataframe tbody tr th {\n",
       "        vertical-align: top;\n",
       "    }\n",
       "\n",
       "    .dataframe thead th {\n",
       "        text-align: right;\n",
       "    }\n",
       "</style>\n",
       "<table border=\"1\" class=\"dataframe\">\n",
       "  <thead>\n",
       "    <tr style=\"text-align: right;\">\n",
       "      <th></th>\n",
       "      <th>Unnamed: 0</th>\n",
       "      <th>genre_ids</th>\n",
       "      <th>id</th>\n",
       "      <th>original_language</th>\n",
       "      <th>original_title</th>\n",
       "      <th>popularity</th>\n",
       "      <th>release_date</th>\n",
       "      <th>title</th>\n",
       "      <th>vote_average</th>\n",
       "      <th>vote_count</th>\n",
       "    </tr>\n",
       "  </thead>\n",
       "  <tbody>\n",
       "    <tr>\n",
       "      <th>0</th>\n",
       "      <td>0</td>\n",
       "      <td>[12, 14, 10751]</td>\n",
       "      <td>12444</td>\n",
       "      <td>en</td>\n",
       "      <td>Harry Potter and the Deathly Hallows: Part 1</td>\n",
       "      <td>33.533</td>\n",
       "      <td>2010-11-19</td>\n",
       "      <td>Harry Potter and the Deathly Hallows: Part 1</td>\n",
       "      <td>7.7</td>\n",
       "      <td>10788</td>\n",
       "    </tr>\n",
       "    <tr>\n",
       "      <th>1</th>\n",
       "      <td>1</td>\n",
       "      <td>[14, 12, 16, 10751]</td>\n",
       "      <td>10191</td>\n",
       "      <td>en</td>\n",
       "      <td>How to Train Your Dragon</td>\n",
       "      <td>28.734</td>\n",
       "      <td>2010-03-26</td>\n",
       "      <td>How to Train Your Dragon</td>\n",
       "      <td>7.7</td>\n",
       "      <td>7610</td>\n",
       "    </tr>\n",
       "    <tr>\n",
       "      <th>2</th>\n",
       "      <td>2</td>\n",
       "      <td>[12, 28, 878]</td>\n",
       "      <td>10138</td>\n",
       "      <td>en</td>\n",
       "      <td>Iron Man 2</td>\n",
       "      <td>28.515</td>\n",
       "      <td>2010-05-07</td>\n",
       "      <td>Iron Man 2</td>\n",
       "      <td>6.8</td>\n",
       "      <td>12368</td>\n",
       "    </tr>\n",
       "    <tr>\n",
       "      <th>3</th>\n",
       "      <td>3</td>\n",
       "      <td>[16, 35, 10751]</td>\n",
       "      <td>862</td>\n",
       "      <td>en</td>\n",
       "      <td>Toy Story</td>\n",
       "      <td>28.005</td>\n",
       "      <td>1995-11-22</td>\n",
       "      <td>Toy Story</td>\n",
       "      <td>7.9</td>\n",
       "      <td>10174</td>\n",
       "    </tr>\n",
       "    <tr>\n",
       "      <th>4</th>\n",
       "      <td>4</td>\n",
       "      <td>[28, 878, 12]</td>\n",
       "      <td>27205</td>\n",
       "      <td>en</td>\n",
       "      <td>Inception</td>\n",
       "      <td>27.920</td>\n",
       "      <td>2010-07-16</td>\n",
       "      <td>Inception</td>\n",
       "      <td>8.3</td>\n",
       "      <td>22186</td>\n",
       "    </tr>\n",
       "  </tbody>\n",
       "</table>\n",
       "</div>"
      ],
      "text/plain": [
       "   Unnamed: 0            genre_ids     id original_language  \\\n",
       "0           0      [12, 14, 10751]  12444                en   \n",
       "1           1  [14, 12, 16, 10751]  10191                en   \n",
       "2           2        [12, 28, 878]  10138                en   \n",
       "3           3      [16, 35, 10751]    862                en   \n",
       "4           4        [28, 878, 12]  27205                en   \n",
       "\n",
       "                                 original_title  popularity release_date  \\\n",
       "0  Harry Potter and the Deathly Hallows: Part 1      33.533   2010-11-19   \n",
       "1                      How to Train Your Dragon      28.734   2010-03-26   \n",
       "2                                    Iron Man 2      28.515   2010-05-07   \n",
       "3                                     Toy Story      28.005   1995-11-22   \n",
       "4                                     Inception      27.920   2010-07-16   \n",
       "\n",
       "                                          title  vote_average  vote_count  \n",
       "0  Harry Potter and the Deathly Hallows: Part 1           7.7       10788  \n",
       "1                      How to Train Your Dragon           7.7        7610  \n",
       "2                                    Iron Man 2           6.8       12368  \n",
       "3                                     Toy Story           7.9       10174  \n",
       "4                                     Inception           8.3       22186  "
      ]
     },
     "execution_count": 7,
     "metadata": {},
     "output_type": "execute_result"
    }
   ],
   "source": [
    "# Load dataset using pandas\n",
    "tmdb_df = pd.read_csv('Data/tmdb.movies.csv')\n",
    "tmdb_df.head()"
   ]
  },
  {
   "cell_type": "code",
   "execution_count": null,
   "metadata": {},
   "outputs": [
    {
     "data": {
      "application/vnd.microsoft.datawrangler.viewer.v0+json": {
       "columns": [
        {
         "name": "index",
         "rawType": "int64",
         "type": "integer"
        },
        {
         "name": "id",
         "rawType": "int64",
         "type": "integer"
        },
        {
         "name": "release_date",
         "rawType": "object",
         "type": "string"
        },
        {
         "name": "movie",
         "rawType": "object",
         "type": "string"
        },
        {
         "name": "production_budget",
         "rawType": "object",
         "type": "string"
        },
        {
         "name": "domestic_gross",
         "rawType": "object",
         "type": "string"
        },
        {
         "name": "worldwide_gross",
         "rawType": "object",
         "type": "string"
        }
       ],
       "conversionMethod": "pd.DataFrame",
       "ref": "753e6697-bbb5-443d-a5db-631993eeaaaa",
       "rows": [
        [
         "0",
         "1",
         "Dec 18, 2009",
         "Avatar",
         "$425,000,000",
         "$760,507,625",
         "$2,776,345,279"
        ],
        [
         "1",
         "2",
         "May 20, 2011",
         "Pirates of the Caribbean: On Stranger Tides",
         "$410,600,000",
         "$241,063,875",
         "$1,045,663,875"
        ],
        [
         "2",
         "3",
         "Jun 7, 2019",
         "Dark Phoenix",
         "$350,000,000",
         "$42,762,350",
         "$149,762,350"
        ],
        [
         "3",
         "4",
         "May 1, 2015",
         "Avengers: Age of Ultron",
         "$330,600,000",
         "$459,005,868",
         "$1,403,013,963"
        ],
        [
         "4",
         "5",
         "Dec 15, 2017",
         "Star Wars Ep. VIII: The Last Jedi",
         "$317,000,000",
         "$620,181,382",
         "$1,316,721,747"
        ]
       ],
       "shape": {
        "columns": 6,
        "rows": 5
       }
      },
      "text/html": [
       "<div>\n",
       "<style scoped>\n",
       "    .dataframe tbody tr th:only-of-type {\n",
       "        vertical-align: middle;\n",
       "    }\n",
       "\n",
       "    .dataframe tbody tr th {\n",
       "        vertical-align: top;\n",
       "    }\n",
       "\n",
       "    .dataframe thead th {\n",
       "        text-align: right;\n",
       "    }\n",
       "</style>\n",
       "<table border=\"1\" class=\"dataframe\">\n",
       "  <thead>\n",
       "    <tr style=\"text-align: right;\">\n",
       "      <th></th>\n",
       "      <th>id</th>\n",
       "      <th>release_date</th>\n",
       "      <th>movie</th>\n",
       "      <th>production_budget</th>\n",
       "      <th>domestic_gross</th>\n",
       "      <th>worldwide_gross</th>\n",
       "    </tr>\n",
       "  </thead>\n",
       "  <tbody>\n",
       "    <tr>\n",
       "      <th>0</th>\n",
       "      <td>1</td>\n",
       "      <td>Dec 18, 2009</td>\n",
       "      <td>Avatar</td>\n",
       "      <td>$425,000,000</td>\n",
       "      <td>$760,507,625</td>\n",
       "      <td>$2,776,345,279</td>\n",
       "    </tr>\n",
       "    <tr>\n",
       "      <th>1</th>\n",
       "      <td>2</td>\n",
       "      <td>May 20, 2011</td>\n",
       "      <td>Pirates of the Caribbean: On Stranger Tides</td>\n",
       "      <td>$410,600,000</td>\n",
       "      <td>$241,063,875</td>\n",
       "      <td>$1,045,663,875</td>\n",
       "    </tr>\n",
       "    <tr>\n",
       "      <th>2</th>\n",
       "      <td>3</td>\n",
       "      <td>Jun 7, 2019</td>\n",
       "      <td>Dark Phoenix</td>\n",
       "      <td>$350,000,000</td>\n",
       "      <td>$42,762,350</td>\n",
       "      <td>$149,762,350</td>\n",
       "    </tr>\n",
       "    <tr>\n",
       "      <th>3</th>\n",
       "      <td>4</td>\n",
       "      <td>May 1, 2015</td>\n",
       "      <td>Avengers: Age of Ultron</td>\n",
       "      <td>$330,600,000</td>\n",
       "      <td>$459,005,868</td>\n",
       "      <td>$1,403,013,963</td>\n",
       "    </tr>\n",
       "    <tr>\n",
       "      <th>4</th>\n",
       "      <td>5</td>\n",
       "      <td>Dec 15, 2017</td>\n",
       "      <td>Star Wars Ep. VIII: The Last Jedi</td>\n",
       "      <td>$317,000,000</td>\n",
       "      <td>$620,181,382</td>\n",
       "      <td>$1,316,721,747</td>\n",
       "    </tr>\n",
       "  </tbody>\n",
       "</table>\n",
       "</div>"
      ],
      "text/plain": [
       "   id  release_date                                        movie  \\\n",
       "0   1  Dec 18, 2009                                       Avatar   \n",
       "1   2  May 20, 2011  Pirates of the Caribbean: On Stranger Tides   \n",
       "2   3   Jun 7, 2019                                 Dark Phoenix   \n",
       "3   4   May 1, 2015                      Avengers: Age of Ultron   \n",
       "4   5  Dec 15, 2017            Star Wars Ep. VIII: The Last Jedi   \n",
       "\n",
       "  production_budget domestic_gross worldwide_gross  \n",
       "0      $425,000,000   $760,507,625  $2,776,345,279  \n",
       "1      $410,600,000   $241,063,875  $1,045,663,875  \n",
       "2      $350,000,000    $42,762,350    $149,762,350  \n",
       "3      $330,600,000   $459,005,868  $1,403,013,963  \n",
       "4      $317,000,000   $620,181,382  $1,316,721,747  "
      ]
     },
     "execution_count": 8,
     "metadata": {},
     "output_type": "execute_result"
    }
   ],
   "source": [
    "# Load dataset using pandas\n",
    "tn_df = pd.read_csv('Data/tn.movie_budgets.csv')\n",
    "tn_df.head()"
   ]
  },
  {
   "cell_type": "markdown",
   "metadata": {},
   "source": [
    "After successfully loading all the datasets using pandas, we are now ready to dive deeper into data exploration. Given that we are working with six distinct datasets and a database, manually using `.info()`, `.describe()`, `.isna()`, and writing separate code blocks to inspect every dataframe would be highly inefficient, tedious and extremely confusing. Moreover, for the `im.db` database, exploring each table one by one through traditional code would have required an overwhelming amount of setup, making the process unnecessarily complex.\n",
    "\n",
    "To overcome this, we identified tools that allowed us to explore our data in a far more efficient and highly visual manner.  \n"
   ]
  },
  {
   "cell_type": "markdown",
   "metadata": {},
   "source": [
    "### *Data Exploration with Data Wrangler and SQLite Viewer*\n",
    "\n",
    "For the initial exploration of our datasets, we utilized two powerful Visual Studio Code extensions: \n",
    "\n",
    "`Data Wrangler` made early-stage data exploration much faster and more intuitive by providing:\n",
    "- Visual summaries of column distributions and data types.\n",
    "- Instant detection of missing values, outliers, and duplicates.\n",
    "- Quick sorting, filtering, and grouping operations without needing to write code.\n",
    "- Profiling of datasets with automated suggestions for cleaning and transformation.\n",
    "\n",
    "`SQLite Viewer` allowed us to efficiently browse the database structure and contents without having to write extensive SQL queries.  \n",
    "With it, we could:\n",
    "- Instantly preview tables, columns, and sample data.\n",
    "- Navigate between tables and their relationships quickly.\n",
    "- Understand data volumes, missing values, and schema designs in a highly visual and interactive way.\n",
    "\n",
    "Using `Data Wrangler` and `SQLite Viewer` streamlined our workflow significantly.  \n",
    "Instead of manually traversing large datasets and databases line-by-line in code, we were able to focus our time on identifying meaningful issues, relationships, and insights\n",
    "\n",
    "<div style=\"white-space: nowrap; overflow-x: auto;\">\n",
    "    <img src=\"images/bom_df.png\" style=\"display: inline-block; height: 500px; margin-right: 10px;\">\n",
    "    <img src=\"images/rt_df.png\" style=\"display: inline-block; height: 500px; margin-right: 10px;\">\n",
    "    <img src=\"images/rt_rev_df.png\" style=\"display: inline-block; height: 500px; margin-right: 10px;\">\n",
    "    <img src=\"images/tmdb_df.png\" style=\"display: inline-block; height: 500px; margin-right: 10px;\">\n",
    "    <img src=\"images/tn_df.png\" style=\"display: inline-block; height: 500px; margin-right: 10px;\">\n",
    "    <img src=\"images/im.db.png\" style=\"display: inline-block; height: 500px; margin-right: 10px;\">\n",
    "</div>\n",
    "\n",
    "After thorough exploration and exhaustive discussion of the datasets, we carefully evaluated the available columns. Based on importance to our project goals and quality, we decided on a final set of columns that would be most effective for a meaningful analysis:\n",
    "\n",
    "- From `rotten_tomatoes`:\n",
    "  - `movie_title`, `genres`, `tomatometer_rating`, `audience_rating`  \n",
    "    → These columns help us evaluate which movie genres tend to receive the highest critical and audience ratings.\n",
    "\n",
    "- From `tmdb`:\n",
    "  - `language`, `popularity`  \n",
    "    → These attributes allow us to investigate how a film's language impacts its popularity and, by extension, potential profitability.\n",
    "\n",
    "- From `the_numbers`:\n",
    "  - `movie`, `production_budget`, `worldwide_gross`  \n",
    "    → These financial figures are crucial for calculating Return on Investment (ROI) and understanding broader profitability patterns across genres.\n",
    "\n",
    "- From `im.db`:\n",
    "  - Extracting and joining data across the `directors`, `persons`, and `movie_akas` tables  \n",
    "    → This allows us to match each director with the correct movie title, enabling the analysis of which directors tend to deliver high foreign box office success.\n",
    "\n",
    "Our data exploration confirmed that the columns we selected had either zero or extremely low missing values and were populated with a wide range of distinct entries, indicating that the data quality was high and free from placeholder values.\n",
    "Even though these are the specific columns we are interested in, it is still necessary to properly prepare and relate the data across different datasets to build a strong foundation for answering the business questions effectively.  \n"
   ]
  },
  {
   "cell_type": "markdown",
   "metadata": {},
   "source": [
    "### Key Notes\n",
    "\n",
    "- **Replacement of Rotten Tomatoes Dataset:**  \n",
    "  We did not use the originally provided Rotten Tomatoes datasets, as they were inadequate for our analysis.  \n",
    "  The main relationship between all datasets is the `movie title`, and the provided Rotten Tomatoes tables were missing the movie title column entirely.  \n",
    "  To ensure consistency and completeness, we imported a more reliable Rotten Tomatoes dataset from [Kaggle](https://www.kaggle.com/datasets/stefanoleone992/rotten-tomatoes-movies-and-critic-reviews-dataset?select=rotten_tomatoes_movies.csv).\n",
    "\n",
    "- **Exclusion of Box Office Mojo and Rotten Tomatoes Critic Reviews:**  \n",
    "  We decided not to use the Box Office Mojo dataset because its information overlapped significantly with The Numbers dataset, which had more complete and reliable financial data.  \n",
    "  Similarly, the Rotten Tomatoes Critic Reviews dataset was not utilized, as the Rotten Tomatoes Movies Info dataset already provided all the necessary critical and audience rating information for our needs.\n"
   ]
  },
  {
   "cell_type": "markdown",
   "metadata": {},
   "source": [
    "## 【2】**Data Preparation & Cleaning**  "
   ]
  },
  {
   "cell_type": "markdown",
   "metadata": {},
   "source": [
    "Before conducting meaningful analysis, it is essential to properly prepare and clean the data. Even though our data exploration confirmed that we are working with high-quality datasets. Since our datasets come from a variety of origins. Preparation involves filtering relevant columns, renaming fields for consistency, handling duplications, and merging datasets where necessary.  "
   ]
  },
  {
   "cell_type": "markdown",
   "metadata": {},
   "source": [
    "### **Preparing Rotten Tomatoes Ratings and Genres Data**\n",
    "\n",
    "To explore the relationship between movie genres, ratings, and their potential connection to success,  \n",
    "we will prepare and clean the `Rotten Tomatoes Movies` dataset. This dataset provides detailed metadata for a wide range of movies collected from the Rotten Tomatoes website, including information that will be essential for answering our business questions regarding audience perception and genre trends."
   ]
  },
  {
   "cell_type": "markdown",
   "metadata": {},
   "source": [
    "#### *Extracting Ratings and Genres Data*\n",
    "\n",
    "We focus on extracting four key columns from the dataset, which are essential for analyzing movie success and audience perception. The columns we are interested in are:\n",
    "\n",
    "- `movie_title`: The title of the movie as listed on Rotten Tomatoes.\n",
    "- `genres`: A comma-separated list of genres assigned to each movie (e.g., Drama, Comedy, Action).\n",
    "- `audience_rating` The average rating given by the audience, typically scored from 0 to 100.\n",
    "- `tomatometer_rating` The percentage of positive critic reviews.\n",
    "\n",
    "When preparing this data, we must be mindful of movies being associated with multiple genres, which requires careful parsing to ensure accurate representation. "
   ]
  },
  {
   "cell_type": "code",
   "execution_count": null,
   "metadata": {},
   "outputs": [
    {
     "data": {
      "application/vnd.microsoft.datawrangler.viewer.v0+json": {
       "columns": [
        {
         "name": "index",
         "rawType": "int64",
         "type": "integer"
        },
        {
         "name": "movie_title",
         "rawType": "object",
         "type": "string"
        },
        {
         "name": "genres",
         "rawType": "object",
         "type": "string"
        },
        {
         "name": "audience_rating",
         "rawType": "float64",
         "type": "float"
        },
        {
         "name": "tomatometer_rating",
         "rawType": "float64",
         "type": "float"
        }
       ],
       "conversionMethod": "pd.DataFrame",
       "ref": "a0eff0f4-6d95-45a1-8bad-aae2b5aeec03",
       "rows": [
        [
         "0",
         "Percy Jackson & the Olympians: The Lightning Thief",
         "Action & Adventure",
         "53.0",
         "49.0"
        ],
        [
         "1",
         "Percy Jackson & the Olympians: The Lightning Thief",
         "Comedy",
         "53.0",
         "49.0"
        ],
        [
         "2",
         "Percy Jackson & the Olympians: The Lightning Thief",
         "Drama",
         "53.0",
         "49.0"
        ],
        [
         "3",
         "Percy Jackson & the Olympians: The Lightning Thief",
         "Science Fiction & Fantasy",
         "53.0",
         "49.0"
        ],
        [
         "4",
         "Please Give",
         "Comedy",
         "64.0",
         "87.0"
        ]
       ],
       "shape": {
        "columns": 4,
        "rows": 5
       }
      },
      "text/html": [
       "<div>\n",
       "<style scoped>\n",
       "    .dataframe tbody tr th:only-of-type {\n",
       "        vertical-align: middle;\n",
       "    }\n",
       "\n",
       "    .dataframe tbody tr th {\n",
       "        vertical-align: top;\n",
       "    }\n",
       "\n",
       "    .dataframe thead th {\n",
       "        text-align: right;\n",
       "    }\n",
       "</style>\n",
       "<table border=\"1\" class=\"dataframe\">\n",
       "  <thead>\n",
       "    <tr style=\"text-align: right;\">\n",
       "      <th></th>\n",
       "      <th>movie_title</th>\n",
       "      <th>genres</th>\n",
       "      <th>audience_rating</th>\n",
       "      <th>tomatometer_rating</th>\n",
       "    </tr>\n",
       "  </thead>\n",
       "  <tbody>\n",
       "    <tr>\n",
       "      <th>0</th>\n",
       "      <td>Percy Jackson &amp; the Olympians: The Lightning T...</td>\n",
       "      <td>Action &amp; Adventure</td>\n",
       "      <td>53.0</td>\n",
       "      <td>49.0</td>\n",
       "    </tr>\n",
       "    <tr>\n",
       "      <th>1</th>\n",
       "      <td>Percy Jackson &amp; the Olympians: The Lightning T...</td>\n",
       "      <td>Comedy</td>\n",
       "      <td>53.0</td>\n",
       "      <td>49.0</td>\n",
       "    </tr>\n",
       "    <tr>\n",
       "      <th>2</th>\n",
       "      <td>Percy Jackson &amp; the Olympians: The Lightning T...</td>\n",
       "      <td>Drama</td>\n",
       "      <td>53.0</td>\n",
       "      <td>49.0</td>\n",
       "    </tr>\n",
       "    <tr>\n",
       "      <th>3</th>\n",
       "      <td>Percy Jackson &amp; the Olympians: The Lightning T...</td>\n",
       "      <td>Science Fiction &amp; Fantasy</td>\n",
       "      <td>53.0</td>\n",
       "      <td>49.0</td>\n",
       "    </tr>\n",
       "    <tr>\n",
       "      <th>4</th>\n",
       "      <td>Please Give</td>\n",
       "      <td>Comedy</td>\n",
       "      <td>64.0</td>\n",
       "      <td>87.0</td>\n",
       "    </tr>\n",
       "  </tbody>\n",
       "</table>\n",
       "</div>"
      ],
      "text/plain": [
       "                                         movie_title  \\\n",
       "0  Percy Jackson & the Olympians: The Lightning T...   \n",
       "1  Percy Jackson & the Olympians: The Lightning T...   \n",
       "2  Percy Jackson & the Olympians: The Lightning T...   \n",
       "3  Percy Jackson & the Olympians: The Lightning T...   \n",
       "4                                        Please Give   \n",
       "\n",
       "                      genres  audience_rating  tomatometer_rating  \n",
       "0         Action & Adventure             53.0                49.0  \n",
       "1                     Comedy             53.0                49.0  \n",
       "2                      Drama             53.0                49.0  \n",
       "3  Science Fiction & Fantasy             53.0                49.0  \n",
       "4                     Comedy             64.0                87.0  "
      ]
     },
     "execution_count": 9,
     "metadata": {},
     "output_type": "execute_result"
    }
   ],
   "source": [
    "# Extracting the relevant columns\n",
    "df_rt = rt_df[[\"movie_title\",\"genres\",\"audience_rating\",\"tomatometer_rating\"]].copy()\n",
    "\n",
    "# Convert the comma-separated string into a list\n",
    "df_rt['genres'] = df_rt['genres'].str.split(', ')\n",
    "\n",
    "# Exploding the genres\n",
    "rt_movies_exploded = df_rt.explode('genres').reset_index(drop=True)\n",
    "rt_movies_exploded.head()"
   ]
  },
  {
   "cell_type": "markdown",
   "metadata": {},
   "source": [
    "We **explode** the `genres` column so that each genre becomes a separate row. This transformation turns one-to-many relationships into one-to-one, making it easier to analyze the data by individual genre. After exploding the column, we should reset the index to clean up the DataFrame and ensure the data is well-organized.\n",
    "\n"
   ]
  },
  {
   "cell_type": "code",
   "execution_count": null,
   "metadata": {},
   "outputs": [
    {
     "name": "stdout",
     "output_type": "stream",
     "text": [
      "main: 17712 rows\n",
      "exploded: 39388 rows\n"
     ]
    }
   ],
   "source": [
    "# Comparing the number of rows for main df and the exploded df \n",
    "print(f\"main: {rt_df.shape[0]} rows\")\n",
    "print(f\"exploded: {rt_movies_exploded.shape[0]} rows\")"
   ]
  },
  {
   "cell_type": "markdown",
   "metadata": {},
   "source": [
    "Comparing the number of rows in the original DataFrame with the number of rows in the exploded DataFrame helps us confirm that multiple genres per movie were successfully separated into individual rows. An increase in the number of rows indicates that the transformation was successful."
   ]
  },
  {
   "cell_type": "code",
   "execution_count": null,
   "metadata": {},
   "outputs": [
    {
     "name": "stdout",
     "output_type": "stream",
     "text": [
      "exploded: 17106 unique values\n",
      "main df: 17106 unique values\n"
     ]
    }
   ],
   "source": [
    "# Seeing if the number of unique movie_title values matches with the main\n",
    "print(f\"exploded: {len(rt_movies_exploded['movie_title'].unique())} unique values\")\n",
    "print(f\"main df: {len(rt_df['movie_title'].unique())} unique values\")"
   ]
  },
  {
   "cell_type": "markdown",
   "metadata": {},
   "source": [
    "We verify that the number of unique `movie_title` entries remain consistent between the original and exploded datasets. This confirms that the process of exploding the genres did not result in any accidental duplication or loss of movies.\n"
   ]
  },
  {
   "cell_type": "markdown",
   "metadata": {},
   "source": [
    "#### *Data Cleaning*\n",
    "\n",
    "From our earlier data exploration, we confirmed that the columns we are focusing on - `genres`, `audience_rating`, and `tomatometer_rating` contain no duplicates or placeholders. Each column has distinct values, ensuring the data is well-structured. However, we also observed that there are between 0% to 1% of missing values in these columns. Since these missing values are minimal, we can handle them appropriately without significantly affecting the accuracy of our cleaned dataset. In this case, dropping these rows will not reduce the dataset's integrity."
   ]
  },
  {
   "cell_type": "code",
   "execution_count": null,
   "metadata": {},
   "outputs": [
    {
     "data": {
      "text/plain": [
       "movie_title           0.000000\n",
       "genres                0.048238\n",
       "audience_rating       1.241495\n",
       "tomatometer_rating    0.233574\n",
       "dtype: float64"
      ]
     },
     "execution_count": 12,
     "metadata": {},
     "output_type": "execute_result"
    }
   ],
   "source": [
    "# Checking if missing values align with data exploration findings\n",
    "(rt_movies_exploded.isna().sum()/len(rt_movies_exploded)*100)"
   ]
  },
  {
   "cell_type": "markdown",
   "metadata": {},
   "source": [
    "Our check confirms that the missing values align with our previous findings. We can now proceed with dropping the rows containing missing values."
   ]
  },
  {
   "cell_type": "code",
   "execution_count": null,
   "metadata": {},
   "outputs": [
    {
     "data": {
      "text/plain": [
       "movie_title           0\n",
       "genres                0\n",
       "audience_rating       0\n",
       "tomatometer_rating    0\n",
       "dtype: int64"
      ]
     },
     "execution_count": 13,
     "metadata": {},
     "output_type": "execute_result"
    }
   ],
   "source": [
    "# Dropping rows with missing values under 'genres', 'audience_rating', and 'tomatometer_rating'\n",
    "rt_movies_exploded_cleaned = (\n",
    "    rt_movies_exploded\n",
    "    .dropna(subset=[\"genres\", \"audience_rating\", \"tomatometer_rating\"])\n",
    "    .reset_index(drop=True)\n",
    ")\n",
    "\n",
    "# Checking if there are any missing values left\n",
    "rt_movies_exploded_cleaned.isna().sum()"
   ]
  },
  {
   "cell_type": "markdown",
   "metadata": {},
   "source": [
    "#### *Checking for Outliers*\n",
    "\n",
    "Outliers can skew our analysis and lead to inaccurate results. Identifying and handling them ensures the data better reflects overall trends.\n",
    "\n",
    "We will use the Interquartile Range (IQR) method to check for outliers:\n",
    "- **IQR = Q3 - Q1**\n",
    "- Any data point below **Q1 - 1.5 * IQR** or above **Q3 + 1.5 * IQR** is considered an outlier.\n",
    "\n",
    "We will apply this logic to `audience_rating` and `tomatometer_rating`\n",
    "\n"
   ]
  },
  {
   "cell_type": "code",
   "execution_count": null,
   "metadata": {},
   "outputs": [
    {
     "name": "stdout",
     "output_type": "stream",
     "text": [
      "There are no outliers in the audience rating column\n",
      "There are no outliers in the tomatometer rating column\n"
     ]
    }
   ],
   "source": [
    "# Checking for outliers\n",
    "def check_outliers(q1,q3,min,max):\n",
    "    iqr=q3-q1\n",
    "    upper_bound=q3+(1.5*iqr)\n",
    "    lower_bound=q1-(1.5*iqr)\n",
    "    if (min>lower_bound) & (max<upper_bound):\n",
    "     return(\"There are no outliers\")\n",
    "    else:\n",
    "     return(\"There are outliers\")\n",
    " \n",
    "# Checking in the audience_rating column\n",
    "print(f\"{check_outliers(q1=46,q3=78,min=0,max=100)} in the audience rating column\")\n",
    "\n",
    "# Checking in the tomatometer_rating column\n",
    "print(f\"{check_outliers(q1=40,q3=86,min=0,max=100)} in the tomatometer rating column\")"
   ]
  },
  {
   "cell_type": "markdown",
   "metadata": {},
   "source": [
    "#### *Standardizing text columns*\n",
    "Standardization helps avoid inconsistencies during grouping, searching, or filtering. (e.g., \"Drama\" and \"drama\" would otherwise be treated differently). We standardize text data by converting `movie_title` and `genres` columns to lowercase.\n"
   ]
  },
  {
   "cell_type": "code",
   "execution_count": null,
   "metadata": {},
   "outputs": [
    {
     "data": {
      "application/vnd.microsoft.datawrangler.viewer.v0+json": {
       "columns": [
        {
         "name": "index",
         "rawType": "int64",
         "type": "integer"
        },
        {
         "name": "movie_title",
         "rawType": "object",
         "type": "string"
        },
        {
         "name": "genres",
         "rawType": "object",
         "type": "string"
        },
        {
         "name": "audience_rating",
         "rawType": "float64",
         "type": "float"
        },
        {
         "name": "tomatometer_rating",
         "rawType": "float64",
         "type": "float"
        }
       ],
       "conversionMethod": "pd.DataFrame",
       "ref": "a9d33162-d4e9-482a-9454-148edfc9a9d5",
       "rows": [
        [
         "0",
         "percy jackson & the olympians: the lightning thief",
         "action & adventure",
         "53.0",
         "49.0"
        ],
        [
         "1",
         "percy jackson & the olympians: the lightning thief",
         "comedy",
         "53.0",
         "49.0"
        ],
        [
         "2",
         "percy jackson & the olympians: the lightning thief",
         "drama",
         "53.0",
         "49.0"
        ],
        [
         "3",
         "percy jackson & the olympians: the lightning thief",
         "science fiction & fantasy",
         "53.0",
         "49.0"
        ],
        [
         "4",
         "please give",
         "comedy",
         "64.0",
         "87.0"
        ]
       ],
       "shape": {
        "columns": 4,
        "rows": 5
       }
      },
      "text/html": [
       "<div>\n",
       "<style scoped>\n",
       "    .dataframe tbody tr th:only-of-type {\n",
       "        vertical-align: middle;\n",
       "    }\n",
       "\n",
       "    .dataframe tbody tr th {\n",
       "        vertical-align: top;\n",
       "    }\n",
       "\n",
       "    .dataframe thead th {\n",
       "        text-align: right;\n",
       "    }\n",
       "</style>\n",
       "<table border=\"1\" class=\"dataframe\">\n",
       "  <thead>\n",
       "    <tr style=\"text-align: right;\">\n",
       "      <th></th>\n",
       "      <th>movie_title</th>\n",
       "      <th>genres</th>\n",
       "      <th>audience_rating</th>\n",
       "      <th>tomatometer_rating</th>\n",
       "    </tr>\n",
       "  </thead>\n",
       "  <tbody>\n",
       "    <tr>\n",
       "      <th>0</th>\n",
       "      <td>percy jackson &amp; the olympians: the lightning t...</td>\n",
       "      <td>action &amp; adventure</td>\n",
       "      <td>53.0</td>\n",
       "      <td>49.0</td>\n",
       "    </tr>\n",
       "    <tr>\n",
       "      <th>1</th>\n",
       "      <td>percy jackson &amp; the olympians: the lightning t...</td>\n",
       "      <td>comedy</td>\n",
       "      <td>53.0</td>\n",
       "      <td>49.0</td>\n",
       "    </tr>\n",
       "    <tr>\n",
       "      <th>2</th>\n",
       "      <td>percy jackson &amp; the olympians: the lightning t...</td>\n",
       "      <td>drama</td>\n",
       "      <td>53.0</td>\n",
       "      <td>49.0</td>\n",
       "    </tr>\n",
       "    <tr>\n",
       "      <th>3</th>\n",
       "      <td>percy jackson &amp; the olympians: the lightning t...</td>\n",
       "      <td>science fiction &amp; fantasy</td>\n",
       "      <td>53.0</td>\n",
       "      <td>49.0</td>\n",
       "    </tr>\n",
       "    <tr>\n",
       "      <th>4</th>\n",
       "      <td>please give</td>\n",
       "      <td>comedy</td>\n",
       "      <td>64.0</td>\n",
       "      <td>87.0</td>\n",
       "    </tr>\n",
       "  </tbody>\n",
       "</table>\n",
       "</div>"
      ],
      "text/plain": [
       "                                         movie_title  \\\n",
       "0  percy jackson & the olympians: the lightning t...   \n",
       "1  percy jackson & the olympians: the lightning t...   \n",
       "2  percy jackson & the olympians: the lightning t...   \n",
       "3  percy jackson & the olympians: the lightning t...   \n",
       "4                                        please give   \n",
       "\n",
       "                      genres  audience_rating  tomatometer_rating  \n",
       "0         action & adventure             53.0                49.0  \n",
       "1                     comedy             53.0                49.0  \n",
       "2                      drama             53.0                49.0  \n",
       "3  science fiction & fantasy             53.0                49.0  \n",
       "4                     comedy             64.0                87.0  "
      ]
     },
     "execution_count": 15,
     "metadata": {},
     "output_type": "execute_result"
    }
   ],
   "source": [
    "# Making sure to work on a copy to avoid the SettingWithCopyWarning\n",
    "rt_movies_exploded_cleaned = rt_movies_exploded_cleaned.copy()\n",
    "\n",
    "# Standardizing columns to lowercase\n",
    "rt_movies_exploded_cleaned[\"genres\"] = rt_movies_exploded_cleaned[\"genres\"].str.lower()\n",
    "rt_movies_exploded_cleaned[\"movie_title\"] = rt_movies_exploded_cleaned[\"movie_title\"].str.lower()\n",
    "\n",
    "rt_movies_exploded_cleaned.head()"
   ]
  },
  {
   "cell_type": "markdown",
   "metadata": {},
   "source": [
    "#### *Aggregating Ratings by Genre*\n",
    "\n",
    "To better understand how different genres perform on average with audiences and critics, we grouped the cleaned dataframe by genre and calculated the mean of both the audience ratings and the tomatometer ratings. This aggregation helps us identify broader trends and preferences across movie genres, rather than focusing on individual movie performances.\n"
   ]
  },
  {
   "cell_type": "code",
   "execution_count": null,
   "metadata": {},
   "outputs": [
    {
     "data": {
      "application/vnd.microsoft.datawrangler.viewer.v0+json": {
       "columns": [
        {
         "name": "index",
         "rawType": "int64",
         "type": "integer"
        },
        {
         "name": "genres",
         "rawType": "object",
         "type": "string"
        },
        {
         "name": "audience_rating",
         "rawType": "float64",
         "type": "float"
        },
        {
         "name": "tomatometer_rating",
         "rawType": "float64",
         "type": "float"
        }
       ],
       "conversionMethod": "pd.DataFrame",
       "ref": "06e7f02c-2ac2-4bb0-bc2d-5abed83095bf",
       "rows": [
        [
         "0",
         "action & adventure",
         "57.9",
         "54.2"
        ],
        [
         "1",
         "animation",
         "65.7",
         "64.1"
        ],
        [
         "2",
         "anime & manga",
         "75.0",
         "75.4"
        ],
        [
         "3",
         "art house & international",
         "66.5",
         "71.0"
        ],
        [
         "4",
         "classics",
         "71.0",
         "78.4"
        ],
        [
         "5",
         "comedy",
         "58.4",
         "55.1"
        ],
        [
         "6",
         "cult movies",
         "55.8",
         "60.5"
        ],
        [
         "7",
         "documentary",
         "73.3",
         "80.9"
        ],
        [
         "8",
         "drama",
         "63.1",
         "63.2"
        ],
        [
         "9",
         "faith & spirituality",
         "70.3",
         "63.9"
        ],
        [
         "10",
         "gay & lesbian",
         "61.5",
         "57.6"
        ],
        [
         "11",
         "horror",
         "46.4",
         "51.6"
        ],
        [
         "12",
         "kids & family",
         "60.3",
         "55.7"
        ],
        [
         "13",
         "musical & performing arts",
         "70.9",
         "71.0"
        ],
        [
         "14",
         "mystery & suspense",
         "54.0",
         "55.3"
        ],
        [
         "15",
         "romance",
         "63.4",
         "60.5"
        ],
        [
         "16",
         "science fiction & fantasy",
         "56.7",
         "55.9"
        ],
        [
         "17",
         "special interest",
         "72.0",
         "77.7"
        ],
        [
         "18",
         "sports & fitness",
         "73.4",
         "71.0"
        ],
        [
         "19",
         "television",
         "66.8",
         "72.4"
        ],
        [
         "20",
         "western",
         "64.6",
         "68.5"
        ]
       ],
       "shape": {
        "columns": 3,
        "rows": 21
       }
      },
      "text/html": [
       "<div>\n",
       "<style scoped>\n",
       "    .dataframe tbody tr th:only-of-type {\n",
       "        vertical-align: middle;\n",
       "    }\n",
       "\n",
       "    .dataframe tbody tr th {\n",
       "        vertical-align: top;\n",
       "    }\n",
       "\n",
       "    .dataframe thead th {\n",
       "        text-align: right;\n",
       "    }\n",
       "</style>\n",
       "<table border=\"1\" class=\"dataframe\">\n",
       "  <thead>\n",
       "    <tr style=\"text-align: right;\">\n",
       "      <th></th>\n",
       "      <th>genres</th>\n",
       "      <th>audience_rating</th>\n",
       "      <th>tomatometer_rating</th>\n",
       "    </tr>\n",
       "  </thead>\n",
       "  <tbody>\n",
       "    <tr>\n",
       "      <th>0</th>\n",
       "      <td>action &amp; adventure</td>\n",
       "      <td>57.9</td>\n",
       "      <td>54.2</td>\n",
       "    </tr>\n",
       "    <tr>\n",
       "      <th>1</th>\n",
       "      <td>animation</td>\n",
       "      <td>65.7</td>\n",
       "      <td>64.1</td>\n",
       "    </tr>\n",
       "    <tr>\n",
       "      <th>2</th>\n",
       "      <td>anime &amp; manga</td>\n",
       "      <td>75.0</td>\n",
       "      <td>75.4</td>\n",
       "    </tr>\n",
       "    <tr>\n",
       "      <th>3</th>\n",
       "      <td>art house &amp; international</td>\n",
       "      <td>66.5</td>\n",
       "      <td>71.0</td>\n",
       "    </tr>\n",
       "    <tr>\n",
       "      <th>4</th>\n",
       "      <td>classics</td>\n",
       "      <td>71.0</td>\n",
       "      <td>78.4</td>\n",
       "    </tr>\n",
       "    <tr>\n",
       "      <th>5</th>\n",
       "      <td>comedy</td>\n",
       "      <td>58.4</td>\n",
       "      <td>55.1</td>\n",
       "    </tr>\n",
       "    <tr>\n",
       "      <th>6</th>\n",
       "      <td>cult movies</td>\n",
       "      <td>55.8</td>\n",
       "      <td>60.5</td>\n",
       "    </tr>\n",
       "    <tr>\n",
       "      <th>7</th>\n",
       "      <td>documentary</td>\n",
       "      <td>73.3</td>\n",
       "      <td>80.9</td>\n",
       "    </tr>\n",
       "    <tr>\n",
       "      <th>8</th>\n",
       "      <td>drama</td>\n",
       "      <td>63.1</td>\n",
       "      <td>63.2</td>\n",
       "    </tr>\n",
       "    <tr>\n",
       "      <th>9</th>\n",
       "      <td>faith &amp; spirituality</td>\n",
       "      <td>70.3</td>\n",
       "      <td>63.9</td>\n",
       "    </tr>\n",
       "    <tr>\n",
       "      <th>10</th>\n",
       "      <td>gay &amp; lesbian</td>\n",
       "      <td>61.5</td>\n",
       "      <td>57.6</td>\n",
       "    </tr>\n",
       "    <tr>\n",
       "      <th>11</th>\n",
       "      <td>horror</td>\n",
       "      <td>46.4</td>\n",
       "      <td>51.6</td>\n",
       "    </tr>\n",
       "    <tr>\n",
       "      <th>12</th>\n",
       "      <td>kids &amp; family</td>\n",
       "      <td>60.3</td>\n",
       "      <td>55.7</td>\n",
       "    </tr>\n",
       "    <tr>\n",
       "      <th>13</th>\n",
       "      <td>musical &amp; performing arts</td>\n",
       "      <td>70.9</td>\n",
       "      <td>71.0</td>\n",
       "    </tr>\n",
       "    <tr>\n",
       "      <th>14</th>\n",
       "      <td>mystery &amp; suspense</td>\n",
       "      <td>54.0</td>\n",
       "      <td>55.3</td>\n",
       "    </tr>\n",
       "    <tr>\n",
       "      <th>15</th>\n",
       "      <td>romance</td>\n",
       "      <td>63.4</td>\n",
       "      <td>60.5</td>\n",
       "    </tr>\n",
       "    <tr>\n",
       "      <th>16</th>\n",
       "      <td>science fiction &amp; fantasy</td>\n",
       "      <td>56.7</td>\n",
       "      <td>55.9</td>\n",
       "    </tr>\n",
       "    <tr>\n",
       "      <th>17</th>\n",
       "      <td>special interest</td>\n",
       "      <td>72.0</td>\n",
       "      <td>77.7</td>\n",
       "    </tr>\n",
       "    <tr>\n",
       "      <th>18</th>\n",
       "      <td>sports &amp; fitness</td>\n",
       "      <td>73.4</td>\n",
       "      <td>71.0</td>\n",
       "    </tr>\n",
       "    <tr>\n",
       "      <th>19</th>\n",
       "      <td>television</td>\n",
       "      <td>66.8</td>\n",
       "      <td>72.4</td>\n",
       "    </tr>\n",
       "    <tr>\n",
       "      <th>20</th>\n",
       "      <td>western</td>\n",
       "      <td>64.6</td>\n",
       "      <td>68.5</td>\n",
       "    </tr>\n",
       "  </tbody>\n",
       "</table>\n",
       "</div>"
      ],
      "text/plain": [
       "                       genres  audience_rating  tomatometer_rating\n",
       "0          action & adventure             57.9                54.2\n",
       "1                   animation             65.7                64.1\n",
       "2               anime & manga             75.0                75.4\n",
       "3   art house & international             66.5                71.0\n",
       "4                    classics             71.0                78.4\n",
       "5                      comedy             58.4                55.1\n",
       "6                 cult movies             55.8                60.5\n",
       "7                 documentary             73.3                80.9\n",
       "8                       drama             63.1                63.2\n",
       "9        faith & spirituality             70.3                63.9\n",
       "10              gay & lesbian             61.5                57.6\n",
       "11                     horror             46.4                51.6\n",
       "12              kids & family             60.3                55.7\n",
       "13  musical & performing arts             70.9                71.0\n",
       "14         mystery & suspense             54.0                55.3\n",
       "15                    romance             63.4                60.5\n",
       "16  science fiction & fantasy             56.7                55.9\n",
       "17           special interest             72.0                77.7\n",
       "18           sports & fitness             73.4                71.0\n",
       "19                 television             66.8                72.4\n",
       "20                    western             64.6                68.5"
      ]
     },
     "execution_count": 16,
     "metadata": {},
     "output_type": "execute_result"
    }
   ],
   "source": [
    "# Grouping by genres and aggregating the mean of audience_rating and tomatometer_rating\n",
    "genre_rating_df = rt_movies_exploded_cleaned.groupby('genres').agg({\n",
    "    'audience_rating': 'mean',\n",
    "    'tomatometer_rating': 'mean'\n",
    "}).reset_index()\n",
    "\n",
    "# Formatting the ratings to show only one decimal place\n",
    "genre_rating_df['audience_rating'] = genre_rating_df['audience_rating'].round(1)\n",
    "genre_rating_df['tomatometer_rating'] = genre_rating_df['tomatometer_rating'].round(1)\n",
    "\n",
    "genre_rating_df"
   ]
  },
  {
   "cell_type": "code",
   "execution_count": null,
   "metadata": {},
   "outputs": [
    {
     "data": {
      "text/plain": [
       "True"
      ]
     },
     "execution_count": 17,
     "metadata": {},
     "output_type": "execute_result"
    }
   ],
   "source": [
    "# Confirming no genres were lost after aggregation\n",
    "len(rt_movies_exploded_cleaned['genres'].value_counts()) == len(genre_rating_df)"
   ]
  },
  {
   "cell_type": "markdown",
   "metadata": {},
   "source": [
    "### **Preparing Genres and ROI Data** \n",
    "\n",
    "In this section, we will focus on preparing two key components: **genres** and **Return on Investment (ROI)**. Both are essential for understanding the financial success and audience preferences of movies.\n",
    "\n",
    "We will use:\n",
    "- `tn.movie_budgets`: This table contains information on the `Production Budget`, `Worldwide Gross`, and the engineered `ROI` column.\n",
    "- `rt_movies`: This table provides the `Genres` associated with each movie.\n",
    "\n",
    "**Genres** provide valuable insight into the themes and categories that resonate most with audiences, while **ROI** helps us assess the profitability of each movie relative to its production cost. By calculating and analyzing ROI alongside genres, we can identify which genres are the most profitable and thus prioritize them for future movie production.\n",
    "\n",
    "\n"
   ]
  },
  {
   "cell_type": "markdown",
   "metadata": {},
   "source": [
    "#### *Merging Appropriate Tables*\n",
    "\n",
    "We will merge the `tn.movie_budgets` dataset (which contains production budgets and worldwide gross revenue) with the `rt_movies` dataset (which includes genre information). The key idea is to join these datasets on the **movie title** to create a consolidated table that includes both **genres** and **ROI** for each movie."
   ]
  },
  {
   "cell_type": "code",
   "execution_count": null,
   "metadata": {},
   "outputs": [
    {
     "data": {
      "application/vnd.microsoft.datawrangler.viewer.v0+json": {
       "columns": [
        {
         "name": "index",
         "rawType": "int64",
         "type": "integer"
        },
        {
         "name": "id",
         "rawType": "int64",
         "type": "integer"
        },
        {
         "name": "release_date",
         "rawType": "object",
         "type": "string"
        },
        {
         "name": "movie",
         "rawType": "object",
         "type": "string"
        },
        {
         "name": "production_budget",
         "rawType": "object",
         "type": "string"
        },
        {
         "name": "domestic_gross",
         "rawType": "object",
         "type": "string"
        },
        {
         "name": "worldwide_gross",
         "rawType": "object",
         "type": "string"
        },
        {
         "name": "genres",
         "rawType": "object",
         "type": "unknown"
        }
       ],
       "conversionMethod": "pd.DataFrame",
       "ref": "65230f6e-9636-4214-abb9-13bef28d7551",
       "rows": [
        [
         "0",
         "1",
         "Dec 18, 2009",
         "avatar",
         "$425,000,000",
         "$760,507,625",
         "$2,776,345,279",
         "Action & Adventure, Comedy, Mystery & Suspense, Science Fiction & Fantasy"
        ],
        [
         "1",
         "2",
         "May 20, 2011",
         "pirates of the caribbean: on stranger tides",
         "$410,600,000",
         "$241,063,875",
         "$1,045,663,875",
         "Action & Adventure, Comedy, Science Fiction & Fantasy"
        ],
        [
         "2",
         "3",
         "Jun 7, 2019",
         "dark phoenix",
         "$350,000,000",
         "$42,762,350",
         "$149,762,350",
         "Action & Adventure, Drama, Science Fiction & Fantasy"
        ],
        [
         "3",
         "4",
         "May 1, 2015",
         "avengers: age of ultron",
         "$330,600,000",
         "$459,005,868",
         "$1,403,013,963",
         "Action & Adventure, Science Fiction & Fantasy"
        ],
        [
         "4",
         "5",
         "Dec 15, 2017",
         "star wars ep. viii: the last jedi",
         "$317,000,000",
         "$620,181,382",
         "$1,316,721,747",
         null
        ]
       ],
       "shape": {
        "columns": 7,
        "rows": 5
       }
      },
      "text/html": [
       "<div>\n",
       "<style scoped>\n",
       "    .dataframe tbody tr th:only-of-type {\n",
       "        vertical-align: middle;\n",
       "    }\n",
       "\n",
       "    .dataframe tbody tr th {\n",
       "        vertical-align: top;\n",
       "    }\n",
       "\n",
       "    .dataframe thead th {\n",
       "        text-align: right;\n",
       "    }\n",
       "</style>\n",
       "<table border=\"1\" class=\"dataframe\">\n",
       "  <thead>\n",
       "    <tr style=\"text-align: right;\">\n",
       "      <th></th>\n",
       "      <th>id</th>\n",
       "      <th>release_date</th>\n",
       "      <th>movie</th>\n",
       "      <th>production_budget</th>\n",
       "      <th>domestic_gross</th>\n",
       "      <th>worldwide_gross</th>\n",
       "      <th>genres</th>\n",
       "    </tr>\n",
       "  </thead>\n",
       "  <tbody>\n",
       "    <tr>\n",
       "      <th>0</th>\n",
       "      <td>1</td>\n",
       "      <td>Dec 18, 2009</td>\n",
       "      <td>avatar</td>\n",
       "      <td>$425,000,000</td>\n",
       "      <td>$760,507,625</td>\n",
       "      <td>$2,776,345,279</td>\n",
       "      <td>Action &amp; Adventure, Comedy, Mystery &amp; Suspense...</td>\n",
       "    </tr>\n",
       "    <tr>\n",
       "      <th>1</th>\n",
       "      <td>2</td>\n",
       "      <td>May 20, 2011</td>\n",
       "      <td>pirates of the caribbean: on stranger tides</td>\n",
       "      <td>$410,600,000</td>\n",
       "      <td>$241,063,875</td>\n",
       "      <td>$1,045,663,875</td>\n",
       "      <td>Action &amp; Adventure, Comedy, Science Fiction &amp; ...</td>\n",
       "    </tr>\n",
       "    <tr>\n",
       "      <th>2</th>\n",
       "      <td>3</td>\n",
       "      <td>Jun 7, 2019</td>\n",
       "      <td>dark phoenix</td>\n",
       "      <td>$350,000,000</td>\n",
       "      <td>$42,762,350</td>\n",
       "      <td>$149,762,350</td>\n",
       "      <td>Action &amp; Adventure, Drama, Science Fiction &amp; F...</td>\n",
       "    </tr>\n",
       "    <tr>\n",
       "      <th>3</th>\n",
       "      <td>4</td>\n",
       "      <td>May 1, 2015</td>\n",
       "      <td>avengers: age of ultron</td>\n",
       "      <td>$330,600,000</td>\n",
       "      <td>$459,005,868</td>\n",
       "      <td>$1,403,013,963</td>\n",
       "      <td>Action &amp; Adventure, Science Fiction &amp; Fantasy</td>\n",
       "    </tr>\n",
       "    <tr>\n",
       "      <th>4</th>\n",
       "      <td>5</td>\n",
       "      <td>Dec 15, 2017</td>\n",
       "      <td>star wars ep. viii: the last jedi</td>\n",
       "      <td>$317,000,000</td>\n",
       "      <td>$620,181,382</td>\n",
       "      <td>$1,316,721,747</td>\n",
       "      <td>NaN</td>\n",
       "    </tr>\n",
       "  </tbody>\n",
       "</table>\n",
       "</div>"
      ],
      "text/plain": [
       "   id  release_date                                        movie  \\\n",
       "0   1  Dec 18, 2009                                       avatar   \n",
       "1   2  May 20, 2011  pirates of the caribbean: on stranger tides   \n",
       "2   3   Jun 7, 2019                                 dark phoenix   \n",
       "3   4   May 1, 2015                      avengers: age of ultron   \n",
       "4   5  Dec 15, 2017            star wars ep. viii: the last jedi   \n",
       "\n",
       "  production_budget domestic_gross worldwide_gross  \\\n",
       "0      $425,000,000   $760,507,625  $2,776,345,279   \n",
       "1      $410,600,000   $241,063,875  $1,045,663,875   \n",
       "2      $350,000,000    $42,762,350    $149,762,350   \n",
       "3      $330,600,000   $459,005,868  $1,403,013,963   \n",
       "4      $317,000,000   $620,181,382  $1,316,721,747   \n",
       "\n",
       "                                              genres  \n",
       "0  Action & Adventure, Comedy, Mystery & Suspense...  \n",
       "1  Action & Adventure, Comedy, Science Fiction & ...  \n",
       "2  Action & Adventure, Drama, Science Fiction & F...  \n",
       "3      Action & Adventure, Science Fiction & Fantasy  \n",
       "4                                                NaN  "
      ]
     },
     "execution_count": 18,
     "metadata": {},
     "output_type": "execute_result"
    }
   ],
   "source": [
    "# Prepare movie titles for better matching (remove special characters, lower case)\n",
    "tn_df['movie'] = tn_df['movie'].str.strip().str.lower()\n",
    "rt_df['movie_title'] = rt_df['movie_title'].str.strip().str.lower()\n",
    "\n",
    "# Merge the datasets on the appropriate columns\n",
    "merged_df = tn_df.merge(rt_df[['movie_title', 'genres']], left_on='movie', right_on='movie_title', how='left')\n",
    "\n",
    "# Drop duplicate movie_title column if you want\n",
    "merged_df = merged_df.drop(columns=['movie_title'])\n",
    "\n",
    "merged_df.head()"
   ]
  },
  {
   "cell_type": "markdown",
   "metadata": {},
   "source": [
    "#### *ROI Computation*\n",
    "\n",
    "In this step, we aim to calculate the **Return on Investment (ROI)** for each movie. ROI is a key financial metric that helps us assess the profitability of a film relative to its production cost. By calculating the ROI for each movie, we can better understand which films have been the most financially successful and use that insight to inform future production decisions.\n",
    "\n",
    "The calculation of ROI will be based on the formula:\n",
    "\n",
    "**ROI = (Worldwide Gross - Production Budget) ÷ Production Budget × 100**\n"
   ]
  },
  {
   "cell_type": "code",
   "execution_count": null,
   "metadata": {},
   "outputs": [
    {
     "data": {
      "application/vnd.microsoft.datawrangler.viewer.v0+json": {
       "columns": [
        {
         "name": "index",
         "rawType": "int64",
         "type": "integer"
        },
        {
         "name": "genres",
         "rawType": "object",
         "type": "unknown"
        },
        {
         "name": "movie",
         "rawType": "object",
         "type": "string"
        },
        {
         "name": "production_budget",
         "rawType": "float64",
         "type": "float"
        },
        {
         "name": "worldwide_gross",
         "rawType": "float64",
         "type": "float"
        },
        {
         "name": "ROI (%)",
         "rawType": "float64",
         "type": "float"
        }
       ],
       "conversionMethod": "pd.DataFrame",
       "ref": "c9e5a3b4-dc6a-4dfc-86cc-3d6209541dbc",
       "rows": [
        [
         "0",
         "Action & Adventure, Comedy, Mystery & Suspense, Science Fiction & Fantasy",
         "avatar",
         "425000000.0",
         "2776345279.0",
         "553.0"
        ],
        [
         "1",
         "Action & Adventure, Comedy, Science Fiction & Fantasy",
         "pirates of the caribbean: on stranger tides",
         "410600000.0",
         "1045663875.0",
         "155.0"
        ],
        [
         "2",
         "Action & Adventure, Drama, Science Fiction & Fantasy",
         "dark phoenix",
         "350000000.0",
         "149762350.0",
         "-57.0"
        ],
        [
         "3",
         "Action & Adventure, Science Fiction & Fantasy",
         "avengers: age of ultron",
         "330600000.0",
         "1403013963.0",
         "324.0"
        ],
        [
         "4",
         null,
         "star wars ep. viii: the last jedi",
         "317000000.0",
         "1316721747.0",
         "315.0"
        ]
       ],
       "shape": {
        "columns": 5,
        "rows": 5
       }
      },
      "text/html": [
       "<div>\n",
       "<style scoped>\n",
       "    .dataframe tbody tr th:only-of-type {\n",
       "        vertical-align: middle;\n",
       "    }\n",
       "\n",
       "    .dataframe tbody tr th {\n",
       "        vertical-align: top;\n",
       "    }\n",
       "\n",
       "    .dataframe thead th {\n",
       "        text-align: right;\n",
       "    }\n",
       "</style>\n",
       "<table border=\"1\" class=\"dataframe\">\n",
       "  <thead>\n",
       "    <tr style=\"text-align: right;\">\n",
       "      <th></th>\n",
       "      <th>genres</th>\n",
       "      <th>movie</th>\n",
       "      <th>production_budget</th>\n",
       "      <th>worldwide_gross</th>\n",
       "      <th>ROI (%)</th>\n",
       "    </tr>\n",
       "  </thead>\n",
       "  <tbody>\n",
       "    <tr>\n",
       "      <th>0</th>\n",
       "      <td>Action &amp; Adventure, Comedy, Mystery &amp; Suspense...</td>\n",
       "      <td>avatar</td>\n",
       "      <td>425000000.0</td>\n",
       "      <td>2.776345e+09</td>\n",
       "      <td>553.0</td>\n",
       "    </tr>\n",
       "    <tr>\n",
       "      <th>1</th>\n",
       "      <td>Action &amp; Adventure, Comedy, Science Fiction &amp; ...</td>\n",
       "      <td>pirates of the caribbean: on stranger tides</td>\n",
       "      <td>410600000.0</td>\n",
       "      <td>1.045664e+09</td>\n",
       "      <td>155.0</td>\n",
       "    </tr>\n",
       "    <tr>\n",
       "      <th>2</th>\n",
       "      <td>Action &amp; Adventure, Drama, Science Fiction &amp; F...</td>\n",
       "      <td>dark phoenix</td>\n",
       "      <td>350000000.0</td>\n",
       "      <td>1.497624e+08</td>\n",
       "      <td>-57.0</td>\n",
       "    </tr>\n",
       "    <tr>\n",
       "      <th>3</th>\n",
       "      <td>Action &amp; Adventure, Science Fiction &amp; Fantasy</td>\n",
       "      <td>avengers: age of ultron</td>\n",
       "      <td>330600000.0</td>\n",
       "      <td>1.403014e+09</td>\n",
       "      <td>324.0</td>\n",
       "    </tr>\n",
       "    <tr>\n",
       "      <th>4</th>\n",
       "      <td>NaN</td>\n",
       "      <td>star wars ep. viii: the last jedi</td>\n",
       "      <td>317000000.0</td>\n",
       "      <td>1.316722e+09</td>\n",
       "      <td>315.0</td>\n",
       "    </tr>\n",
       "  </tbody>\n",
       "</table>\n",
       "</div>"
      ],
      "text/plain": [
       "                                              genres  \\\n",
       "0  Action & Adventure, Comedy, Mystery & Suspense...   \n",
       "1  Action & Adventure, Comedy, Science Fiction & ...   \n",
       "2  Action & Adventure, Drama, Science Fiction & F...   \n",
       "3      Action & Adventure, Science Fiction & Fantasy   \n",
       "4                                                NaN   \n",
       "\n",
       "                                         movie  production_budget  \\\n",
       "0                                       avatar        425000000.0   \n",
       "1  pirates of the caribbean: on stranger tides        410600000.0   \n",
       "2                                 dark phoenix        350000000.0   \n",
       "3                      avengers: age of ultron        330600000.0   \n",
       "4            star wars ep. viii: the last jedi        317000000.0   \n",
       "\n",
       "   worldwide_gross  ROI (%)  \n",
       "0     2.776345e+09    553.0  \n",
       "1     1.045664e+09    155.0  \n",
       "2     1.497624e+08    -57.0  \n",
       "3     1.403014e+09    324.0  \n",
       "4     1.316722e+09    315.0  "
      ]
     },
     "execution_count": 19,
     "metadata": {},
     "output_type": "execute_result"
    }
   ],
   "source": [
    "# Clean up the dollar signs and commas and convert columns to numeric\n",
    "merged_df['production_budget'] = merged_df['production_budget'].replace([r'[\\$,]'], '', regex=True).astype(float)\n",
    "merged_df['worldwide_gross'] = merged_df['worldwide_gross'].replace([r'[\\$,]'], '', regex=True).astype(float)\n",
    "\n",
    "# Calculate ROI\n",
    "merged_df['ROI (%)'] = ((merged_df['worldwide_gross'] - merged_df['production_budget']) / merged_df['production_budget']) * 100\n",
    "\n",
    "# Round ROI to nearest whole number\n",
    "merged_df['ROI (%)'] = merged_df['ROI (%)'].round()\n",
    "\n",
    "# Group by 'movie' and calculate the mean ROI (though each movie is unique here)\n",
    "roi_grouped = merged_df.groupby('movie')[['ROI (%)']].mean().reset_index()\n",
    "\n",
    "# Final table: Comparison between genres and the grouped movie ROI, while keeping the production_budget and worldwide_gross columns\n",
    "final_table = merged_df[['genres', 'movie', 'production_budget', 'worldwide_gross']].merge(roi_grouped, on='movie')\n",
    "\n",
    "final_table.head()"
   ]
  },
  {
   "cell_type": "markdown",
   "metadata": {},
   "source": [
    "#### Handling Missing Values "
   ]
  },
  {
   "cell_type": "code",
   "execution_count": null,
   "metadata": {},
   "outputs": [
    {
     "data": {
      "text/plain": [
       "genres               1264\n",
       "movie                   0\n",
       "production_budget       0\n",
       "worldwide_gross         0\n",
       "ROI (%)                 0\n",
       "dtype: int64"
      ]
     },
     "execution_count": 20,
     "metadata": {},
     "output_type": "execute_result"
    }
   ],
   "source": [
    "final_table.isna().sum()"
   ]
  },
  {
   "cell_type": "markdown",
   "metadata": {},
   "source": [
    "Since the `genres` column has 1264 missing values and is crucial for our analysis, we will drop these rows as they do not provide useful information for our objectives."
   ]
  },
  {
   "cell_type": "code",
   "execution_count": null,
   "metadata": {},
   "outputs": [],
   "source": [
    "final_table.dropna(subset=['genres'], inplace=True)"
   ]
  },
  {
   "cell_type": "markdown",
   "metadata": {},
   "source": [
    "#### *Expanding Movies into Individual Genres*\n",
    "\n",
    "We aim to break down each movie's genre information to better understand how individual genres contribute to a movie's success. Since movies can belong to multiple genres, expanding the dataset to reflect each genre individually will allow us to analyze the performance of each genre separately.\n",
    "\n",
    "By doing so, we can identify which genres tend to perform better financially and make more informed decisions about which genres to prioritize in future film productions.\n"
   ]
  },
  {
   "cell_type": "code",
   "execution_count": null,
   "metadata": {},
   "outputs": [
    {
     "data": {
      "application/vnd.microsoft.datawrangler.viewer.v0+json": {
       "columns": [
        {
         "name": "index",
         "rawType": "int64",
         "type": "integer"
        },
        {
         "name": "genres",
         "rawType": "object",
         "type": "string"
        },
        {
         "name": "movie",
         "rawType": "object",
         "type": "string"
        },
        {
         "name": "production_budget",
         "rawType": "float64",
         "type": "float"
        },
        {
         "name": "worldwide_gross",
         "rawType": "float64",
         "type": "float"
        },
        {
         "name": "ROI (%)",
         "rawType": "float64",
         "type": "float"
        }
       ],
       "conversionMethod": "pd.DataFrame",
       "ref": "f23d309f-691e-4050-9280-f035aa9a8e6b",
       "rows": [
        [
         "0",
         "Action & Adventure",
         "avatar",
         "425000000.0",
         "2776345279.0",
         "553.0"
        ],
        [
         "0",
         "Comedy",
         "avatar",
         "425000000.0",
         "2776345279.0",
         "553.0"
        ],
        [
         "0",
         "Mystery & Suspense",
         "avatar",
         "425000000.0",
         "2776345279.0",
         "553.0"
        ],
        [
         "0",
         "Science Fiction & Fantasy",
         "avatar",
         "425000000.0",
         "2776345279.0",
         "553.0"
        ],
        [
         "1",
         "Action & Adventure",
         "pirates of the caribbean: on stranger tides",
         "410600000.0",
         "1045663875.0",
         "155.0"
        ],
        [
         "1",
         "Comedy",
         "pirates of the caribbean: on stranger tides",
         "410600000.0",
         "1045663875.0",
         "155.0"
        ],
        [
         "1",
         "Science Fiction & Fantasy",
         "pirates of the caribbean: on stranger tides",
         "410600000.0",
         "1045663875.0",
         "155.0"
        ],
        [
         "2",
         "Action & Adventure",
         "dark phoenix",
         "350000000.0",
         "149762350.0",
         "-57.0"
        ],
        [
         "2",
         "Drama",
         "dark phoenix",
         "350000000.0",
         "149762350.0",
         "-57.0"
        ],
        [
         "2",
         "Science Fiction & Fantasy",
         "dark phoenix",
         "350000000.0",
         "149762350.0",
         "-57.0"
        ],
        [
         "3",
         "Action & Adventure",
         "avengers: age of ultron",
         "330600000.0",
         "1403013963.0",
         "324.0"
        ],
        [
         "3",
         "Science Fiction & Fantasy",
         "avengers: age of ultron",
         "330600000.0",
         "1403013963.0",
         "324.0"
        ],
        [
         "6",
         "Action & Adventure",
         "avengers: infinity war",
         "300000000.0",
         "2048134200.0",
         "583.0"
        ],
        [
         "6",
         "Science Fiction & Fantasy",
         "avengers: infinity war",
         "300000000.0",
         "2048134200.0",
         "583.0"
        ],
        [
         "8",
         "Action & Adventure",
         "justice league",
         "300000000.0",
         "655945209.0",
         "119.0"
        ],
        [
         "8",
         "Drama",
         "justice league",
         "300000000.0",
         "655945209.0",
         "119.0"
        ],
        [
         "8",
         "Science Fiction & Fantasy",
         "justice league",
         "300000000.0",
         "655945209.0",
         "119.0"
        ],
        [
         "9",
         "Action & Adventure",
         "spectre",
         "300000000.0",
         "879620923.0",
         "193.0"
        ],
        [
         "10",
         "Action & Adventure",
         "the dark knight rises",
         "275000000.0",
         "1084439099.0",
         "294.0"
        ],
        [
         "10",
         "Drama",
         "the dark knight rises",
         "275000000.0",
         "1084439099.0",
         "294.0"
        ],
        [
         "10",
         "Mystery & Suspense",
         "the dark knight rises",
         "275000000.0",
         "1084439099.0",
         "294.0"
        ],
        [
         "11",
         "Action & Adventure",
         "solo: a star wars story",
         "275000000.0",
         "393151347.0",
         "43.0"
        ],
        [
         "11",
         "Drama",
         "solo: a star wars story",
         "275000000.0",
         "393151347.0",
         "43.0"
        ],
        [
         "11",
         "Science Fiction & Fantasy",
         "solo: a star wars story",
         "275000000.0",
         "393151347.0",
         "43.0"
        ],
        [
         "12",
         "Action & Adventure",
         "the lone ranger",
         "275000000.0",
         "260002115.0",
         "-5.0"
        ],
        [
         "12",
         "Kids & Family",
         "the lone ranger",
         "275000000.0",
         "260002115.0",
         "-5.0"
        ],
        [
         "12",
         "Western",
         "the lone ranger",
         "275000000.0",
         "260002115.0",
         "-5.0"
        ],
        [
         "13",
         "Action & Adventure",
         "john carter",
         "275000000.0",
         "282778100.0",
         "3.0"
        ],
        [
         "13",
         "Horror",
         "john carter",
         "275000000.0",
         "282778100.0",
         "3.0"
        ],
        [
         "13",
         "Kids & Family",
         "john carter",
         "275000000.0",
         "282778100.0",
         "3.0"
        ],
        [
         "13",
         "Science Fiction & Fantasy",
         "john carter",
         "275000000.0",
         "282778100.0",
         "3.0"
        ],
        [
         "14",
         "Animation",
         "tangled",
         "260000000.0",
         "586477240.0",
         "126.0"
        ],
        [
         "14",
         "Comedy",
         "tangled",
         "260000000.0",
         "586477240.0",
         "126.0"
        ],
        [
         "14",
         "Kids & Family",
         "tangled",
         "260000000.0",
         "586477240.0",
         "126.0"
        ],
        [
         "14",
         "Musical & Performing Arts",
         "tangled",
         "260000000.0",
         "586477240.0",
         "126.0"
        ],
        [
         "15",
         "Action & Adventure",
         "spider-man 3",
         "258000000.0",
         "894860230.0",
         "247.0"
        ],
        [
         "15",
         "Mystery & Suspense",
         "spider-man 3",
         "258000000.0",
         "894860230.0",
         "247.0"
        ],
        [
         "15",
         "Science Fiction & Fantasy",
         "spider-man 3",
         "258000000.0",
         "894860230.0",
         "247.0"
        ],
        [
         "16",
         "Action & Adventure",
         "captain america: civil war",
         "250000000.0",
         "1140069413.0",
         "356.0"
        ],
        [
         "16",
         "Science Fiction & Fantasy",
         "captain america: civil war",
         "250000000.0",
         "1140069413.0",
         "356.0"
        ],
        [
         "17",
         "Action & Adventure",
         "batman v superman: dawn of justice",
         "250000000.0",
         "867500281.0",
         "247.0"
        ],
        [
         "17",
         "Science Fiction & Fantasy",
         "batman v superman: dawn of justice",
         "250000000.0",
         "867500281.0",
         "247.0"
        ],
        [
         "18",
         "Action & Adventure",
         "the hobbit: an unexpected journey",
         "250000000.0",
         "1017003568.0",
         "307.0"
        ],
        [
         "18",
         "Science Fiction & Fantasy",
         "the hobbit: an unexpected journey",
         "250000000.0",
         "1017003568.0",
         "307.0"
        ],
        [
         "19",
         "Action & Adventure",
         "harry potter and the half-blood prince",
         "250000000.0",
         "935213767.0",
         "274.0"
        ],
        [
         "19",
         "Drama",
         "harry potter and the half-blood prince",
         "250000000.0",
         "935213767.0",
         "274.0"
        ],
        [
         "19",
         "Kids & Family",
         "harry potter and the half-blood prince",
         "250000000.0",
         "935213767.0",
         "274.0"
        ],
        [
         "19",
         "Mystery & Suspense",
         "harry potter and the half-blood prince",
         "250000000.0",
         "935213767.0",
         "274.0"
        ],
        [
         "19",
         "Science Fiction & Fantasy",
         "harry potter and the half-blood prince",
         "250000000.0",
         "935213767.0",
         "274.0"
        ],
        [
         "20",
         "Action & Adventure",
         "the hobbit: the desolation of smaug",
         "250000000.0",
         "960366855.0",
         "284.0"
        ]
       ],
       "shape": {
        "columns": 5,
        "rows": 10909
       }
      },
      "text/html": [
       "<div>\n",
       "<style scoped>\n",
       "    .dataframe tbody tr th:only-of-type {\n",
       "        vertical-align: middle;\n",
       "    }\n",
       "\n",
       "    .dataframe tbody tr th {\n",
       "        vertical-align: top;\n",
       "    }\n",
       "\n",
       "    .dataframe thead th {\n",
       "        text-align: right;\n",
       "    }\n",
       "</style>\n",
       "<table border=\"1\" class=\"dataframe\">\n",
       "  <thead>\n",
       "    <tr style=\"text-align: right;\">\n",
       "      <th></th>\n",
       "      <th>genres</th>\n",
       "      <th>movie</th>\n",
       "      <th>production_budget</th>\n",
       "      <th>worldwide_gross</th>\n",
       "      <th>ROI (%)</th>\n",
       "    </tr>\n",
       "  </thead>\n",
       "  <tbody>\n",
       "    <tr>\n",
       "      <th>0</th>\n",
       "      <td>Action &amp; Adventure</td>\n",
       "      <td>avatar</td>\n",
       "      <td>425000000.0</td>\n",
       "      <td>2.776345e+09</td>\n",
       "      <td>553.0</td>\n",
       "    </tr>\n",
       "    <tr>\n",
       "      <th>0</th>\n",
       "      <td>Comedy</td>\n",
       "      <td>avatar</td>\n",
       "      <td>425000000.0</td>\n",
       "      <td>2.776345e+09</td>\n",
       "      <td>553.0</td>\n",
       "    </tr>\n",
       "    <tr>\n",
       "      <th>0</th>\n",
       "      <td>Mystery &amp; Suspense</td>\n",
       "      <td>avatar</td>\n",
       "      <td>425000000.0</td>\n",
       "      <td>2.776345e+09</td>\n",
       "      <td>553.0</td>\n",
       "    </tr>\n",
       "    <tr>\n",
       "      <th>0</th>\n",
       "      <td>Science Fiction &amp; Fantasy</td>\n",
       "      <td>avatar</td>\n",
       "      <td>425000000.0</td>\n",
       "      <td>2.776345e+09</td>\n",
       "      <td>553.0</td>\n",
       "    </tr>\n",
       "    <tr>\n",
       "      <th>1</th>\n",
       "      <td>Action &amp; Adventure</td>\n",
       "      <td>pirates of the caribbean: on stranger tides</td>\n",
       "      <td>410600000.0</td>\n",
       "      <td>1.045664e+09</td>\n",
       "      <td>155.0</td>\n",
       "    </tr>\n",
       "    <tr>\n",
       "      <th>...</th>\n",
       "      <td>...</td>\n",
       "      <td>...</td>\n",
       "      <td>...</td>\n",
       "      <td>...</td>\n",
       "      <td>...</td>\n",
       "    </tr>\n",
       "    <tr>\n",
       "      <th>6223</th>\n",
       "      <td>Mystery &amp; Suspense</td>\n",
       "      <td>following</td>\n",
       "      <td>6000.0</td>\n",
       "      <td>2.404950e+05</td>\n",
       "      <td>3908.0</td>\n",
       "    </tr>\n",
       "    <tr>\n",
       "      <th>6226</th>\n",
       "      <td>Comedy</td>\n",
       "      <td>my date with drew</td>\n",
       "      <td>1100.0</td>\n",
       "      <td>1.810410e+05</td>\n",
       "      <td>16358.0</td>\n",
       "    </tr>\n",
       "    <tr>\n",
       "      <th>6226</th>\n",
       "      <td>Documentary</td>\n",
       "      <td>my date with drew</td>\n",
       "      <td>1100.0</td>\n",
       "      <td>1.810410e+05</td>\n",
       "      <td>16358.0</td>\n",
       "    </tr>\n",
       "    <tr>\n",
       "      <th>6226</th>\n",
       "      <td>Special Interest</td>\n",
       "      <td>my date with drew</td>\n",
       "      <td>1100.0</td>\n",
       "      <td>1.810410e+05</td>\n",
       "      <td>16358.0</td>\n",
       "    </tr>\n",
       "    <tr>\n",
       "      <th>6226</th>\n",
       "      <td>Television</td>\n",
       "      <td>my date with drew</td>\n",
       "      <td>1100.0</td>\n",
       "      <td>1.810410e+05</td>\n",
       "      <td>16358.0</td>\n",
       "    </tr>\n",
       "  </tbody>\n",
       "</table>\n",
       "<p>10909 rows × 5 columns</p>\n",
       "</div>"
      ],
      "text/plain": [
       "                         genres                                        movie  \\\n",
       "0            Action & Adventure                                       avatar   \n",
       "0                        Comedy                                       avatar   \n",
       "0            Mystery & Suspense                                       avatar   \n",
       "0     Science Fiction & Fantasy                                       avatar   \n",
       "1            Action & Adventure  pirates of the caribbean: on stranger tides   \n",
       "...                         ...                                          ...   \n",
       "6223         Mystery & Suspense                                    following   \n",
       "6226                     Comedy                            my date with drew   \n",
       "6226                Documentary                            my date with drew   \n",
       "6226           Special Interest                            my date with drew   \n",
       "6226                 Television                            my date with drew   \n",
       "\n",
       "      production_budget  worldwide_gross  ROI (%)  \n",
       "0           425000000.0     2.776345e+09    553.0  \n",
       "0           425000000.0     2.776345e+09    553.0  \n",
       "0           425000000.0     2.776345e+09    553.0  \n",
       "0           425000000.0     2.776345e+09    553.0  \n",
       "1           410600000.0     1.045664e+09    155.0  \n",
       "...                 ...              ...      ...  \n",
       "6223             6000.0     2.404950e+05   3908.0  \n",
       "6226             1100.0     1.810410e+05  16358.0  \n",
       "6226             1100.0     1.810410e+05  16358.0  \n",
       "6226             1100.0     1.810410e+05  16358.0  \n",
       "6226             1100.0     1.810410e+05  16358.0  \n",
       "\n",
       "[10909 rows x 5 columns]"
      ]
     },
     "execution_count": 22,
     "metadata": {},
     "output_type": "execute_result"
    }
   ],
   "source": [
    "# Split genres into a list\n",
    "final_table['genres'] = final_table['genres'].str.split(',')\n",
    "\n",
    "# Explode the list into separate rows\n",
    "exploded_table = final_table.explode('genres')\n",
    "\n",
    "# Remove extra spaces around genre names\n",
    "exploded_table['genres'] = exploded_table['genres'].str.strip()\n",
    "exploded_table"
   ]
  },
  {
   "cell_type": "markdown",
   "metadata": {},
   "source": [
    "#### *Cleaning and Grouping by Genres*\n",
    "\n",
    "We aim to clean the data and group the movies by their genres to calculate the average Return on Investment (ROI) for each genre. Cleaning the data ensures that we remove any rows with missing or invalid information, which could distort our analysis. Sorting the data by ROI will help us identify the top-performing genres, providing valuable information for future movie production decisions.\n"
   ]
  },
  {
   "cell_type": "code",
   "execution_count": null,
   "metadata": {},
   "outputs": [
    {
     "data": {
      "application/vnd.microsoft.datawrangler.viewer.v0+json": {
       "columns": [
        {
         "name": "index",
         "rawType": "int64",
         "type": "integer"
        },
        {
         "name": "genres",
         "rawType": "object",
         "type": "string"
        },
        {
         "name": "ROI (%)",
         "rawType": "float64",
         "type": "float"
        },
        {
         "name": "production_budget",
         "rawType": "float64",
         "type": "float"
        },
        {
         "name": "worldwide_gross",
         "rawType": "float64",
         "type": "float"
        }
       ],
       "conversionMethod": "pd.DataFrame",
       "ref": "b337a589-e83e-47fe-b470-abced7ffdec4",
       "rows": [
        [
         "0",
         "Cult Movies",
         "4669.958333333333",
         "25458458.333333332",
         "82534667.79166667"
        ],
        [
         "1",
         "Horror",
         "975.2982171799027",
         "24644058.346839547",
         "77167843.10048622"
        ],
        [
         "2",
         "Special Interest",
         "932.2096774193549",
         "12172355.64516129",
         "32016139.822580647"
        ],
        [
         "3",
         "Documentary",
         "868.5864661654135",
         "13238790.22556391",
         "31994232.69924812"
        ],
        [
         "4",
         "Classics",
         "839.8736842105263",
         "31864089.961403508",
         "103425171.41403508"
        ]
       ],
       "shape": {
        "columns": 4,
        "rows": 5
       }
      },
      "text/html": [
       "<div>\n",
       "<style scoped>\n",
       "    .dataframe tbody tr th:only-of-type {\n",
       "        vertical-align: middle;\n",
       "    }\n",
       "\n",
       "    .dataframe tbody tr th {\n",
       "        vertical-align: top;\n",
       "    }\n",
       "\n",
       "    .dataframe thead th {\n",
       "        text-align: right;\n",
       "    }\n",
       "</style>\n",
       "<table border=\"1\" class=\"dataframe\">\n",
       "  <thead>\n",
       "    <tr style=\"text-align: right;\">\n",
       "      <th></th>\n",
       "      <th>genres</th>\n",
       "      <th>ROI (%)</th>\n",
       "      <th>production_budget</th>\n",
       "      <th>worldwide_gross</th>\n",
       "    </tr>\n",
       "  </thead>\n",
       "  <tbody>\n",
       "    <tr>\n",
       "      <th>0</th>\n",
       "      <td>Cult Movies</td>\n",
       "      <td>4669.958333</td>\n",
       "      <td>2.545846e+07</td>\n",
       "      <td>8.253467e+07</td>\n",
       "    </tr>\n",
       "    <tr>\n",
       "      <th>1</th>\n",
       "      <td>Horror</td>\n",
       "      <td>975.298217</td>\n",
       "      <td>2.464406e+07</td>\n",
       "      <td>7.716784e+07</td>\n",
       "    </tr>\n",
       "    <tr>\n",
       "      <th>2</th>\n",
       "      <td>Special Interest</td>\n",
       "      <td>932.209677</td>\n",
       "      <td>1.217236e+07</td>\n",
       "      <td>3.201614e+07</td>\n",
       "    </tr>\n",
       "    <tr>\n",
       "      <th>3</th>\n",
       "      <td>Documentary</td>\n",
       "      <td>868.586466</td>\n",
       "      <td>1.323879e+07</td>\n",
       "      <td>3.199423e+07</td>\n",
       "    </tr>\n",
       "    <tr>\n",
       "      <th>4</th>\n",
       "      <td>Classics</td>\n",
       "      <td>839.873684</td>\n",
       "      <td>3.186409e+07</td>\n",
       "      <td>1.034252e+08</td>\n",
       "    </tr>\n",
       "  </tbody>\n",
       "</table>\n",
       "</div>"
      ],
      "text/plain": [
       "             genres      ROI (%)  production_budget  worldwide_gross\n",
       "0       Cult Movies  4669.958333       2.545846e+07     8.253467e+07\n",
       "1            Horror   975.298217       2.464406e+07     7.716784e+07\n",
       "2  Special Interest   932.209677       1.217236e+07     3.201614e+07\n",
       "3       Documentary   868.586466       1.323879e+07     3.199423e+07\n",
       "4          Classics   839.873684       3.186409e+07     1.034252e+08"
      ]
     },
     "execution_count": 23,
     "metadata": {},
     "output_type": "execute_result"
    }
   ],
   "source": [
    "# Drop rows with NULLs in important columns\n",
    "exploded_table = exploded_table.dropna(subset=['genres', 'movie', 'ROI (%)'])\n",
    "\n",
    "# Group by 'genres' and calculate average ROI, production_budget, and worldwide_gross\n",
    "grouped_table = exploded_table.groupby('genres').agg({\n",
    "    'ROI (%)': 'mean',              # Average ROI\n",
    "    'production_budget': 'mean',    # Average production_budget\n",
    "    'worldwide_gross': 'mean'       # Average worldwide_gross\n",
    "}).reset_index()\n",
    "\n",
    "# Sort by ROI in descending order\n",
    "grouped_table = grouped_table.sort_values(by='ROI (%)', ascending=False)\n",
    "\n",
    "# Reset index to clean it up\n",
    "grouped_table = grouped_table.reset_index(drop=True)\n",
    "\n",
    "grouped_table.head()"
   ]
  },
  {
   "cell_type": "markdown",
   "metadata": {},
   "source": [
    "#### *Normalise ROI*\n",
    "To allow for better comparison across genres, we normalize the ROI (%) values so they collectively sum to 100%. This helps us interpret each genre's contribution to the total ROI as a percentage share. "
   ]
  },
  {
   "cell_type": "code",
   "execution_count": null,
   "metadata": {},
   "outputs": [
    {
     "data": {
      "application/vnd.microsoft.datawrangler.viewer.v0+json": {
       "columns": [
        {
         "name": "index",
         "rawType": "int64",
         "type": "integer"
        },
        {
         "name": "genres",
         "rawType": "object",
         "type": "string"
        },
        {
         "name": "ROI (%)",
         "rawType": "float64",
         "type": "float"
        },
        {
         "name": "production_budget",
         "rawType": "float64",
         "type": "float"
        },
        {
         "name": "worldwide_gross",
         "rawType": "float64",
         "type": "float"
        },
        {
         "name": "normalized_ROI",
         "rawType": "float64",
         "type": "float"
        }
       ],
       "conversionMethod": "pd.DataFrame",
       "ref": "9eb64ecc-3da9-4f46-b331-891898822300",
       "rows": [
        [
         "0",
         "Cult Movies",
         "4669.958333333333",
         "25458458.333333332",
         "82534667.79166667",
         "31.341139330834945"
        ],
        [
         "1",
         "Horror",
         "975.2982171799027",
         "24644058.346839547",
         "77167843.10048622",
         "6.5454454048484205"
        ],
        [
         "2",
         "Special Interest",
         "932.2096774193549",
         "12172355.64516129",
         "32016139.822580647",
         "6.256268536061751"
        ],
        [
         "3",
         "Documentary",
         "868.5864661654135",
         "13238790.22556391",
         "31994232.69924812",
         "5.829278874429882"
        ],
        [
         "4",
         "Classics",
         "839.8736842105263",
         "31864089.961403508",
         "103425171.41403508",
         "5.636580945328301"
        ],
        [
         "5",
         "Sports & Fitness",
         "740.6190476190476",
         "25268095.23809524",
         "78229370.38095239",
         "4.970460784803331"
        ],
        [
         "6",
         "Television",
         "695.3703703703703",
         "29038744.444444444",
         "87456792.81481482",
         "4.6667867481284615"
        ],
        [
         "7",
         "Faith & Spirituality",
         "652.0869565217391",
         "10103260.869565217",
         "18559545.695652176",
         "4.376302035564472"
        ],
        [
         "8",
         "Animation",
         "527.4457831325301",
         "80960784.124498",
         "296931544.61044174",
         "3.539807124321519"
        ],
        [
         "9",
         "Musical & Performing Arts",
         "509.46276595744683",
         "27717144.122340426",
         "108662788.16489361",
         "3.4191190567535177"
        ],
        [
         "10",
         "Art House & International",
         "481.8189655172414",
         "15737626.064655172",
         "31063435.375",
         "3.2335953027092583"
        ],
        [
         "11",
         "Kids & Family",
         "470.62098501070665",
         "64217155.23340471",
         "216467698.2869379",
         "3.158443140263994"
        ],
        [
         "12",
         "Mystery & Suspense",
         "411.6010101010101",
         "33895793.85185185",
         "95212962.16414142",
         "2.762346831707241"
        ],
        [
         "13",
         "Science Fiction & Fantasy",
         "410.49491094147584",
         "68638917.54961832",
         "208612233.7697201",
         "2.7549235517980306"
        ],
        [
         "14",
         "Romance",
         "385.5951557093426",
         "29829205.788927335",
         "97880203.7750865",
         "2.587815701506581"
        ],
        [
         "15",
         "Drama",
         "317.0761285386381",
         "30552827.68133129",
         "80721193.04973221",
         "2.1279691195698436"
        ],
        [
         "16",
         "Comedy",
         "309.90546697038724",
         "31649792.18621868",
         "93700290.34111618",
         "2.0798451991269817"
        ],
        [
         "17",
         "Action & Adventure",
         "281.02144772117964",
         "61567931.05428954",
         "175550487.84115282",
         "1.88599805808027"
        ],
        [
         "18",
         "Western",
         "197.36486486486487",
         "34176729.0",
         "60778587.527027026",
         "1.3245599397727263"
        ],
        [
         "19",
         "Gay & Lesbian",
         "171.0",
         "4833333.333333333",
         "21550328.333333332",
         "1.1476194096462906"
        ],
        [
         "20",
         "Anime & Manga",
         "53.0",
         "110000000.0",
         "167910690.0",
         "0.355694904744172"
        ]
       ],
       "shape": {
        "columns": 5,
        "rows": 21
       }
      },
      "text/html": [
       "<div>\n",
       "<style scoped>\n",
       "    .dataframe tbody tr th:only-of-type {\n",
       "        vertical-align: middle;\n",
       "    }\n",
       "\n",
       "    .dataframe tbody tr th {\n",
       "        vertical-align: top;\n",
       "    }\n",
       "\n",
       "    .dataframe thead th {\n",
       "        text-align: right;\n",
       "    }\n",
       "</style>\n",
       "<table border=\"1\" class=\"dataframe\">\n",
       "  <thead>\n",
       "    <tr style=\"text-align: right;\">\n",
       "      <th></th>\n",
       "      <th>genres</th>\n",
       "      <th>ROI (%)</th>\n",
       "      <th>production_budget</th>\n",
       "      <th>worldwide_gross</th>\n",
       "      <th>normalized_ROI</th>\n",
       "    </tr>\n",
       "  </thead>\n",
       "  <tbody>\n",
       "    <tr>\n",
       "      <th>0</th>\n",
       "      <td>Cult Movies</td>\n",
       "      <td>4669.958333</td>\n",
       "      <td>2.545846e+07</td>\n",
       "      <td>8.253467e+07</td>\n",
       "      <td>31.341139</td>\n",
       "    </tr>\n",
       "    <tr>\n",
       "      <th>1</th>\n",
       "      <td>Horror</td>\n",
       "      <td>975.298217</td>\n",
       "      <td>2.464406e+07</td>\n",
       "      <td>7.716784e+07</td>\n",
       "      <td>6.545445</td>\n",
       "    </tr>\n",
       "    <tr>\n",
       "      <th>2</th>\n",
       "      <td>Special Interest</td>\n",
       "      <td>932.209677</td>\n",
       "      <td>1.217236e+07</td>\n",
       "      <td>3.201614e+07</td>\n",
       "      <td>6.256269</td>\n",
       "    </tr>\n",
       "    <tr>\n",
       "      <th>3</th>\n",
       "      <td>Documentary</td>\n",
       "      <td>868.586466</td>\n",
       "      <td>1.323879e+07</td>\n",
       "      <td>3.199423e+07</td>\n",
       "      <td>5.829279</td>\n",
       "    </tr>\n",
       "    <tr>\n",
       "      <th>4</th>\n",
       "      <td>Classics</td>\n",
       "      <td>839.873684</td>\n",
       "      <td>3.186409e+07</td>\n",
       "      <td>1.034252e+08</td>\n",
       "      <td>5.636581</td>\n",
       "    </tr>\n",
       "    <tr>\n",
       "      <th>5</th>\n",
       "      <td>Sports &amp; Fitness</td>\n",
       "      <td>740.619048</td>\n",
       "      <td>2.526810e+07</td>\n",
       "      <td>7.822937e+07</td>\n",
       "      <td>4.970461</td>\n",
       "    </tr>\n",
       "    <tr>\n",
       "      <th>6</th>\n",
       "      <td>Television</td>\n",
       "      <td>695.370370</td>\n",
       "      <td>2.903874e+07</td>\n",
       "      <td>8.745679e+07</td>\n",
       "      <td>4.666787</td>\n",
       "    </tr>\n",
       "    <tr>\n",
       "      <th>7</th>\n",
       "      <td>Faith &amp; Spirituality</td>\n",
       "      <td>652.086957</td>\n",
       "      <td>1.010326e+07</td>\n",
       "      <td>1.855955e+07</td>\n",
       "      <td>4.376302</td>\n",
       "    </tr>\n",
       "    <tr>\n",
       "      <th>8</th>\n",
       "      <td>Animation</td>\n",
       "      <td>527.445783</td>\n",
       "      <td>8.096078e+07</td>\n",
       "      <td>2.969315e+08</td>\n",
       "      <td>3.539807</td>\n",
       "    </tr>\n",
       "    <tr>\n",
       "      <th>9</th>\n",
       "      <td>Musical &amp; Performing Arts</td>\n",
       "      <td>509.462766</td>\n",
       "      <td>2.771714e+07</td>\n",
       "      <td>1.086628e+08</td>\n",
       "      <td>3.419119</td>\n",
       "    </tr>\n",
       "    <tr>\n",
       "      <th>10</th>\n",
       "      <td>Art House &amp; International</td>\n",
       "      <td>481.818966</td>\n",
       "      <td>1.573763e+07</td>\n",
       "      <td>3.106344e+07</td>\n",
       "      <td>3.233595</td>\n",
       "    </tr>\n",
       "    <tr>\n",
       "      <th>11</th>\n",
       "      <td>Kids &amp; Family</td>\n",
       "      <td>470.620985</td>\n",
       "      <td>6.421716e+07</td>\n",
       "      <td>2.164677e+08</td>\n",
       "      <td>3.158443</td>\n",
       "    </tr>\n",
       "    <tr>\n",
       "      <th>12</th>\n",
       "      <td>Mystery &amp; Suspense</td>\n",
       "      <td>411.601010</td>\n",
       "      <td>3.389579e+07</td>\n",
       "      <td>9.521296e+07</td>\n",
       "      <td>2.762347</td>\n",
       "    </tr>\n",
       "    <tr>\n",
       "      <th>13</th>\n",
       "      <td>Science Fiction &amp; Fantasy</td>\n",
       "      <td>410.494911</td>\n",
       "      <td>6.863892e+07</td>\n",
       "      <td>2.086122e+08</td>\n",
       "      <td>2.754924</td>\n",
       "    </tr>\n",
       "    <tr>\n",
       "      <th>14</th>\n",
       "      <td>Romance</td>\n",
       "      <td>385.595156</td>\n",
       "      <td>2.982921e+07</td>\n",
       "      <td>9.788020e+07</td>\n",
       "      <td>2.587816</td>\n",
       "    </tr>\n",
       "    <tr>\n",
       "      <th>15</th>\n",
       "      <td>Drama</td>\n",
       "      <td>317.076129</td>\n",
       "      <td>3.055283e+07</td>\n",
       "      <td>8.072119e+07</td>\n",
       "      <td>2.127969</td>\n",
       "    </tr>\n",
       "    <tr>\n",
       "      <th>16</th>\n",
       "      <td>Comedy</td>\n",
       "      <td>309.905467</td>\n",
       "      <td>3.164979e+07</td>\n",
       "      <td>9.370029e+07</td>\n",
       "      <td>2.079845</td>\n",
       "    </tr>\n",
       "    <tr>\n",
       "      <th>17</th>\n",
       "      <td>Action &amp; Adventure</td>\n",
       "      <td>281.021448</td>\n",
       "      <td>6.156793e+07</td>\n",
       "      <td>1.755505e+08</td>\n",
       "      <td>1.885998</td>\n",
       "    </tr>\n",
       "    <tr>\n",
       "      <th>18</th>\n",
       "      <td>Western</td>\n",
       "      <td>197.364865</td>\n",
       "      <td>3.417673e+07</td>\n",
       "      <td>6.077859e+07</td>\n",
       "      <td>1.324560</td>\n",
       "    </tr>\n",
       "    <tr>\n",
       "      <th>19</th>\n",
       "      <td>Gay &amp; Lesbian</td>\n",
       "      <td>171.000000</td>\n",
       "      <td>4.833333e+06</td>\n",
       "      <td>2.155033e+07</td>\n",
       "      <td>1.147619</td>\n",
       "    </tr>\n",
       "    <tr>\n",
       "      <th>20</th>\n",
       "      <td>Anime &amp; Manga</td>\n",
       "      <td>53.000000</td>\n",
       "      <td>1.100000e+08</td>\n",
       "      <td>1.679107e+08</td>\n",
       "      <td>0.355695</td>\n",
       "    </tr>\n",
       "  </tbody>\n",
       "</table>\n",
       "</div>"
      ],
      "text/plain": [
       "                       genres      ROI (%)  production_budget  \\\n",
       "0                 Cult Movies  4669.958333       2.545846e+07   \n",
       "1                      Horror   975.298217       2.464406e+07   \n",
       "2            Special Interest   932.209677       1.217236e+07   \n",
       "3                 Documentary   868.586466       1.323879e+07   \n",
       "4                    Classics   839.873684       3.186409e+07   \n",
       "5            Sports & Fitness   740.619048       2.526810e+07   \n",
       "6                  Television   695.370370       2.903874e+07   \n",
       "7        Faith & Spirituality   652.086957       1.010326e+07   \n",
       "8                   Animation   527.445783       8.096078e+07   \n",
       "9   Musical & Performing Arts   509.462766       2.771714e+07   \n",
       "10  Art House & International   481.818966       1.573763e+07   \n",
       "11              Kids & Family   470.620985       6.421716e+07   \n",
       "12         Mystery & Suspense   411.601010       3.389579e+07   \n",
       "13  Science Fiction & Fantasy   410.494911       6.863892e+07   \n",
       "14                    Romance   385.595156       2.982921e+07   \n",
       "15                      Drama   317.076129       3.055283e+07   \n",
       "16                     Comedy   309.905467       3.164979e+07   \n",
       "17         Action & Adventure   281.021448       6.156793e+07   \n",
       "18                    Western   197.364865       3.417673e+07   \n",
       "19              Gay & Lesbian   171.000000       4.833333e+06   \n",
       "20              Anime & Manga    53.000000       1.100000e+08   \n",
       "\n",
       "    worldwide_gross  normalized_ROI  \n",
       "0      8.253467e+07       31.341139  \n",
       "1      7.716784e+07        6.545445  \n",
       "2      3.201614e+07        6.256269  \n",
       "3      3.199423e+07        5.829279  \n",
       "4      1.034252e+08        5.636581  \n",
       "5      7.822937e+07        4.970461  \n",
       "6      8.745679e+07        4.666787  \n",
       "7      1.855955e+07        4.376302  \n",
       "8      2.969315e+08        3.539807  \n",
       "9      1.086628e+08        3.419119  \n",
       "10     3.106344e+07        3.233595  \n",
       "11     2.164677e+08        3.158443  \n",
       "12     9.521296e+07        2.762347  \n",
       "13     2.086122e+08        2.754924  \n",
       "14     9.788020e+07        2.587816  \n",
       "15     8.072119e+07        2.127969  \n",
       "16     9.370029e+07        2.079845  \n",
       "17     1.755505e+08        1.885998  \n",
       "18     6.077859e+07        1.324560  \n",
       "19     2.155033e+07        1.147619  \n",
       "20     1.679107e+08        0.355695  "
      ]
     },
     "execution_count": 24,
     "metadata": {},
     "output_type": "execute_result"
    }
   ],
   "source": [
    "total_roi = grouped_table['ROI (%)'].sum()\n",
    "\n",
    "# Normalize the ROI values to ensure they sum to 100%\n",
    "grouped_table['normalized_ROI'] = (grouped_table['ROI (%)'] / total_roi) * 100\n",
    "\n",
    "# Ensure the normalized values sum exactly to 100 by adjusting based on total\n",
    "normalized_total = grouped_table['normalized_ROI'].sum()\n",
    "adjustment_factor = 100 / normalized_total\n",
    "\n",
    "# Re-adjust the normalized ROIs to ensure they sum exactly to 100\n",
    "grouped_table['normalized_ROI'] = grouped_table['normalized_ROI'] * adjustment_factor\n",
    "grouped_table"
   ]
  },
  {
   "cell_type": "code",
   "execution_count": null,
   "metadata": {},
   "outputs": [],
   "source": [
    "# Check if the sum of normalized ROIs is 100\n",
    "assert abs(grouped_table['normalized_ROI'].sum() - 100) < 1e-2, \"The normalized ROIs don't sum to 100!\""
   ]
  },
  {
   "cell_type": "markdown",
   "metadata": {},
   "source": [
    "### **Preparing Language and Popularity Data**\n",
    "\n",
    "To support the company's goal of identifying the most successful types of films at the box office, we begin by analyzing two key variables from *The Movie DB* dataset: `original_language` and `popularity`. The `original_language` column helps us understand which linguistic markets (e.g., English, Spanish, etc.) dominate box office performance, guiding strategic decisions about which language(s) to prioritize in production—either to reach the broadest audience or to tap into emerging markets. The `popularity` column serves as a proxy for viewer engagement and interest, offering insight into which films generate buzz and traction among audiences. By examining both these variables, we can uncover patterns between language, popularity, and potential box office success. \n",
    "\n",
    "Before diving into the data preparation, let’s quickly glance at the first few rows of the dataset to visually remind ourselves of what we’re working with."
   ]
  },
  {
   "cell_type": "code",
   "execution_count": null,
   "metadata": {},
   "outputs": [
    {
     "data": {
      "application/vnd.microsoft.datawrangler.viewer.v0+json": {
       "columns": [
        {
         "name": "index",
         "rawType": "int64",
         "type": "integer"
        },
        {
         "name": "Unnamed: 0",
         "rawType": "int64",
         "type": "integer"
        },
        {
         "name": "genre_ids",
         "rawType": "object",
         "type": "string"
        },
        {
         "name": "id",
         "rawType": "int64",
         "type": "integer"
        },
        {
         "name": "original_language",
         "rawType": "object",
         "type": "string"
        },
        {
         "name": "original_title",
         "rawType": "object",
         "type": "string"
        },
        {
         "name": "popularity",
         "rawType": "float64",
         "type": "float"
        },
        {
         "name": "release_date",
         "rawType": "object",
         "type": "string"
        },
        {
         "name": "title",
         "rawType": "object",
         "type": "string"
        },
        {
         "name": "vote_average",
         "rawType": "float64",
         "type": "float"
        },
        {
         "name": "vote_count",
         "rawType": "int64",
         "type": "integer"
        }
       ],
       "conversionMethod": "pd.DataFrame",
       "ref": "1aa96184-ed2e-468c-b396-5a6647fa98fb",
       "rows": [
        [
         "0",
         "0",
         "[12, 14, 10751]",
         "12444",
         "en",
         "Harry Potter and the Deathly Hallows: Part 1",
         "33.533",
         "2010-11-19",
         "Harry Potter and the Deathly Hallows: Part 1",
         "7.7",
         "10788"
        ],
        [
         "1",
         "1",
         "[14, 12, 16, 10751]",
         "10191",
         "en",
         "How to Train Your Dragon",
         "28.734",
         "2010-03-26",
         "How to Train Your Dragon",
         "7.7",
         "7610"
        ],
        [
         "2",
         "2",
         "[12, 28, 878]",
         "10138",
         "en",
         "Iron Man 2",
         "28.515",
         "2010-05-07",
         "Iron Man 2",
         "6.8",
         "12368"
        ],
        [
         "3",
         "3",
         "[16, 35, 10751]",
         "862",
         "en",
         "Toy Story",
         "28.005",
         "1995-11-22",
         "Toy Story",
         "7.9",
         "10174"
        ],
        [
         "4",
         "4",
         "[28, 878, 12]",
         "27205",
         "en",
         "Inception",
         "27.92",
         "2010-07-16",
         "Inception",
         "8.3",
         "22186"
        ]
       ],
       "shape": {
        "columns": 10,
        "rows": 5
       }
      },
      "text/html": [
       "<div>\n",
       "<style scoped>\n",
       "    .dataframe tbody tr th:only-of-type {\n",
       "        vertical-align: middle;\n",
       "    }\n",
       "\n",
       "    .dataframe tbody tr th {\n",
       "        vertical-align: top;\n",
       "    }\n",
       "\n",
       "    .dataframe thead th {\n",
       "        text-align: right;\n",
       "    }\n",
       "</style>\n",
       "<table border=\"1\" class=\"dataframe\">\n",
       "  <thead>\n",
       "    <tr style=\"text-align: right;\">\n",
       "      <th></th>\n",
       "      <th>Unnamed: 0</th>\n",
       "      <th>genre_ids</th>\n",
       "      <th>id</th>\n",
       "      <th>original_language</th>\n",
       "      <th>original_title</th>\n",
       "      <th>popularity</th>\n",
       "      <th>release_date</th>\n",
       "      <th>title</th>\n",
       "      <th>vote_average</th>\n",
       "      <th>vote_count</th>\n",
       "    </tr>\n",
       "  </thead>\n",
       "  <tbody>\n",
       "    <tr>\n",
       "      <th>0</th>\n",
       "      <td>0</td>\n",
       "      <td>[12, 14, 10751]</td>\n",
       "      <td>12444</td>\n",
       "      <td>en</td>\n",
       "      <td>Harry Potter and the Deathly Hallows: Part 1</td>\n",
       "      <td>33.533</td>\n",
       "      <td>2010-11-19</td>\n",
       "      <td>Harry Potter and the Deathly Hallows: Part 1</td>\n",
       "      <td>7.7</td>\n",
       "      <td>10788</td>\n",
       "    </tr>\n",
       "    <tr>\n",
       "      <th>1</th>\n",
       "      <td>1</td>\n",
       "      <td>[14, 12, 16, 10751]</td>\n",
       "      <td>10191</td>\n",
       "      <td>en</td>\n",
       "      <td>How to Train Your Dragon</td>\n",
       "      <td>28.734</td>\n",
       "      <td>2010-03-26</td>\n",
       "      <td>How to Train Your Dragon</td>\n",
       "      <td>7.7</td>\n",
       "      <td>7610</td>\n",
       "    </tr>\n",
       "    <tr>\n",
       "      <th>2</th>\n",
       "      <td>2</td>\n",
       "      <td>[12, 28, 878]</td>\n",
       "      <td>10138</td>\n",
       "      <td>en</td>\n",
       "      <td>Iron Man 2</td>\n",
       "      <td>28.515</td>\n",
       "      <td>2010-05-07</td>\n",
       "      <td>Iron Man 2</td>\n",
       "      <td>6.8</td>\n",
       "      <td>12368</td>\n",
       "    </tr>\n",
       "    <tr>\n",
       "      <th>3</th>\n",
       "      <td>3</td>\n",
       "      <td>[16, 35, 10751]</td>\n",
       "      <td>862</td>\n",
       "      <td>en</td>\n",
       "      <td>Toy Story</td>\n",
       "      <td>28.005</td>\n",
       "      <td>1995-11-22</td>\n",
       "      <td>Toy Story</td>\n",
       "      <td>7.9</td>\n",
       "      <td>10174</td>\n",
       "    </tr>\n",
       "    <tr>\n",
       "      <th>4</th>\n",
       "      <td>4</td>\n",
       "      <td>[28, 878, 12]</td>\n",
       "      <td>27205</td>\n",
       "      <td>en</td>\n",
       "      <td>Inception</td>\n",
       "      <td>27.920</td>\n",
       "      <td>2010-07-16</td>\n",
       "      <td>Inception</td>\n",
       "      <td>8.3</td>\n",
       "      <td>22186</td>\n",
       "    </tr>\n",
       "  </tbody>\n",
       "</table>\n",
       "</div>"
      ],
      "text/plain": [
       "   Unnamed: 0            genre_ids     id original_language  \\\n",
       "0           0      [12, 14, 10751]  12444                en   \n",
       "1           1  [14, 12, 16, 10751]  10191                en   \n",
       "2           2        [12, 28, 878]  10138                en   \n",
       "3           3      [16, 35, 10751]    862                en   \n",
       "4           4        [28, 878, 12]  27205                en   \n",
       "\n",
       "                                 original_title  popularity release_date  \\\n",
       "0  Harry Potter and the Deathly Hallows: Part 1      33.533   2010-11-19   \n",
       "1                      How to Train Your Dragon      28.734   2010-03-26   \n",
       "2                                    Iron Man 2      28.515   2010-05-07   \n",
       "3                                     Toy Story      28.005   1995-11-22   \n",
       "4                                     Inception      27.920   2010-07-16   \n",
       "\n",
       "                                          title  vote_average  vote_count  \n",
       "0  Harry Potter and the Deathly Hallows: Part 1           7.7       10788  \n",
       "1                      How to Train Your Dragon           7.7        7610  \n",
       "2                                    Iron Man 2           6.8       12368  \n",
       "3                                     Toy Story           7.9       10174  \n",
       "4                                     Inception           8.3       22186  "
      ]
     },
     "execution_count": 26,
     "metadata": {},
     "output_type": "execute_result"
    }
   ],
   "source": [
    "tmdb_df.head(5)"
   ]
  },
  {
   "cell_type": "markdown",
   "metadata": {},
   "source": [
    "During the data exploration phase, we utilized the Data Wrangler tool to inspect the columns of interest: `original_language` and `popularity`. Thanks to this thorough exploration, we confirmed that both columns had no missing values, ensuring that our analysis would proceed without any gaps in the data.\n",
    "\n",
    "Hence, no additional preprocessing is required for this table. We will retain the dataset in its current form and apply targeted filters during analysis to extract meaningful insights while maintaining the integrity of the original data structure."
   ]
  },
  {
   "cell_type": "markdown",
   "metadata": {},
   "source": [
    "### **Preparing Directors and Foreign Gross Data**\n",
    "\n",
    "We will prepare and align two datasets to explore the relationship between directors and the worldwide gross earnings of their movies. From our earlier data exploration, we have confirmed that there are no missing values in the relevant `im.db` tables and in `the Numbers movie budgets` dataset, which will allow us to proceed without needing additional imputation steps. Since these datasets originate from different sources and structures, we will need to carefully filter and merge them to ensure accuracy.  "
   ]
  },
  {
   "cell_type": "markdown",
   "metadata": {},
   "source": [
    "#### *Extracting Director and Movie Title Data*\n",
    "\n",
    "We will start by extracting a clean dataset containing each director's name and their corresponding movie title from the `im.db` database. However the `directors` table contains identifiers (IDs) that point to other tables for the necessary information. Specifically, the director's name is not stored directly in the `directors` table but rather in the `persons` table. Additionally, the movie title is stored in the `movie_akas` table, which links movies to their various titles across different regions.\n",
    "\n",
    "To ensure we retrieve only unique director–movie pairs, we are using a `DISTINCT` query.  \n",
    "During earlier exploration, we noticed several duplicate entries caused by the way data was entered into the database, so applying `DISTINCT` helps eliminate these redundancies by focusing only on original movie titles.\n"
   ]
  },
  {
   "cell_type": "code",
   "execution_count": null,
   "metadata": {},
   "outputs": [
    {
     "data": {
      "application/vnd.microsoft.datawrangler.viewer.v0+json": {
       "columns": [
        {
         "name": "index",
         "rawType": "int64",
         "type": "integer"
        },
        {
         "name": "director_name",
         "rawType": "object",
         "type": "string"
        },
        {
         "name": "movie_title",
         "rawType": "object",
         "type": "string"
        },
        {
         "name": "start_year",
         "rawType": "int64",
         "type": "integer"
        }
       ],
       "conversionMethod": "pd.DataFrame",
       "ref": "ece3010f-3b3f-4120-b6a0-2edacf4f16d1",
       "rows": [
        [
         "0",
         "Colin Trevorrow",
         "Jurassic World",
         "2015"
        ],
        [
         "1",
         "Andrew Stanton",
         "John Carter",
         "2012"
        ],
        [
         "2",
         "Marc Jampolsky",
         "Versailles Rediscovered - The Sun King's Vanished Palace",
         "2019"
        ],
        [
         "3",
         "Sam Zubrycki",
         "Miguelito - Canto a Borinquen",
         "2019"
        ],
        [
         "4",
         "Henning Beckhoff",
         "Thing I Don't Get",
         "2018"
        ]
       ],
       "shape": {
        "columns": 3,
        "rows": 5
       }
      },
      "text/html": [
       "<div>\n",
       "<style scoped>\n",
       "    .dataframe tbody tr th:only-of-type {\n",
       "        vertical-align: middle;\n",
       "    }\n",
       "\n",
       "    .dataframe tbody tr th {\n",
       "        vertical-align: top;\n",
       "    }\n",
       "\n",
       "    .dataframe thead th {\n",
       "        text-align: right;\n",
       "    }\n",
       "</style>\n",
       "<table border=\"1\" class=\"dataframe\">\n",
       "  <thead>\n",
       "    <tr style=\"text-align: right;\">\n",
       "      <th></th>\n",
       "      <th>director_name</th>\n",
       "      <th>movie_title</th>\n",
       "      <th>start_year</th>\n",
       "    </tr>\n",
       "  </thead>\n",
       "  <tbody>\n",
       "    <tr>\n",
       "      <th>0</th>\n",
       "      <td>Colin Trevorrow</td>\n",
       "      <td>Jurassic World</td>\n",
       "      <td>2015</td>\n",
       "    </tr>\n",
       "    <tr>\n",
       "      <th>1</th>\n",
       "      <td>Andrew Stanton</td>\n",
       "      <td>John Carter</td>\n",
       "      <td>2012</td>\n",
       "    </tr>\n",
       "    <tr>\n",
       "      <th>2</th>\n",
       "      <td>Marc Jampolsky</td>\n",
       "      <td>Versailles Rediscovered - The Sun King's Vanis...</td>\n",
       "      <td>2019</td>\n",
       "    </tr>\n",
       "    <tr>\n",
       "      <th>3</th>\n",
       "      <td>Sam Zubrycki</td>\n",
       "      <td>Miguelito - Canto a Borinquen</td>\n",
       "      <td>2019</td>\n",
       "    </tr>\n",
       "    <tr>\n",
       "      <th>4</th>\n",
       "      <td>Henning Beckhoff</td>\n",
       "      <td>Thing I Don't Get</td>\n",
       "      <td>2018</td>\n",
       "    </tr>\n",
       "  </tbody>\n",
       "</table>\n",
       "</div>"
      ],
      "text/plain": [
       "      director_name                                        movie_title  \\\n",
       "0   Colin Trevorrow                                     Jurassic World   \n",
       "1    Andrew Stanton                                        John Carter   \n",
       "2    Marc Jampolsky  Versailles Rediscovered - The Sun King's Vanis...   \n",
       "3      Sam Zubrycki                      Miguelito - Canto a Borinquen   \n",
       "4  Henning Beckhoff                                  Thing I Don't Get   \n",
       "\n",
       "   start_year  \n",
       "0        2015  \n",
       "1        2012  \n",
       "2        2019  \n",
       "3        2019  \n",
       "4        2018  "
      ]
     },
     "execution_count": 27,
     "metadata": {},
     "output_type": "execute_result"
    }
   ],
   "source": [
    "# Connect to the database\n",
    "conn = sqlite3.connect('Data/im.db')\n",
    "\n",
    "# Updated query with DISTINCT\n",
    "query = '''\n",
    "SELECT DISTINCT\n",
    "    p.primary_name AS director_name,\n",
    "    ma.title AS movie_title,\n",
    "    mb.start_year\n",
    "FROM directors d\n",
    "JOIN persons p ON d.person_id = p.person_id\n",
    "JOIN movie_akas ma ON d.movie_id = ma.movie_id\n",
    "JOIN movie_basics mb ON d.movie_id = mb.movie_id\n",
    "WHERE ma.is_original_title = 1\n",
    "'''\n",
    "\n",
    "# Execute the query and load into a DataFrame\n",
    "directors_df = pd.read_sql_query(query, conn)\n",
    "\n",
    "# Close connection\n",
    "conn.close()\n",
    "directors_df.head()"
   ]
  },
  {
   "cell_type": "markdown",
   "metadata": {},
   "source": [
    "#### *Merging Directors with Worldwide Gross Data*\n",
    "\n",
    "We need to combine the director information with the worldwide gross earnings.  \n",
    "This step ensures that each movie in our dataset is matched with both its director and its revenue performance, setting the foundation for meaningful analysis.\n"
   ]
  },
  {
   "cell_type": "code",
   "execution_count": null,
   "metadata": {},
   "outputs": [
    {
     "data": {
      "application/vnd.microsoft.datawrangler.viewer.v0+json": {
       "columns": [
        {
         "name": "index",
         "rawType": "int64",
         "type": "integer"
        },
        {
         "name": "movie",
         "rawType": "object",
         "type": "string"
        },
        {
         "name": "director_name",
         "rawType": "object",
         "type": "string"
        },
        {
         "name": "worldwide_gross",
         "rawType": "object",
         "type": "string"
        },
        {
         "name": "start_year",
         "rawType": "int64",
         "type": "integer"
        }
       ],
       "conversionMethod": "pd.DataFrame",
       "ref": "2598b341-4392-4aa2-9db8-71a7f2ee2257",
       "rows": [
        [
         "0",
         "akira",
         "A.R. Murugadoss",
         "$19,585",
         "2016"
        ],
        [
         "1",
         "bully",
         "Aaron Alon",
         "$1,381,824",
         "2017"
        ],
        [
         "2",
         "restless",
         "Aaron Boltz",
         "$2,772,511",
         "2012"
        ],
        [
         "3",
         "circle",
         "Aaron Hann",
         "$10,024",
         "2015"
        ],
        [
         "4",
         "teen titans go! to the movies",
         "Aaron Horvath",
         "$51,620,593",
         "2018"
        ],
        [
         "5",
         "vampires suck",
         "Aaron Seltzer",
         "$81,424,988",
         "2010"
        ],
        [
         "6",
         "girls gone dead",
         "Aaron T. Wells",
         "$0",
         "2012"
        ],
        [
         "7",
         "virus",
         "Aashiq Abu",
         "$30,626,690",
         "2019"
        ],
        [
         "8",
         "i feel pretty",
         "Abby Kohn",
         "$91,553,797",
         "2018"
        ],
        [
         "9",
         "duma",
         "Abeer Zeibak Haddad",
         "$994,790",
         "2011"
        ],
        [
         "10",
         "father's day",
         "Adam Brooks",
         "$35,681,080",
         "2011"
        ],
        [
         "11",
         "road hard",
         "Adam Carolla",
         "$113,169",
         "2015"
        ],
        [
         "12",
         "frozen",
         "Adam Green",
         "$1,272,469,910",
         "2010"
        ],
        [
         "13",
         "vice",
         "Adam McKay",
         "$70,883,171",
         "2018"
        ],
        [
         "14",
         "the big short",
         "Adam McKay",
         "$133,162,752",
         "2015"
        ],
        [
         "15",
         "the other guys",
         "Adam McKay",
         "$170,936,470",
         "2010"
        ],
        [
         "16",
         "anchorman 2: the legend continues",
         "Adam McKay",
         "$172,185,754",
         "2013"
        ],
        [
         "17",
         "insidious: the last key",
         "Adam Robitel",
         "$167,885,588",
         "2018"
        ],
        [
         "18",
         "shut in",
         "Adam Schindler",
         "$11,360,665",
         "2015"
        ],
        [
         "19",
         "rock of ages",
         "Adam Shankman",
         "$61,031,932",
         "2012"
        ],
        [
         "20",
         "what men want",
         "Adam Shankman",
         "$69,911,903",
         "2019"
        ],
        [
         "21",
         "the island",
         "Adam Weingrod",
         "$15,716,828",
         "2017"
        ],
        [
         "22",
         "the island",
         "Adam Weingrod",
         "$163,018,913",
         "2017"
        ],
        [
         "23",
         "blair witch",
         "Adam Wingard",
         "$38,985,577",
         "2016"
        ],
        [
         "24",
         "you're next",
         "Adam Wingard",
         "$26,887,177",
         "2011"
        ],
        [
         "25",
         "coco",
         "Adrian Molina",
         "$798,008,101",
         "2017"
        ],
        [
         "26",
         "the importance of being earnest",
         "Adrian Noble",
         "$8,378,141",
         "2015"
        ],
        [
         "27",
         "visages villages",
         "Agnès Varda",
         "$4,015,686",
         "2017"
        ],
        [
         "28",
         "valentine",
         "Agus Pestol",
         "$20,384,136",
         "2017"
        ],
        [
         "29",
         "water",
         "Ahmad Bargouthi",
         "$11,322,573",
         "2012"
        ],
        [
         "30",
         "teefa in trouble",
         "Ahsan Rahim",
         "$98,806",
         "2018"
        ],
        [
         "31",
         "slender man",
         "Aisha Bulahova",
         "$51,723,644",
         "2013"
        ],
        [
         "32",
         "3",
         "Aishwarya Dhanush",
         "$295,492",
         "2012"
        ],
        [
         "33",
         "upside down",
         "Ajay Singh",
         "$26,387,039",
         "2012"
        ],
        [
         "34",
         "le havre",
         "Aki Kaurismäki",
         "$13,480,196",
         "2011"
        ],
        [
         "35",
         "the watch",
         "Akiva Schaffer",
         "$67,130,045",
         "2012"
        ],
        [
         "36",
         "popstar: never stop never stopping",
         "Akiva Schaffer",
         "$9,537,120",
         "2016"
        ],
        [
         "37",
         "teeth and blood",
         "Al Franklin",
         "$0",
         "2015"
        ],
        [
         "38",
         "gerry",
         "Alain Desrochers",
         "$719,699",
         "2011"
        ],
        [
         "39",
         "the back-up plan",
         "Alan Poul",
         "$75,281,179",
         "2010"
        ],
        [
         "40",
         "thor: the dark world",
         "Alan Taylor",
         "$644,602,516",
         "2013"
        ],
        [
         "41",
         "the book of eli",
         "Albert Hughes",
         "$158,750,817",
         "2010"
        ],
        [
         "42",
         "alpha",
         "Albert Hughes",
         "$99,624,873",
         "2018"
        ],
        [
         "43",
         "iris",
         "Albert Maysles",
         "$5,580,479",
         "2014"
        ],
        [
         "44",
         "regression",
         "Alejandro Amenábar",
         "$15,824,374",
         "2015"
        ],
        [
         "45",
         "biutiful",
         "Alejandro G. Iñárritu",
         "$24,687,524",
         "2010"
        ],
        [
         "46",
         "birdman or (the unexpected virtue of ignorance)",
         "Alejandro G. Iñárritu",
         "$103,215,094",
         "2014"
        ],
        [
         "47",
         "the revenant",
         "Alejandro G. Iñárritu",
         "$532,938,302",
         "2015"
        ],
        [
         "48",
         "little boy",
         "Alejandro Monteverde",
         "$17,769,299",
         "2015"
        ],
        [
         "49",
         "hitman: agent 47",
         "Aleksander Bach",
         "$82,182,803",
         "2015"
        ]
       ],
       "shape": {
        "columns": 4,
        "rows": 2448
       }
      },
      "text/html": [
       "<div>\n",
       "<style scoped>\n",
       "    .dataframe tbody tr th:only-of-type {\n",
       "        vertical-align: middle;\n",
       "    }\n",
       "\n",
       "    .dataframe tbody tr th {\n",
       "        vertical-align: top;\n",
       "    }\n",
       "\n",
       "    .dataframe thead th {\n",
       "        text-align: right;\n",
       "    }\n",
       "</style>\n",
       "<table border=\"1\" class=\"dataframe\">\n",
       "  <thead>\n",
       "    <tr style=\"text-align: right;\">\n",
       "      <th></th>\n",
       "      <th>movie</th>\n",
       "      <th>director_name</th>\n",
       "      <th>worldwide_gross</th>\n",
       "      <th>start_year</th>\n",
       "    </tr>\n",
       "  </thead>\n",
       "  <tbody>\n",
       "    <tr>\n",
       "      <th>0</th>\n",
       "      <td>akira</td>\n",
       "      <td>A.R. Murugadoss</td>\n",
       "      <td>$19,585</td>\n",
       "      <td>2016</td>\n",
       "    </tr>\n",
       "    <tr>\n",
       "      <th>1</th>\n",
       "      <td>bully</td>\n",
       "      <td>Aaron Alon</td>\n",
       "      <td>$1,381,824</td>\n",
       "      <td>2017</td>\n",
       "    </tr>\n",
       "    <tr>\n",
       "      <th>2</th>\n",
       "      <td>restless</td>\n",
       "      <td>Aaron Boltz</td>\n",
       "      <td>$2,772,511</td>\n",
       "      <td>2012</td>\n",
       "    </tr>\n",
       "    <tr>\n",
       "      <th>3</th>\n",
       "      <td>circle</td>\n",
       "      <td>Aaron Hann</td>\n",
       "      <td>$10,024</td>\n",
       "      <td>2015</td>\n",
       "    </tr>\n",
       "    <tr>\n",
       "      <th>4</th>\n",
       "      <td>teen titans go! to the movies</td>\n",
       "      <td>Aaron Horvath</td>\n",
       "      <td>$51,620,593</td>\n",
       "      <td>2018</td>\n",
       "    </tr>\n",
       "    <tr>\n",
       "      <th>...</th>\n",
       "      <td>...</td>\n",
       "      <td>...</td>\n",
       "      <td>...</td>\n",
       "      <td>...</td>\n",
       "    </tr>\n",
       "    <tr>\n",
       "      <th>2443</th>\n",
       "      <td>along the roadside</td>\n",
       "      <td>Zoran Lisinac</td>\n",
       "      <td>$3,234</td>\n",
       "      <td>2013</td>\n",
       "    </tr>\n",
       "    <tr>\n",
       "      <th>2444</th>\n",
       "      <td>prophecy</td>\n",
       "      <td>Zuri Rinpoche</td>\n",
       "      <td>$22,673,340</td>\n",
       "      <td>2015</td>\n",
       "    </tr>\n",
       "    <tr>\n",
       "      <th>2445</th>\n",
       "      <td>perfectos desconocidos</td>\n",
       "      <td>Álex de la Iglesia</td>\n",
       "      <td>$31,166,312</td>\n",
       "      <td>2017</td>\n",
       "    </tr>\n",
       "    <tr>\n",
       "      <th>2446</th>\n",
       "      <td>9</td>\n",
       "      <td>Éric Tessier</td>\n",
       "      <td>$48,559,999</td>\n",
       "      <td>2016</td>\n",
       "    </tr>\n",
       "    <tr>\n",
       "      <th>2447</th>\n",
       "      <td>ballerina</td>\n",
       "      <td>Éric Warin</td>\n",
       "      <td>$96,892,829</td>\n",
       "      <td>2016</td>\n",
       "    </tr>\n",
       "  </tbody>\n",
       "</table>\n",
       "<p>2448 rows × 4 columns</p>\n",
       "</div>"
      ],
      "text/plain": [
       "                              movie       director_name worldwide_gross  \\\n",
       "0                             akira     A.R. Murugadoss         $19,585   \n",
       "1                             bully          Aaron Alon      $1,381,824   \n",
       "2                          restless         Aaron Boltz      $2,772,511   \n",
       "3                            circle          Aaron Hann         $10,024   \n",
       "4     teen titans go! to the movies       Aaron Horvath     $51,620,593   \n",
       "...                             ...                 ...             ...   \n",
       "2443             along the roadside       Zoran Lisinac          $3,234   \n",
       "2444                       prophecy       Zuri Rinpoche     $22,673,340   \n",
       "2445         perfectos desconocidos  Álex de la Iglesia     $31,166,312   \n",
       "2446                              9        Éric Tessier     $48,559,999   \n",
       "2447                      ballerina          Éric Warin     $96,892,829   \n",
       "\n",
       "      start_year  \n",
       "0           2016  \n",
       "1           2017  \n",
       "2           2012  \n",
       "3           2015  \n",
       "4           2018  \n",
       "...          ...  \n",
       "2443        2013  \n",
       "2444        2015  \n",
       "2445        2017  \n",
       "2446        2016  \n",
       "2447        2016  \n",
       "\n",
       "[2448 rows x 4 columns]"
      ]
     },
     "execution_count": 28,
     "metadata": {},
     "output_type": "execute_result"
    }
   ],
   "source": [
    "# Rename for easy merge\n",
    "directors_df = directors_df.rename(columns={'movie_title': 'movie'})\n",
    "\n",
    "# bug fix: To resolve potential override and faulty merge\n",
    "tn_df['movie'] = tn_df['movie'].str.lower()\n",
    "directors_df['movie'] = directors_df['movie'].str.lower()\n",
    "\n",
    "# Merge the two DataFrames\n",
    "merged_df = pd.merge(tn_df[['movie', 'worldwide_gross']], directors_df, on='movie', how='inner')\n",
    "\n",
    "# Reorder columns\n",
    "directors_fgross_df = merged_df[['movie', 'director_name', 'worldwide_gross', 'start_year']]\n",
    "\n",
    "# Sort alphabetically by director name\n",
    "directors_fgross_df = directors_fgross_df.sort_values(by='director_name').reset_index(drop=True)\n",
    "directors_fgross_df"
   ]
  },
  {
   "cell_type": "markdown",
   "metadata": {},
   "source": [
    "#### *Aggregating Worldwide Gross Earnings by Director*\n",
    "\n",
    "We need to aggregate the data to account for the fact that a single director may have multiple movies. Our goal is to sum up the worldwide gross earnings for each director across all their movies, creating a table that shows the total earnings per director. This aggregation will give us a clearer picture of each director's overall financial impact.\n"
   ]
  },
  {
   "cell_type": "code",
   "execution_count": null,
   "metadata": {},
   "outputs": [
    {
     "data": {
      "application/vnd.microsoft.datawrangler.viewer.v0+json": {
       "columns": [
        {
         "name": "index",
         "rawType": "int64",
         "type": "integer"
        },
        {
         "name": "director_name",
         "rawType": "object",
         "type": "string"
        },
        {
         "name": "worldwide_gross",
         "rawType": "object",
         "type": "string"
        }
       ],
       "conversionMethod": "pd.DataFrame",
       "ref": "09008141-db24-4117-8ebf-5b034bf7c1c8",
       "rows": [
        [
         "0",
         "Joe Russo",
         "3,902,605,502"
        ],
        [
         "1",
         "Anthony Russo",
         "3,902,605,502"
        ],
        [
         "2",
         "Pierre Coffin",
         "3,713,745,331"
        ],
        [
         "3",
         "Christopher Nolan",
         "3,086,180,484"
        ],
        [
         "4",
         "Joss Whedon",
         "2,992,084,614"
        ],
        [
         "5",
         "Michael Bay",
         "2,911,998,250"
        ],
        [
         "6",
         "Jon Favreau",
         "2,614,568,760"
        ],
        [
         "7",
         "Francis Lawrence",
         "2,543,191,543"
        ],
        [
         "8",
         "Chris Renaud",
         "2,518,783,438"
        ],
        [
         "9",
         "Zack Snyder",
         "2,420,920,114"
        ],
        [
         "10",
         "Bryan Singer",
         "2,383,073,266"
        ],
        [
         "11",
         "Kyle Balda",
         "2,195,063,923"
        ],
        [
         "12",
         "Ridley Scott",
         "2,042,771,249"
        ],
        [
         "13",
         "Rich Moore",
         "2,040,224,832"
        ],
        [
         "14",
         "Sam Mendes",
         "1,990,147,904"
        ],
        [
         "15",
         "Peter Jackson",
         "1,977,370,423"
        ],
        [
         "16",
         "Steven Spielberg",
         "1,969,039,795"
        ],
        [
         "17",
         "Mike Mitchell",
         "1,950,822,209"
        ],
        [
         "18",
         "Guy Ritchie",
         "1,903,527,896"
        ],
        [
         "19",
         "Bill Condon",
         "1,873,785,010"
        ],
        [
         "20",
         "Lee Unkrich",
         "1,866,887,623"
        ],
        [
         "21",
         "David Yates",
         "1,803,524,964"
        ],
        [
         "22",
         "Kenneth Branagh",
         "1,724,769,528"
        ],
        [
         "23",
         "Tim Burton",
         "1,717,166,860"
        ],
        [
         "24",
         "Colin Trevorrow",
         "1,653,277,182"
        ],
        [
         "25",
         "Dean DeBlois",
         "1,628,715,545"
        ],
        [
         "26",
         "Byron Howard",
         "1,605,906,856"
        ],
        [
         "27",
         "Rob Marshall",
         "1,600,308,794"
        ],
        [
         "28",
         "Tom McGrath",
         "1,579,687,241"
        ],
        [
         "29",
         "James Wan",
         "1,564,765,667"
        ],
        [
         "30",
         "Ryan Coogler",
         "1,539,375,450"
        ],
        [
         "31",
         "Marc Webb",
         "1,503,851,259"
        ],
        [
         "32",
         "Brad Bird",
         "1,449,148,229"
        ],
        [
         "33",
         "F. Gary Gray",
         "1,440,129,248"
        ],
        [
         "34",
         "Genndy Tartakovsky",
         "1,375,086,072"
        ],
        [
         "35",
         "J.A. Bayona",
         "1,352,187,329"
        ],
        [
         "36",
         "Don Hall",
         "1,339,790,800"
        ],
        [
         "37",
         "Brad Peyton",
         "1,324,858,400"
        ],
        [
         "38",
         "Jake Kasdan",
         "1,306,014,699"
        ],
        [
         "39",
         "Andrew Stanton",
         "1,303,993,293"
        ],
        [
         "40",
         "James Mangold",
         "1,290,669,616"
        ],
        [
         "41",
         "Chris Williams",
         "1,289,645,193"
        ],
        [
         "42",
         "Mike Thurmeier",
         "1,281,921,819"
        ],
        [
         "43",
         "Jennifer Lee",
         "1,272,469,910"
        ],
        [
         "44",
         "Adam Green",
         "1,272,469,910"
        ],
        [
         "45",
         "Chris Buck",
         "1,272,469,910"
        ],
        [
         "46",
         "Clint Eastwood",
         "1,271,353,836"
        ],
        [
         "47",
         "Carlos Saldanha",
         "1,270,214,030"
        ],
        [
         "48",
         "Matt Reeves",
         "1,228,507,232"
        ],
        [
         "49",
         "Jennifer Yuh Nelson",
         "1,220,798,117"
        ]
       ],
       "shape": {
        "columns": 2,
        "rows": 1688
       }
      },
      "text/html": [
       "<div>\n",
       "<style scoped>\n",
       "    .dataframe tbody tr th:only-of-type {\n",
       "        vertical-align: middle;\n",
       "    }\n",
       "\n",
       "    .dataframe tbody tr th {\n",
       "        vertical-align: top;\n",
       "    }\n",
       "\n",
       "    .dataframe thead th {\n",
       "        text-align: right;\n",
       "    }\n",
       "</style>\n",
       "<table border=\"1\" class=\"dataframe\">\n",
       "  <thead>\n",
       "    <tr style=\"text-align: right;\">\n",
       "      <th></th>\n",
       "      <th>director_name</th>\n",
       "      <th>worldwide_gross</th>\n",
       "    </tr>\n",
       "  </thead>\n",
       "  <tbody>\n",
       "    <tr>\n",
       "      <th>0</th>\n",
       "      <td>Joe Russo</td>\n",
       "      <td>3,902,605,502</td>\n",
       "    </tr>\n",
       "    <tr>\n",
       "      <th>1</th>\n",
       "      <td>Anthony Russo</td>\n",
       "      <td>3,902,605,502</td>\n",
       "    </tr>\n",
       "    <tr>\n",
       "      <th>2</th>\n",
       "      <td>Pierre Coffin</td>\n",
       "      <td>3,713,745,331</td>\n",
       "    </tr>\n",
       "    <tr>\n",
       "      <th>3</th>\n",
       "      <td>Christopher Nolan</td>\n",
       "      <td>3,086,180,484</td>\n",
       "    </tr>\n",
       "    <tr>\n",
       "      <th>4</th>\n",
       "      <td>Joss Whedon</td>\n",
       "      <td>2,992,084,614</td>\n",
       "    </tr>\n",
       "    <tr>\n",
       "      <th>...</th>\n",
       "      <td>...</td>\n",
       "      <td>...</td>\n",
       "    </tr>\n",
       "    <tr>\n",
       "      <th>1683</th>\n",
       "      <td>Justin Thomas Ostensen</td>\n",
       "      <td>0</td>\n",
       "    </tr>\n",
       "    <tr>\n",
       "      <th>1684</th>\n",
       "      <td>Valeri Milev</td>\n",
       "      <td>0</td>\n",
       "    </tr>\n",
       "    <tr>\n",
       "      <th>1685</th>\n",
       "      <td>Al Franklin</td>\n",
       "      <td>0</td>\n",
       "    </tr>\n",
       "    <tr>\n",
       "      <th>1686</th>\n",
       "      <td>Aaron T. Wells</td>\n",
       "      <td>0</td>\n",
       "    </tr>\n",
       "    <tr>\n",
       "      <th>1687</th>\n",
       "      <td>Allison Burnett</td>\n",
       "      <td>0</td>\n",
       "    </tr>\n",
       "  </tbody>\n",
       "</table>\n",
       "<p>1688 rows × 2 columns</p>\n",
       "</div>"
      ],
      "text/plain": [
       "               director_name worldwide_gross\n",
       "0                  Joe Russo   3,902,605,502\n",
       "1              Anthony Russo   3,902,605,502\n",
       "2              Pierre Coffin   3,713,745,331\n",
       "3          Christopher Nolan   3,086,180,484\n",
       "4                Joss Whedon   2,992,084,614\n",
       "...                      ...             ...\n",
       "1683  Justin Thomas Ostensen               0\n",
       "1684            Valeri Milev               0\n",
       "1685             Al Franklin               0\n",
       "1686          Aaron T. Wells               0\n",
       "1687         Allison Burnett               0\n",
       "\n",
       "[1688 rows x 2 columns]"
      ]
     },
     "execution_count": 29,
     "metadata": {},
     "output_type": "execute_result"
    }
   ],
   "source": [
    "# Remove commas, dollar sign and convert to float for calculation\n",
    "directors_fgross_df['worldwide_gross'] = directors_fgross_df['worldwide_gross'].replace(r',', '', regex=True)\n",
    "directors_fgross_df['worldwide_gross'] = directors_fgross_df['worldwide_gross'].replace(r'\\$', '', regex=True).astype(float)\n",
    "\n",
    "# Group by director_name and sum worldwide_gross\n",
    "agg_directors_df = directors_fgross_df.groupby('director_name', as_index=False)['worldwide_gross'].sum()\n",
    "\n",
    "# Sort by worldwide_gross in descending order\n",
    "agg_directors_df = agg_directors_df.sort_values(by='worldwide_gross', ascending=False).reset_index(drop=True)\n",
    "\n",
    "# Format numbers with commas \n",
    "agg_directors_df['worldwide_gross'] = agg_directors_df['worldwide_gross'].apply(lambda x: f\"{int(x):,}\")\n",
    "agg_directors_df"
   ]
  },
  {
   "cell_type": "markdown",
   "metadata": {},
   "source": [
    "### **Preparing Content Rating and ROI Data**\n",
    "\n",
    "Understanding the relationship between a film’s content rating (such as G, PG, PG-13, R) and its Return on Investment (ROI) can provide valuable strategic guidance for the company’s new movie studio. Content ratings influence which audiences a movie can legally and culturally reach, and may affect production budgets, marketing strategies, and box office returns."
   ]
  },
  {
   "cell_type": "markdown",
   "metadata": {},
   "source": [
    "#### *Merging Dataframes*\n",
    "\n",
    "To analyze the relationship between content ratings and ROI, we need to combine relevant information from two different sources. We will merge the `final_table`, which already contains ROI calculations and genre data, with the Rotten Tomatoes dataset (`rt_df`), which includes content rating information for each movie. \n"
   ]
  },
  {
   "cell_type": "code",
   "execution_count": null,
   "metadata": {},
   "outputs": [
    {
     "data": {
      "application/vnd.microsoft.datawrangler.viewer.v0+json": {
       "columns": [
        {
         "name": "index",
         "rawType": "int64",
         "type": "integer"
        },
        {
         "name": "genres",
         "rawType": "object",
         "type": "unknown"
        },
        {
         "name": "movie",
         "rawType": "object",
         "type": "string"
        },
        {
         "name": "production_budget",
         "rawType": "float64",
         "type": "float"
        },
        {
         "name": "worldwide_gross",
         "rawType": "float64",
         "type": "float"
        },
        {
         "name": "ROI (%)",
         "rawType": "float64",
         "type": "float"
        },
        {
         "name": "movie_title",
         "rawType": "object",
         "type": "string"
        },
        {
         "name": "content_rating",
         "rawType": "object",
         "type": "string"
        }
       ],
       "conversionMethod": "pd.DataFrame",
       "ref": "367af026-fb12-49fa-9dff-590a716c505c",
       "rows": [
        [
         "1812",
         "['Art House & International', ' Drama']",
         "invincible",
         "40000000.0",
         "58501127.0",
         "46.0",
         "invincible",
         "PG-13"
        ],
        [
         "1367",
         "['Action & Adventure', ' Drama']",
         "shaft",
         "53012938.0",
         "107190108.0",
         "2.0",
         "shaft",
         "R"
        ],
        [
         "3965",
         "['Comedy', ' Drama', ' Science Fiction & Fantasy']",
         "project x",
         "12000000.0",
         "103028188.0",
         "759.0",
         "project x",
         "R"
        ],
        [
         "3798",
         "['Action & Adventure']",
         "first blood",
         "14000000.0",
         "125212904.0",
         "794.0",
         "first blood",
         "R"
        ],
        [
         "1562",
         "['Classics', ' Drama', ' Romance']",
         "anna karenina",
         "49000000.0",
         "71004627.0",
         "45.0",
         "anna karenina",
         "R"
        ],
        [
         "4147",
         "['Drama', ' Mystery & Suspense', ' Science Fiction & Fantasy']",
         "alien",
         "10700000.0",
         "203628947.0",
         "1803.0",
         "alien",
         "R"
        ],
        [
         "5161",
         "['Comedy', ' Drama']",
         "beginners",
         "3200000.0",
         "14314407.0",
         "347.0",
         "beginners",
         "R"
        ],
        [
         "5220",
         "['Comedy']",
         "please give",
         "3000000.0",
         "4570178.0",
         "52.0",
         "please give",
         "R"
        ],
        [
         "1212",
         "['Horror', ' Science Fiction & Fantasy']",
         "the relic",
         "60000000.0",
         "33956608.0",
         "-43.0",
         "the relic",
         "R"
        ],
        [
         "2167",
         "['Comedy', ' Kids & Family']",
         "furry vengeance",
         "35000000.0",
         "39340177.0",
         "12.0",
         "furry vengeance",
         "PG"
        ]
       ],
       "shape": {
        "columns": 7,
        "rows": 10
       }
      },
      "text/html": [
       "<div>\n",
       "<style scoped>\n",
       "    .dataframe tbody tr th:only-of-type {\n",
       "        vertical-align: middle;\n",
       "    }\n",
       "\n",
       "    .dataframe tbody tr th {\n",
       "        vertical-align: top;\n",
       "    }\n",
       "\n",
       "    .dataframe thead th {\n",
       "        text-align: right;\n",
       "    }\n",
       "</style>\n",
       "<table border=\"1\" class=\"dataframe\">\n",
       "  <thead>\n",
       "    <tr style=\"text-align: right;\">\n",
       "      <th></th>\n",
       "      <th>genres</th>\n",
       "      <th>movie</th>\n",
       "      <th>production_budget</th>\n",
       "      <th>worldwide_gross</th>\n",
       "      <th>ROI (%)</th>\n",
       "      <th>movie_title</th>\n",
       "      <th>content_rating</th>\n",
       "    </tr>\n",
       "  </thead>\n",
       "  <tbody>\n",
       "    <tr>\n",
       "      <th>1812</th>\n",
       "      <td>[Art House &amp; International,  Drama]</td>\n",
       "      <td>invincible</td>\n",
       "      <td>40000000.0</td>\n",
       "      <td>58501127.0</td>\n",
       "      <td>46.0</td>\n",
       "      <td>invincible</td>\n",
       "      <td>PG-13</td>\n",
       "    </tr>\n",
       "    <tr>\n",
       "      <th>1367</th>\n",
       "      <td>[Action &amp; Adventure,  Drama]</td>\n",
       "      <td>shaft</td>\n",
       "      <td>53012938.0</td>\n",
       "      <td>107190108.0</td>\n",
       "      <td>2.0</td>\n",
       "      <td>shaft</td>\n",
       "      <td>R</td>\n",
       "    </tr>\n",
       "    <tr>\n",
       "      <th>3965</th>\n",
       "      <td>[Comedy,  Drama,  Science Fiction &amp; Fantasy]</td>\n",
       "      <td>project x</td>\n",
       "      <td>12000000.0</td>\n",
       "      <td>103028188.0</td>\n",
       "      <td>759.0</td>\n",
       "      <td>project x</td>\n",
       "      <td>R</td>\n",
       "    </tr>\n",
       "    <tr>\n",
       "      <th>3798</th>\n",
       "      <td>[Action &amp; Adventure]</td>\n",
       "      <td>first blood</td>\n",
       "      <td>14000000.0</td>\n",
       "      <td>125212904.0</td>\n",
       "      <td>794.0</td>\n",
       "      <td>first blood</td>\n",
       "      <td>R</td>\n",
       "    </tr>\n",
       "    <tr>\n",
       "      <th>1562</th>\n",
       "      <td>[Classics,  Drama,  Romance]</td>\n",
       "      <td>anna karenina</td>\n",
       "      <td>49000000.0</td>\n",
       "      <td>71004627.0</td>\n",
       "      <td>45.0</td>\n",
       "      <td>anna karenina</td>\n",
       "      <td>R</td>\n",
       "    </tr>\n",
       "    <tr>\n",
       "      <th>4147</th>\n",
       "      <td>[Drama,  Mystery &amp; Suspense,  Science Fiction ...</td>\n",
       "      <td>alien</td>\n",
       "      <td>10700000.0</td>\n",
       "      <td>203628947.0</td>\n",
       "      <td>1803.0</td>\n",
       "      <td>alien</td>\n",
       "      <td>R</td>\n",
       "    </tr>\n",
       "    <tr>\n",
       "      <th>5161</th>\n",
       "      <td>[Comedy,  Drama]</td>\n",
       "      <td>beginners</td>\n",
       "      <td>3200000.0</td>\n",
       "      <td>14314407.0</td>\n",
       "      <td>347.0</td>\n",
       "      <td>beginners</td>\n",
       "      <td>R</td>\n",
       "    </tr>\n",
       "    <tr>\n",
       "      <th>5220</th>\n",
       "      <td>[Comedy]</td>\n",
       "      <td>please give</td>\n",
       "      <td>3000000.0</td>\n",
       "      <td>4570178.0</td>\n",
       "      <td>52.0</td>\n",
       "      <td>please give</td>\n",
       "      <td>R</td>\n",
       "    </tr>\n",
       "    <tr>\n",
       "      <th>1212</th>\n",
       "      <td>[Horror,  Science Fiction &amp; Fantasy]</td>\n",
       "      <td>the relic</td>\n",
       "      <td>60000000.0</td>\n",
       "      <td>33956608.0</td>\n",
       "      <td>-43.0</td>\n",
       "      <td>the relic</td>\n",
       "      <td>R</td>\n",
       "    </tr>\n",
       "    <tr>\n",
       "      <th>2167</th>\n",
       "      <td>[Comedy,  Kids &amp; Family]</td>\n",
       "      <td>furry vengeance</td>\n",
       "      <td>35000000.0</td>\n",
       "      <td>39340177.0</td>\n",
       "      <td>12.0</td>\n",
       "      <td>furry vengeance</td>\n",
       "      <td>PG</td>\n",
       "    </tr>\n",
       "  </tbody>\n",
       "</table>\n",
       "</div>"
      ],
      "text/plain": [
       "                                                 genres            movie  \\\n",
       "1812                [Art House & International,  Drama]       invincible   \n",
       "1367                       [Action & Adventure,  Drama]            shaft   \n",
       "3965       [Comedy,  Drama,  Science Fiction & Fantasy]        project x   \n",
       "3798                               [Action & Adventure]      first blood   \n",
       "1562                       [Classics,  Drama,  Romance]    anna karenina   \n",
       "4147  [Drama,  Mystery & Suspense,  Science Fiction ...            alien   \n",
       "5161                                   [Comedy,  Drama]        beginners   \n",
       "5220                                           [Comedy]      please give   \n",
       "1212               [Horror,  Science Fiction & Fantasy]        the relic   \n",
       "2167                           [Comedy,  Kids & Family]  furry vengeance   \n",
       "\n",
       "      production_budget  worldwide_gross  ROI (%)      movie_title  \\\n",
       "1812         40000000.0       58501127.0     46.0       invincible   \n",
       "1367         53012938.0      107190108.0      2.0            shaft   \n",
       "3965         12000000.0      103028188.0    759.0        project x   \n",
       "3798         14000000.0      125212904.0    794.0      first blood   \n",
       "1562         49000000.0       71004627.0     45.0    anna karenina   \n",
       "4147         10700000.0      203628947.0   1803.0            alien   \n",
       "5161          3200000.0       14314407.0    347.0        beginners   \n",
       "5220          3000000.0        4570178.0     52.0      please give   \n",
       "1212         60000000.0       33956608.0    -43.0        the relic   \n",
       "2167         35000000.0       39340177.0     12.0  furry vengeance   \n",
       "\n",
       "     content_rating  \n",
       "1812          PG-13  \n",
       "1367              R  \n",
       "3965              R  \n",
       "3798              R  \n",
       "1562              R  \n",
       "4147              R  \n",
       "5161              R  \n",
       "5220              R  \n",
       "1212              R  \n",
       "2167             PG  "
      ]
     },
     "execution_count": 30,
     "metadata": {},
     "output_type": "execute_result"
    }
   ],
   "source": [
    "# computing the joined df\n",
    "merged_df = final_table.merge(rt_df[['movie_title', 'content_rating']], left_on='movie', right_on='movie_title', how='left')\n",
    "merged_df.sample(10)"
   ]
  },
  {
   "cell_type": "markdown",
   "metadata": {},
   "source": [
    "#### *Extracting Relevant Columns*\n",
    "\n",
    "We are specifically interested in understanding how content rating relates to movie profitability. To keep our dataset focused and manageable, we will extract only two columns: `content_rating` and `ROI (%)`. These columns will allow us to analyze average returns across different rating categories.\n"
   ]
  },
  {
   "cell_type": "code",
   "execution_count": null,
   "metadata": {},
   "outputs": [
    {
     "data": {
      "application/vnd.microsoft.datawrangler.viewer.v0+json": {
       "columns": [
        {
         "name": "index",
         "rawType": "int64",
         "type": "integer"
        },
        {
         "name": "ROI (%)",
         "rawType": "float64",
         "type": "float"
        },
        {
         "name": "content_rating",
         "rawType": "object",
         "type": "string"
        }
       ],
       "conversionMethod": "pd.DataFrame",
       "ref": "972e6d4e-2f40-4ad0-8c4e-499a53806e30",
       "rows": [
        [
         "0",
         "553.0",
         "PG-13"
        ],
        [
         "1",
         "155.0",
         "PG-13"
        ],
        [
         "2",
         "-57.0",
         "PG-13"
        ],
        [
         "3",
         "324.0",
         "PG-13"
        ],
        [
         "4",
         "583.0",
         "PG-13"
        ]
       ],
       "shape": {
        "columns": 2,
        "rows": 5
       }
      },
      "text/html": [
       "<div>\n",
       "<style scoped>\n",
       "    .dataframe tbody tr th:only-of-type {\n",
       "        vertical-align: middle;\n",
       "    }\n",
       "\n",
       "    .dataframe tbody tr th {\n",
       "        vertical-align: top;\n",
       "    }\n",
       "\n",
       "    .dataframe thead th {\n",
       "        text-align: right;\n",
       "    }\n",
       "</style>\n",
       "<table border=\"1\" class=\"dataframe\">\n",
       "  <thead>\n",
       "    <tr style=\"text-align: right;\">\n",
       "      <th></th>\n",
       "      <th>ROI (%)</th>\n",
       "      <th>content_rating</th>\n",
       "    </tr>\n",
       "  </thead>\n",
       "  <tbody>\n",
       "    <tr>\n",
       "      <th>0</th>\n",
       "      <td>553.0</td>\n",
       "      <td>PG-13</td>\n",
       "    </tr>\n",
       "    <tr>\n",
       "      <th>1</th>\n",
       "      <td>155.0</td>\n",
       "      <td>PG-13</td>\n",
       "    </tr>\n",
       "    <tr>\n",
       "      <th>2</th>\n",
       "      <td>-57.0</td>\n",
       "      <td>PG-13</td>\n",
       "    </tr>\n",
       "    <tr>\n",
       "      <th>3</th>\n",
       "      <td>324.0</td>\n",
       "      <td>PG-13</td>\n",
       "    </tr>\n",
       "    <tr>\n",
       "      <th>4</th>\n",
       "      <td>583.0</td>\n",
       "      <td>PG-13</td>\n",
       "    </tr>\n",
       "  </tbody>\n",
       "</table>\n",
       "</div>"
      ],
      "text/plain": [
       "   ROI (%) content_rating\n",
       "0    553.0          PG-13\n",
       "1    155.0          PG-13\n",
       "2    -57.0          PG-13\n",
       "3    324.0          PG-13\n",
       "4    583.0          PG-13"
      ]
     },
     "execution_count": 31,
     "metadata": {},
     "output_type": "execute_result"
    }
   ],
   "source": [
    "# extracting the relevant columns\n",
    "relevant_columns=[\"ROI (%)\",\"content_rating\"]\n",
    "rel_joined_df = merged_df[relevant_columns].copy()\n",
    "rel_joined_df.head(5)"
   ]
  },
  {
   "cell_type": "markdown",
   "metadata": {},
   "source": [
    "#### *Handling Missing Values*\n",
    "\n",
    "From earlier Data Preparation, we know that `ROI` has no missing values. Here, we check for and drop rows with missing values in `content_rating` to ensure the dataset remains clean and usable.\n"
   ]
  },
  {
   "cell_type": "code",
   "execution_count": null,
   "metadata": {},
   "outputs": [
    {
     "data": {
      "text/plain": [
       "ROI (%)           0.0\n",
       "content_rating    0.0\n",
       "dtype: float64"
      ]
     },
     "execution_count": 32,
     "metadata": {},
     "output_type": "execute_result"
    }
   ],
   "source": [
    "# checking for missing_values\n",
    "missing = rel_joined_df.isna().sum()\n",
    "percent_missing = (missing / len(rel_joined_df))*100\n",
    "percent_missing"
   ]
  },
  {
   "cell_type": "code",
   "execution_count": null,
   "metadata": {},
   "outputs": [
    {
     "data": {
      "text/plain": [
       "ROI (%)           0\n",
       "content_rating    0\n",
       "dtype: int64"
      ]
     },
     "execution_count": 33,
     "metadata": {},
     "output_type": "execute_result"
    }
   ],
   "source": [
    "# dropping the rows with missing values\n",
    "rel_joined_df.dropna(axis=0,subset=\"content_rating\",inplace=True)\n",
    "rel_joined_df.isna().sum()"
   ]
  },
  {
   "cell_type": "markdown",
   "metadata": {},
   "source": [
    "#### *Aggregating ROI by Content Rating*\n",
    "\n",
    "To understand how movie profitability varies across different content ratings, we group the data by `content_rating` and compute the average `ROI` for each category. This helps reveal which content ratings are associated with higher financial returns.\n"
   ]
  },
  {
   "cell_type": "code",
   "execution_count": null,
   "metadata": {},
   "outputs": [
    {
     "data": {
      "application/vnd.microsoft.datawrangler.viewer.v0+json": {
       "columns": [
        {
         "name": "index",
         "rawType": "int64",
         "type": "integer"
        },
        {
         "name": "content_rating",
         "rawType": "object",
         "type": "string"
        },
        {
         "name": "ROI (%)",
         "rawType": "float64",
         "type": "float"
        }
       ],
       "conversionMethod": "pd.DataFrame",
       "ref": "1c297525-eed0-4adf-a504-077e39e64292",
       "rows": [
        [
         "0",
         "G",
         "751.9446494464945"
        ],
        [
         "2",
         "NR",
         "572.694214876033"
        ],
        [
         "5",
         "R",
         "513.0672525792893"
        ],
        [
         "3",
         "PG",
         "486.62232243517474"
        ],
        [
         "4",
         "PG-13",
         "257.87465181058496"
        ],
        [
         "1",
         "NC17",
         "125.0"
        ]
       ],
       "shape": {
        "columns": 2,
        "rows": 6
       }
      },
      "text/html": [
       "<div>\n",
       "<style scoped>\n",
       "    .dataframe tbody tr th:only-of-type {\n",
       "        vertical-align: middle;\n",
       "    }\n",
       "\n",
       "    .dataframe tbody tr th {\n",
       "        vertical-align: top;\n",
       "    }\n",
       "\n",
       "    .dataframe thead th {\n",
       "        text-align: right;\n",
       "    }\n",
       "</style>\n",
       "<table border=\"1\" class=\"dataframe\">\n",
       "  <thead>\n",
       "    <tr style=\"text-align: right;\">\n",
       "      <th></th>\n",
       "      <th>content_rating</th>\n",
       "      <th>ROI (%)</th>\n",
       "    </tr>\n",
       "  </thead>\n",
       "  <tbody>\n",
       "    <tr>\n",
       "      <th>0</th>\n",
       "      <td>G</td>\n",
       "      <td>751.944649</td>\n",
       "    </tr>\n",
       "    <tr>\n",
       "      <th>2</th>\n",
       "      <td>NR</td>\n",
       "      <td>572.694215</td>\n",
       "    </tr>\n",
       "    <tr>\n",
       "      <th>5</th>\n",
       "      <td>R</td>\n",
       "      <td>513.067253</td>\n",
       "    </tr>\n",
       "    <tr>\n",
       "      <th>3</th>\n",
       "      <td>PG</td>\n",
       "      <td>486.622322</td>\n",
       "    </tr>\n",
       "    <tr>\n",
       "      <th>4</th>\n",
       "      <td>PG-13</td>\n",
       "      <td>257.874652</td>\n",
       "    </tr>\n",
       "    <tr>\n",
       "      <th>1</th>\n",
       "      <td>NC17</td>\n",
       "      <td>125.000000</td>\n",
       "    </tr>\n",
       "  </tbody>\n",
       "</table>\n",
       "</div>"
      ],
      "text/plain": [
       "  content_rating     ROI (%)\n",
       "0              G  751.944649\n",
       "2             NR  572.694215\n",
       "5              R  513.067253\n",
       "3             PG  486.622322\n",
       "4          PG-13  257.874652\n",
       "1           NC17  125.000000"
      ]
     },
     "execution_count": 34,
     "metadata": {},
     "output_type": "execute_result"
    }
   ],
   "source": [
    "# grouping the df\n",
    "grouped_df = rel_joined_df.groupby(\"content_rating\")[\"ROI (%)\"].mean().reset_index().sort_values(by=\"ROI (%)\",ascending=False)\n",
    "grouped_df"
   ]
  },
  {
   "cell_type": "code",
   "execution_count": null,
   "metadata": {},
   "outputs": [
    {
     "data": {
      "text/plain": [
       "True"
      ]
     },
     "execution_count": 35,
     "metadata": {},
     "output_type": "execute_result"
    }
   ],
   "source": [
    "# checking if the groupby captured all categories\n",
    "len(rt_df['content_rating'].unique())==len(grouped_df)"
   ]
  },
  {
   "cell_type": "markdown",
   "metadata": {},
   "source": [
    "Since the number of categories remain constant after aggregating the columns, we conclude that the groupby captured all the categories in the content rating column."
   ]
  },
  {
   "cell_type": "markdown",
   "metadata": {},
   "source": [
    "#### Further Exploratory Data Analysis\n",
    "Before we proceed with statistical testing, it is essential to conduct thorough Exploratory Data Analysis (EDA) on the variables involved. In this case, we are investigating the relationship between a movie’s content rating and its return on investment (ROI).\n",
    "\n",
    "We must ensure the data is as accurate and clean as possible. Further EDA will help us identify inconsistencies, outliers, and patterns that could distort results. Making the necessary adjustments at this stage improves the reliability of any statistical tests that follow.\n"
   ]
  },
  {
   "cell_type": "markdown",
   "metadata": {},
   "source": [
    "##### *Summarizing Dataframe*\n",
    "Summarizing the dataset gives an overall view of its structure, including the number of records, types of columns, presence of missing values, and mix of categorical and numerical data. This initial step is important for understanding the completeness and quality of the data, identifying what types of analysis are appropriate, and planning any necessary cleaning or preprocessing before deeper exploration. In this section we will be summarizing the merged dataframe containing relevant columns."
   ]
  },
  {
   "cell_type": "code",
   "execution_count": null,
   "metadata": {},
   "outputs": [
    {
     "name": "stdout",
     "output_type": "stream",
     "text": [
      "<class 'pandas.core.frame.DataFrame'>\n",
      "RangeIndex: 6061 entries, 0 to 6060\n",
      "Data columns (total 2 columns):\n",
      " #   Column          Non-Null Count  Dtype  \n",
      "---  ------          --------------  -----  \n",
      " 0   ROI (%)         6061 non-null   float64\n",
      " 1   content_rating  6061 non-null   object \n",
      "dtypes: float64(1), object(1)\n",
      "memory usage: 94.8+ KB\n"
     ]
    }
   ],
   "source": [
    "# summary statistics of the cleaned dataframe\n",
    "rel_joined_df.info()"
   ]
  },
  {
   "cell_type": "markdown",
   "metadata": {},
   "source": [
    "The dataset has 6,061 rows and 2 columns, with no missing values. It contains both categorical and numerical columns, which determines the methods used for analysis"
   ]
  },
  {
   "cell_type": "markdown",
   "metadata": {},
   "source": [
    "##### *Describing Numerical Columns*\n",
    "Describing the `ROI%` column provides a clear overview of its' typical values, variability, and distribution. It helps identify outliers, detect skewness, and understand how these variables compare in scale. This foundational insight is essential for making informed analysis decisions, guiding further data exploration, and ensuring accurate modeling."
   ]
  },
  {
   "cell_type": "code",
   "execution_count": null,
   "metadata": {},
   "outputs": [
    {
     "data": {
      "application/vnd.microsoft.datawrangler.viewer.v0+json": {
       "columns": [
        {
         "name": "index",
         "rawType": "object",
         "type": "string"
        },
        {
         "name": "ROI (%)",
         "rawType": "float64",
         "type": "float"
        }
       ],
       "conversionMethod": "pd.DataFrame",
       "ref": "6c2eb1cc-1c0d-4234-9539-5efb7407eeaf",
       "rows": [
        [
         "count",
         "6061.0"
        ],
        [
         "mean",
         "448.6144200626959"
        ],
        [
         "std",
         "1817.5582074124036"
        ],
        [
         "min",
         "-100.0"
        ],
        [
         "25%",
         "-19.5"
        ],
        [
         "50%",
         "103.0"
        ],
        [
         "75%",
         "312.0"
        ],
        [
         "max",
         "49775.0"
        ]
       ],
       "shape": {
        "columns": 1,
        "rows": 8
       }
      },
      "text/html": [
       "<div>\n",
       "<style scoped>\n",
       "    .dataframe tbody tr th:only-of-type {\n",
       "        vertical-align: middle;\n",
       "    }\n",
       "\n",
       "    .dataframe tbody tr th {\n",
       "        vertical-align: top;\n",
       "    }\n",
       "\n",
       "    .dataframe thead th {\n",
       "        text-align: right;\n",
       "    }\n",
       "</style>\n",
       "<table border=\"1\" class=\"dataframe\">\n",
       "  <thead>\n",
       "    <tr style=\"text-align: right;\">\n",
       "      <th></th>\n",
       "      <th>ROI (%)</th>\n",
       "    </tr>\n",
       "  </thead>\n",
       "  <tbody>\n",
       "    <tr>\n",
       "      <th>count</th>\n",
       "      <td>6061.000000</td>\n",
       "    </tr>\n",
       "    <tr>\n",
       "      <th>mean</th>\n",
       "      <td>448.614420</td>\n",
       "    </tr>\n",
       "    <tr>\n",
       "      <th>std</th>\n",
       "      <td>1817.558207</td>\n",
       "    </tr>\n",
       "    <tr>\n",
       "      <th>min</th>\n",
       "      <td>-100.000000</td>\n",
       "    </tr>\n",
       "    <tr>\n",
       "      <th>25%</th>\n",
       "      <td>-19.500000</td>\n",
       "    </tr>\n",
       "    <tr>\n",
       "      <th>50%</th>\n",
       "      <td>103.000000</td>\n",
       "    </tr>\n",
       "    <tr>\n",
       "      <th>75%</th>\n",
       "      <td>312.000000</td>\n",
       "    </tr>\n",
       "    <tr>\n",
       "      <th>max</th>\n",
       "      <td>49775.000000</td>\n",
       "    </tr>\n",
       "  </tbody>\n",
       "</table>\n",
       "</div>"
      ],
      "text/plain": [
       "            ROI (%)\n",
       "count   6061.000000\n",
       "mean     448.614420\n",
       "std     1817.558207\n",
       "min     -100.000000\n",
       "25%      -19.500000\n",
       "50%      103.000000\n",
       "75%      312.000000\n",
       "max    49775.000000"
      ]
     },
     "execution_count": 37,
     "metadata": {},
     "output_type": "execute_result"
    }
   ],
   "source": [
    "# describing the cleaned dataframe\n",
    "rel_joined_df.describe()"
   ]
  },
  {
   "cell_type": "markdown",
   "metadata": {},
   "source": [
    "The average ROI percentage is approximately 448.61%, with values ranging from a complete loss at -100% to a very high gain of 49,775%. The median sits at 103%, suggesting that half the values are above this point and half below, though the high maximum skews the mean upward. The first quartile (25%) is -19.5, and the third quartile (75%) is 312, indicating that most values are concentrated in the lower and middle ranges but with a few exceptionally high returns."
   ]
  },
  {
   "cell_type": "markdown",
   "metadata": {},
   "source": [
    "##### Outliers Handling\n",
    "Following the feedback from the 02/05/2025 presentation, we took Mr. Karu’s advice and decided to drop the outlier-handling function. Since this is movie data, outliers often represent genuine blockbusters or flops that are essential to understanding the broader ROI trends across different content ratings. Removing these data points would have risked losing valuable insights. Additionally, keeping the outliers preserved the integrity of the original variable relationships. The code cell below was the simplest and most efficient way to handle the variables we had created, which are referenced in later analyses."
   ]
  },
  {
   "cell_type": "code",
   "execution_count": null,
   "metadata": {},
   "outputs": [
    {
     "data": {
      "application/vnd.microsoft.datawrangler.viewer.v0+json": {
       "columns": [
        {
         "name": "index",
         "rawType": "int64",
         "type": "integer"
        },
        {
         "name": "ROI (%)",
         "rawType": "float64",
         "type": "float"
        },
        {
         "name": "content_rating",
         "rawType": "object",
         "type": "string"
        }
       ],
       "conversionMethod": "pd.DataFrame",
       "ref": "b1089682-8e72-4337-9228-ad5c44043876",
       "rows": [
        [
         "5966",
         "49775.0",
         "R"
        ],
        [
         "5893",
         "43052.0",
         "R"
        ],
        [
         "6012",
         "41556.0",
         "R"
        ],
        [
         "5813",
         "41283.0",
         "R"
        ],
        [
         "6031",
         "34106.0",
         "PG-13"
        ],
        [
         "5764",
         "31135.0",
         "G"
        ],
        [
         "6056",
         "29070.0",
         "R"
        ],
        [
         "5667",
         "22400.0",
         "PG"
        ],
        [
         "6034",
         "20753.0",
         "R"
        ],
        [
         "5777",
         "17918.0",
         "PG"
        ],
        [
         "6060",
         "16358.0",
         "PG"
        ],
        [
         "5992",
         "15449.0",
         "R"
        ],
        [
         "6048",
         "14323.0",
         "R"
        ],
        [
         "5016",
         "13165.5",
         "NR"
        ],
        [
         "5014",
         "13165.5",
         "NR"
        ],
        [
         "6007",
         "13165.5",
         "R"
        ],
        [
         "6006",
         "13165.5",
         "NR"
        ],
        [
         "5017",
         "13165.5",
         "R"
        ],
        [
         "6005",
         "13165.5",
         "R"
        ],
        [
         "5015",
         "13165.5",
         "R"
        ],
        [
         "6004",
         "13165.5",
         "NR"
        ],
        [
         "5616",
         "12328.0",
         "G"
        ],
        [
         "5770",
         "12150.0",
         "PG"
        ],
        [
         "6057",
         "11928.0",
         "PG-13"
        ],
        [
         "6049",
         "11435.0",
         "R"
        ],
        [
         "5899",
         "11431.0",
         "PG"
        ],
        [
         "5829",
         "11004.0",
         "R"
        ],
        [
         "6013",
         "10143.0",
         "PG"
        ],
        [
         "5668",
         "10076.0",
         "R"
        ],
        [
         "4394",
         "9990.0",
         "R"
        ],
        [
         "5996",
         "9990.0",
         "R"
        ],
        [
         "5101",
         "9913.0",
         "G"
        ],
        [
         "5959",
         "8880.0",
         "NR"
        ],
        [
         "5634",
         "8557.0",
         "R"
        ],
        [
         "4164",
         "8101.333333333333",
         "R"
        ],
        [
         "4166",
         "8101.333333333333",
         "R"
        ],
        [
         "3608",
         "8101.333333333333",
         "R"
        ],
        [
         "3605",
         "8101.333333333333",
         "R"
        ],
        [
         "3604",
         "8101.333333333333",
         "R"
        ],
        [
         "5926",
         "8101.333333333333",
         "R"
        ],
        [
         "4165",
         "8101.333333333333",
         "R"
        ],
        [
         "4167",
         "8101.333333333333",
         "R"
        ],
        [
         "4169",
         "8101.333333333333",
         "R"
        ],
        [
         "5928",
         "8101.333333333333",
         "R"
        ],
        [
         "4171",
         "8101.333333333333",
         "R"
        ],
        [
         "4170",
         "8101.333333333333",
         "R"
        ],
        [
         "4168",
         "8101.333333333333",
         "R"
        ],
        [
         "3602",
         "8101.333333333333",
         "R"
        ],
        [
         "3609",
         "8101.333333333333",
         "R"
        ],
        [
         "3603",
         "8101.333333333333",
         "R"
        ]
       ],
       "shape": {
        "columns": 2,
        "rows": 6061
       }
      },
      "text/html": [
       "<div>\n",
       "<style scoped>\n",
       "    .dataframe tbody tr th:only-of-type {\n",
       "        vertical-align: middle;\n",
       "    }\n",
       "\n",
       "    .dataframe tbody tr th {\n",
       "        vertical-align: top;\n",
       "    }\n",
       "\n",
       "    .dataframe thead th {\n",
       "        text-align: right;\n",
       "    }\n",
       "</style>\n",
       "<table border=\"1\" class=\"dataframe\">\n",
       "  <thead>\n",
       "    <tr style=\"text-align: right;\">\n",
       "      <th></th>\n",
       "      <th>ROI (%)</th>\n",
       "      <th>content_rating</th>\n",
       "    </tr>\n",
       "  </thead>\n",
       "  <tbody>\n",
       "    <tr>\n",
       "      <th>5966</th>\n",
       "      <td>49775.0</td>\n",
       "      <td>R</td>\n",
       "    </tr>\n",
       "    <tr>\n",
       "      <th>5893</th>\n",
       "      <td>43052.0</td>\n",
       "      <td>R</td>\n",
       "    </tr>\n",
       "    <tr>\n",
       "      <th>6012</th>\n",
       "      <td>41556.0</td>\n",
       "      <td>R</td>\n",
       "    </tr>\n",
       "    <tr>\n",
       "      <th>5813</th>\n",
       "      <td>41283.0</td>\n",
       "      <td>R</td>\n",
       "    </tr>\n",
       "    <tr>\n",
       "      <th>6031</th>\n",
       "      <td>34106.0</td>\n",
       "      <td>PG-13</td>\n",
       "    </tr>\n",
       "    <tr>\n",
       "      <th>...</th>\n",
       "      <td>...</td>\n",
       "      <td>...</td>\n",
       "    </tr>\n",
       "    <tr>\n",
       "      <th>5995</th>\n",
       "      <td>-100.0</td>\n",
       "      <td>R</td>\n",
       "    </tr>\n",
       "    <tr>\n",
       "      <th>5883</th>\n",
       "      <td>-100.0</td>\n",
       "      <td>NR</td>\n",
       "    </tr>\n",
       "    <tr>\n",
       "      <th>5885</th>\n",
       "      <td>-100.0</td>\n",
       "      <td>R</td>\n",
       "    </tr>\n",
       "    <tr>\n",
       "      <th>5886</th>\n",
       "      <td>-100.0</td>\n",
       "      <td>NR</td>\n",
       "    </tr>\n",
       "    <tr>\n",
       "      <th>5887</th>\n",
       "      <td>-100.0</td>\n",
       "      <td>NR</td>\n",
       "    </tr>\n",
       "  </tbody>\n",
       "</table>\n",
       "<p>6061 rows × 2 columns</p>\n",
       "</div>"
      ],
      "text/plain": [
       "      ROI (%) content_rating\n",
       "5966  49775.0              R\n",
       "5893  43052.0              R\n",
       "6012  41556.0              R\n",
       "5813  41283.0              R\n",
       "6031  34106.0          PG-13\n",
       "...       ...            ...\n",
       "5995   -100.0              R\n",
       "5883   -100.0             NR\n",
       "5885   -100.0              R\n",
       "5886   -100.0             NR\n",
       "5887   -100.0             NR\n",
       "\n",
       "[6061 rows x 2 columns]"
      ]
     },
     "execution_count": 38,
     "metadata": {},
     "output_type": "execute_result"
    }
   ],
   "source": [
    "# grouping the df\n",
    "cleaned_df2 = rel_joined_df.sort_values(by=\"ROI (%)\",ascending=False)\n",
    "cleaned_df2"
   ]
  },
  {
   "cell_type": "markdown",
   "metadata": {},
   "source": [
    "## 【3】**Data Analysis**  "
   ]
  },
  {
   "cell_type": "markdown",
   "metadata": {},
   "source": [
    "#### *1. Data Analysis*  "
   ]
  },
  {
   "cell_type": "markdown",
   "metadata": {},
   "source": [
    "##### **Understanding the Relationship between Genres and Ratings**\n",
    "The relationship between genres and audience/critic ratings is a crucial first step to consider toward making informed content decisions. Investing in the right genres can significantly increase the chances of critical acclaim, audience satisfaction, and ultimately, commercial success. By analyzing rating trends across genres, this report helps the studio identify which types of films are consistently well-received and align with current viewer and critic preferences."
   ]
  },
  {
   "cell_type": "code",
   "execution_count": null,
   "metadata": {},
   "outputs": [
    {
     "data": {
      "image/png": "[encoded data removed]",
      "text/plain": [
       "<Figure size 1400x800 with 1 Axes>"
      ]
     },
     "metadata": {},
     "output_type": "display_data"
    }
   ],
   "source": [
    "sns.set(style='darkgrid')\n",
    "# Calculate the average rating of the two columns\n",
    "genre_rating_df['average_rating'] = genre_rating_df[['audience_rating', 'tomatometer_rating']].mean(axis=1)\n",
    "top_genres_df = genre_rating_df.sort_values('average_rating', ascending=False)  \n",
    "\n",
    "# Reshape the data to long format for easy plotting with Seaborn\n",
    "long_df = pd.melt(top_genres_df, id_vars='genres', value_vars=['audience_rating', 'tomatometer_rating'],\n",
    "                  var_name='rating_type', value_name='rating')\n",
    "\n",
    "# Set up the plot\n",
    "plt.figure(figsize=(14, 8))\n",
    "\n",
    "# Define the custom colors from the Blues_d palette\n",
    "custom_palette = {'audience_rating': '#89CFF0', 'tomatometer_rating': '#0047AB'}  # Light blue for audience, dark blue for critic\n",
    "\n",
    "# Plot the horizontal barplot with custom colors\n",
    "sns.barplot(y='genres', x='rating', hue='rating_type', data=long_df, palette=custom_palette, errorbar=None, alpha=0.7)\n",
    "\n",
    "# Customize the plot\n",
    "plt.title('Top Genres by Average Rating (Audience vs Critic)', fontsize=16, weight='bold')\n",
    "plt.xlabel('Rating', fontsize=12)\n",
    "plt.ylabel('Genres', fontsize=12)\n",
    "\n",
    "# Move the legend to the right side of the grid and update legend labels\n",
    "plt.legend(title='Rating Type', labels=['Audience', 'Critic'], loc='center left', bbox_to_anchor=(1, 0.5))\n",
    "\n",
    "sns.despine(left=True, bottom=True)  # Remove top and right spines for a cleaner look\n",
    "\n",
    "# Adjust layout to make room for the legend\n",
    "plt.tight_layout()\n",
    "\n",
    "# Show the plot\n",
    "plt.show()"
   ]
  },
  {
   "cell_type": "markdown",
   "metadata": {},
   "source": [
    "The bar chart provides a side-by-side comparison of average audience and critic ratings across various genres. Key insights include:\n",
    "\n",
    "- `Documentaries` stand out as the highest-rated genre by critics, and they also perform very well with audiences.\n",
    "\n",
    "- `Anime & Manga`, `Special Interest`, and `Classics` are also among the top genres appreciated by both critics and audiences, indicating strong dual-market appeal.\n",
    "\n",
    "- `Television` receives relatively high audience ratings but lower critic scores, suggesting it may appeal more to popular tastes than to critical standards.\n",
    "\n",
    "- Genres like `Faith & Spirituality` and `Western` tend to score lower across both metrics, potentially indicating limited broad appeal or niche value.\n",
    "\n",
    "- `Sports & Fitness` shows an interesting case where audience ratings surpass critic scores, implying mass appeal despite critical reservations."
   ]
  },
  {
   "cell_type": "markdown",
   "metadata": {},
   "source": [
    "*Exploring whethere Correlation Between Audience and Critic Ratings exists:*"
   ]
  },
  {
   "cell_type": "code",
   "execution_count": null,
   "metadata": {},
   "outputs": [
    {
     "data": {
      "image/png": "[encoded data removed]",
      "text/plain": [
       "<Figure size 1000x600 with 1 Axes>"
      ]
     },
     "metadata": {},
     "output_type": "display_data"
    }
   ],
   "source": [
    "plt.figure(figsize=(10, 6))\n",
    "\n",
    "# Create the scatterplot with a line of best fit\n",
    "sns.regplot(data=genre_rating_df, x='audience_rating', y='tomatometer_rating', \n",
    "            scatter_kws={'color': '#1f77b4', 'alpha': 0.7}, line_kws={'color': 'red', 'linewidth': 2})\n",
    "\n",
    "# Add a title and labels\n",
    "plt.title('Correlation between Audience Rating and Critic (Tomatometer) Rating', fontsize=16, weight='bold')\n",
    "plt.xlabel('Audience Rating', fontsize=12)\n",
    "plt.ylabel('Critic Rating (Tomatometer)', fontsize=12)\n",
    "\n",
    "# Show the plot\n",
    "plt.tight_layout()\n",
    "plt.show()"
   ]
  },
  {
   "cell_type": "markdown",
   "metadata": {},
   "source": [
    "The scatter plot reveals a strong positive correlation. Key takeaways:\n",
    "\n",
    "- The upward trend in the regression line indicates that genres that resonate with viewers are also likely to be rated favorably by critics.\n",
    "\n",
    "- However, some variance still exists — genres with similar audience scores can have differing critic scores, emphasizing the need to evaluate both metrics when choosing a genre.\n",
    "\n",
    "Overall, the correlation suggests that aligning with audience preferences does not come at the cost of critical acclaim — genres that perform well with audiences are likely to satisfy both sides."
   ]
  },
  {
   "cell_type": "markdown",
   "metadata": {},
   "source": [
    "*Strategic Implications:*\n",
    "\n",
    "- Prioritize Dual-Appeal Genres: Focus on genres like Documentary, Classics, and Anime & Manga, which show high ratings from both audiences and critics.\n",
    "\n",
    "- Leverage Niche Strengths: Consider Special Interest and Musical & Performing Arts for targeted releases that appeal to specific segments with high satisfaction rates.\n",
    "\n",
    "- Be Cautious with Low-Performing Genres: Limit investment in Faith & Spirituality and Western, as these genres tend to underperform in both rating categories.\n",
    "\n",
    "- Explore Genre Blends Carefully: The studio could also explore creating films that blend multiple high-performing genres (e.g. a documentary-style classic or anime). However, this strategy requires careful execution to avoid diluting the strengths of each genre, as blending tones or styles can be creatively complex and risky if not handled thoughtfully.\n",
    "\n",
    "- Audience-Driven Genres as Commercial Bets: Genres like Television and Sports & Fitness may not win over critics but can still generate strong commercial returns if marketed effectively.\n",
    "\n",
    "By aligning production strategies with data-driven genre preferences, the studio can optimize both audience impact and critical success from the outset."
   ]
  },
  {
   "cell_type": "markdown",
   "metadata": {},
   "source": [
    "##### **Understanding the Relationship between Genre and ROI**\n",
    "For any new movie studio or investor in the film industry, understanding which genres yield the highest Return on Investment (ROI) is critical to making profitable, risk-aware decisions. Unlike raw revenue or box office numbers, ROI accounts for both earnings and cost—making it a more accurate measure of financial efficiency.\n",
    "\n",
    "By focusing on genres that consistently outperform in ROI—especially those with low production costs but high audience engagement—a studio can carve out a profitable market position, even in a competitive industry landscape.\n"
   ]
  },
  {
   "cell_type": "code",
   "execution_count": null,
   "metadata": {},
   "outputs": [
    {
     "data": {
      "image/png": "[encoded data removed]",
      "text/plain": [
       "<Figure size 1500x800 with 1 Axes>"
      ]
     },
     "metadata": {},
     "output_type": "display_data"
    }
   ],
   "source": [
    "# Set Seaborn theme for cleaner aesthetics\n",
    "sns.set(style=\"darkgrid\")\n",
    "\n",
    "# Sort the data for better visual ordering (highest ROI on top)\n",
    "grouped_sorted = grouped_table.sort_values('normalized_ROI', ascending=False)\n",
    "\n",
    "# Set up the figure\n",
    "plt.figure(figsize=(15, 8))\n",
    "\n",
    "# Create horizontal barplot\n",
    "ax = sns.barplot(\n",
    "    x='normalized_ROI',\n",
    "    y='genres',\n",
    "    hue='genres',\n",
    "    data=grouped_sorted,\n",
    "    palette='Blues_d',\n",
    "    alpha=0.8\n",
    ")\n",
    "\n",
    "# Add annotations to each bar\n",
    "for i, (roi, genre) in enumerate(zip(grouped_sorted['normalized_ROI'], grouped_sorted['genres'])):\n",
    "    ax.text(roi + 1, i, f'{roi:.1f}%', va='center', ha='left', fontsize=10, color='black')\n",
    "\n",
    "# Titles and labels\n",
    "plt.title('Normalized ROI per Genre', fontsize=16, weight='bold')\n",
    "plt.xlabel('Normalized ROI (%)', fontsize=12)\n",
    "plt.ylabel('Genres', fontsize=12)\n",
    "\n",
    "# Remove top and right spines\n",
    "sns.despine(left=True, bottom=True)\n",
    "\n",
    "# Show the plot\n",
    "plt.tight_layout()\n",
    "plt.show();"
   ]
  },
  {
   "cell_type": "markdown",
   "metadata": {},
   "source": [
    "From the chart, we observe that:\n",
    "\n",
    "- Cult Movies stand out with a significantly higher normalized ROI (~31.3%) compared to all other genres. This suggests that despite often lower production budgets, these films generate exceptional returns — likely due to niche, loyal audiences and strong word-of-mouth.\n",
    "\n",
    "- Genres like Horror (6.5%), Special Interest (6.3%), and Documentary (5.8%) also perform well in terms of ROI. These typically have lower budgets and focused audiences, which makes them efficient from an investment standpoint.\n",
    "\n",
    "- Traditional commercial genres such as Action & Adventure, Comedy, and Drama have lower normalized ROI values (around 2%), indicating that high production costs may dilute their profitability even if box office performance is strong.\n",
    "\n",
    "- Genres with niche or limited mainstream appeal, such as Western, Gay & Lesbian, and Anime & Manga, tend to have the lowest ROI, suggesting limited reach or returns relative to investment."
   ]
  },
  {
   "cell_type": "markdown",
   "metadata": {},
   "source": [
    "*Strategic Implications:*\n",
    "\n",
    "- Start Lean with High-ROI Genres: Cult films, horror, and documentaries offer low-cost, high return entry points — ideal for a new studio looking to establish financial momentum.\n",
    "\n",
    "- Balance Artistic and Financial Goals: While genres like drama or action may be appealing creatively, they require large investments and may not be financially viable early on.\n",
    "\n",
    "- Use Niche Genres Strategically: Some lower-ROI genres might still be valuable for brand identity or critical acclaim but should be approached cautiously and supported by audience research.\n",
    "\n",
    "- Monitor Genre Trends Over Time: ROI can shift with cultural trends and streaming preferences. Periodic reassessment ensures continued alignment with profitable opportunities.\n",
    "\n",
    "By prioritizing genres with high ROI and focused audience appeal, the studio can build a sustainable production strategy that aligns artistic goals with strong financial outcomes."
   ]
  },
  {
   "cell_type": "markdown",
   "metadata": {},
   "source": [
    "##### **Understanding the Relationship between Language and Popularity**\n",
    "When launching a new movie studio, it is essential to analyze the relationship between a film's language and its popularity. Language plays a pivotal role in determining audience reach, cultural accessibility, and commercial success. By identifying which languages dominate film production and how those languages correspond with popularity, stakeholders can make informed decisions about language selection in content creation.\n"
   ]
  },
  {
   "cell_type": "markdown",
   "metadata": {},
   "source": [
    "*Which Languages Dominate Movie Production?*\n",
    "\n",
    "To begin our analysis, we examine the languages with the highest volume of produced movies. This insight is important because a high production volume often signals a large target audience, mature distribution networks, and established infrastructure for casting, marketing, and localization.\n",
    "\n",
    "The bar plot below displays the top 15 most common movie languages by production volume:"
   ]
  },
  {
   "cell_type": "code",
   "execution_count": null,
   "metadata": {},
   "outputs": [
    {
     "data": {
      "image/png": "[encoded data removed]",
      "text/plain": [
       "<Figure size 1400x700 with 1 Axes>"
      ]
     },
     "metadata": {},
     "output_type": "display_data"
    }
   ],
   "source": [
    "language_counts = tmdb_df['original_language'].value_counts().head(15)\n",
    "\n",
    "# Create the plot\n",
    "plt.figure(figsize=(14, 7))\n",
    "sns.set_palette('Blues_d')\n",
    "ax = sns.barplot(x=language_counts.index, y=language_counts.values)\n",
    "\n",
    "# Customize the plot\n",
    "plt.title('Top 15 Most Common Movie Languages by Production Volume', fontsize=16, pad=20)\n",
    "plt.xlabel('Language Code', fontsize=12)\n",
    "plt.ylabel('Number of Movies', fontsize=12)\n",
    "plt.xticks(rotation=45, ha='right')\n",
    "plt.show()"
   ]
  },
  {
   "cell_type": "markdown",
   "metadata": {},
   "source": [
    "From the chart, we observe that:\n",
    "\n",
    "- English (en) dominates with over 20,000 movies, far exceeding any other language.\n",
    "\n",
    "- French (fr) and Spanish (es) follow as the second and third most common languages.\n",
    "\n",
    "This trend indicates that most studios tend to produce content in English, which may be due to its global acceptance, availability of talent, and ease of distribution. For a new studio, prioritizing English-language productions may align with industry norms and maximize early traction."
   ]
  },
  {
   "cell_type": "markdown",
   "metadata": {},
   "source": [
    "*Popularity Distribution by Language: Beyond Just Volume*\n",
    "\n",
    "While production volume tells us what studios are doing, it doesn’t necessarily reflect what audiences prefer. To gain deeper insight, we analyze how popularity scores vary across languages using a box plot, which also helps us detect outliers — movies that achieve exceptional popularity.\n",
    "\n",
    "*Why focus on outliers?*\n",
    "\n",
    "- Languages with frequent or extreme outliers may occasionally produce global blockbusters.\n",
    "\n",
    "- Outliers highlight potential for breakout success, even in languages with low production volume."
   ]
  },
  {
   "cell_type": "code",
   "execution_count": null,
   "metadata": {},
   "outputs": [
    {
     "data": {
      "image/png": "[encoded data removed]",
      "text/plain": [
       "<Figure size 1200x600 with 1 Axes>"
      ]
     },
     "metadata": {},
     "output_type": "display_data"
    }
   ],
   "source": [
    "# Get top 20 languages by frequency\n",
    "top_languages = tmdb_df['original_language'].value_counts().head(20).index\n",
    "filtered_data = tmdb_df[tmdb_df['original_language'].isin(top_languages)]\n",
    "\n",
    "# Plot\n",
    "plt.figure(figsize=(12, 6))\n",
    "sns.boxplot(\n",
    "    x='original_language',\n",
    "    y='popularity',\n",
    "    hue='original_language',\n",
    "    data=filtered_data,\n",
    "    palette='Blues_d'\n",
    ")\n",
    "plt.title(\"Popularity Distribution by Top 20 Languages\")\n",
    "plt.xticks()\n",
    "plt.yscale('log')  # Log scale for better visibility of outliers\n",
    "plt.show()"
   ]
  },
  {
   "cell_type": "markdown",
   "metadata": {},
   "source": [
    "From the chart, we observe that:\n",
    "\n",
    "- English (en) not only leads in production but also shows a wide range of popularity with multiple strong outliers, indicating many top-performing movies.\n",
    "\n",
    "- Japanese (ja), Spanish (es), French (fr), and Russian (ru) also exhibit strong outliers, signaling their ability to produce highly popular films despite smaller outputs.\n",
    "\n",
    "Languages with such outliers should not be overlooked, as they demonstrate a capacity to reach niche or international audiences and generate significant returns on select titles.\n",
    "\n"
   ]
  },
  {
   "cell_type": "markdown",
   "metadata": {},
   "source": [
    "*Strategic Implications:*\n",
    "- Start with English: It remains the safest and most effective language for reaching a wide audience and increasing chances of high popularity.\n",
    "\n",
    "- Consider Multilingual or International Releases: Incorporating or targeting French, Spanish, Japanese, or Russian may unlock opportunities for standout success, especially as the studio grows.\n",
    "\n",
    "- Monitor Trends: Popularity is dynamic. Ongoing analysis of language trends and audience preferences can help the studio stay relevant and competitive.\n",
    "\n",
    "- By aligning production language with both market saturation and audience impact, the studio can enhance its global appeal and optimize its content strategy from day one."
   ]
  },
  {
   "cell_type": "markdown",
   "metadata": {},
   "source": [
    "##### **Understanding the Relationship between Directors and Worldwide Gross Earnings**\n",
    "To guide future production strategy, it's important to assess how a film’s director influences its financial success. Directors often shape the creative direction, which can directly impact audience reception and global revenue.\n",
    "\n",
    "By exploring the relationship between directors and worldwide gross sales, we aim to identify those who consistently lead high-grossing films. This insight will help the newly acquired studio prioritize collaborations that are more likely to deliver strong box office returns and align with the company's goal of maximizing ROI."
   ]
  },
  {
   "cell_type": "code",
   "execution_count": null,
   "metadata": {},
   "outputs": [
    {
     "data": {
      "image/png": "[encoded data removed]",
      "text/plain": [
       "<Figure size 1500x800 with 1 Axes>"
      ]
     },
     "metadata": {},
     "output_type": "display_data"
    }
   ],
   "source": [
    "# Select the first 10 entries (assumes dataframe is already sorted)\n",
    "top_10_directors = agg_directors_df.head(10).iloc[::-1]\n",
    "\n",
    "plt.figure(figsize=(15, 8))\n",
    "\n",
    "# Create horizontal barplot\n",
    "ax = sns.barplot(\n",
    "    x='director_name',\n",
    "    y='worldwide_gross',\n",
    "    hue='director_name',\n",
    "    data=top_10_directors,\n",
    "    palette='Blues_d',\n",
    "    # alpha=0.8\n",
    ")\n",
    "\n",
    "# Titles and labels\n",
    "plt.title('Top 10 Directors by Worldwide Gross', fontsize=16)\n",
    "plt.xlabel('Director Name', fontsize=12)\n",
    "plt.ylabel('Worldwide Gross', fontsize=12)\n",
    "\n",
    "\n",
    "# Remove top and right spines\n",
    "sns.despine(left=True, bottom=True)\n",
    "\n",
    "# Show the plot\n",
    "plt.tight_layout()\n",
    "plt.show();"
   ]
  },
  {
   "cell_type": "markdown",
   "metadata": {},
   "source": [
    "The bar chart highlights the ten most commercially successful directors based on worldwide gross revenue. Key observations include:\n",
    "\n",
    "- Joe Russo and Anthony Russo dominate the chart, both nearing or exceeding the $3.9 billion mark. This reflects their significant contributions to blockbuster franchises, particularly within the Marvel Cinematic Universe.\n",
    "\n",
    "- Pierre Coffin, known for animated films like Despicable Me and Minions, ranks just below, indicating the strong earning potential of animated family films.\n",
    "\n",
    "- Christopher Nolan stands out as the only director in the top tier known for original, high-concept blockbusters, suggesting that originality paired with cinematic scale can also yield massive returns.\n",
    "\n",
    "- Directors like Michael Bay, Joss Whedon, and Jon Favreau reflect the commercial power of action-heavy, effects-driven films and franchise-building.\n",
    "\n",
    "Overall, the data shows a clear trend: franchise integration, visual spectacle, and genre appeal (especially action, animation, and superhero films) consistently lead to high global box office success including amazing directors."
   ]
  },
  {
   "cell_type": "markdown",
   "metadata": {},
   "source": [
    "*Strategic Implications:*\n",
    "\n",
    "- Leverage Proven Commercial Directors: Prioritize collaboration with or emulation of directors who have a proven track record of generating high worldwide gross, such as the Russo brothers, Christopher Nolan, and Michael Bay.\n",
    "\n",
    "- Recognize the Value of Director Branding: Certain directors—especially those associated with major box office hits—carry brand equity that can drive audience interest and investment potential.\n",
    "\n",
    "- Explore High-Grossing Collaboration Models: The presence of both Russo brothers individually suggests that co-directing or creative partnerships can lead to significant commercial outcomes when well executed.\n",
    "\n",
    "- Balance Franchise Experience and Standalone Success: While many directors on the list gained success through major franchises, Christopher Nolan’s presence indicates that original content with strong direction can also achieve global financial success.\n",
    "\n",
    "- Monitor Talent That Aligns With Studio Goals: For a new studio, targeting rising or mid-tier directors with similar styles or genres to those on the list could be a scalable and cost-effective way to replicate success patterns."
   ]
  },
  {
   "cell_type": "markdown",
   "metadata": {},
   "source": [
    "We should also explore the yearly gross revenues of the top 5 directors to assess whether their commercial success is driven by past achievements or if they are maintaining, declining, or improving over time. This analysis will provide insights into the sustainability of their success and how their recent films compare to earlier ones, highlighting whether their box office appeal remains consistent."
   ]
  },
  {
   "cell_type": "code",
   "execution_count": null,
   "metadata": {},
   "outputs": [],
   "source": [
    "# Data Preparation for Over Time Analysis of Directors\n",
    "# Get top 5 directors (first 5 entries from already sorted agg_directors_df)\n",
    "top_5_directors = agg_directors_df.head(5)['director_name'].tolist()\n",
    "\n",
    "# Filter directors_fgross_df for top 5 directors\n",
    "filtered_df = directors_fgross_df[directors_fgross_df['director_name'].isin(top_5_directors)].copy()\n",
    "\n",
    "# Clean 'worldwide_gross' column (remove $ and commas, convert to float)\n",
    "filtered_df['worldwide_gross'] = (\n",
    "    filtered_df['worldwide_gross']\n",
    "    .replace({r'\\$': '', ',': ''}, regex=True)\n",
    "    .astype(float)\n",
    ")\n",
    "\n",
    "# Group by director and start_year\n",
    "grouped = (\n",
    "    filtered_df\n",
    "    .groupby(['director_name', 'start_year'])['worldwide_gross']\n",
    "    .sum()\n",
    "    .reset_index()\n",
    ")"
   ]
  },
  {
   "cell_type": "code",
   "execution_count": null,
   "metadata": {},
   "outputs": [
    {
     "data": {
      "image/png": "[encoded data removed]",
      "text/plain": [
       "<Figure size 1200x600 with 1 Axes>"
      ]
     },
     "metadata": {},
     "output_type": "display_data"
    }
   ],
   "source": [
    "# Plot the line chart\n",
    "\n",
    "plt.figure(figsize=(12, 6))\n",
    "sns.lineplot(\n",
    "    data=grouped,\n",
    "    x='start_year',\n",
    "    y='worldwide_gross',\n",
    "    hue='director_name',\n",
    "    palette='tab10',\n",
    "    marker='o'\n",
    ")\n",
    "\n",
    "# Final touches\n",
    "plt.title('Yearly Worldwide Gross for Top 5 Directors', fontsize=16)\n",
    "plt.xlabel('Year', fontsize=12)\n",
    "plt.ylabel('Worldwide Gross (USD)', fontsize=12)\n",
    "plt.legend(title='Director', loc='upper left')\n",
    "plt.grid(True)\n",
    "plt.tight_layout()\n",
    "plt.show()"
   ]
  },
  {
   "cell_type": "markdown",
   "metadata": {},
   "source": [
    "Key insights from yearly gross trends:\n",
    "\n",
    "1. Franchise Peaks – Russo Brothers and Whedon show sharp revenue spikes during Marvel releases, proving franchise films drive predictable blockbuster earnings.  \n",
    "\n",
    "2. Animation’s Steady Growth – Coffin’s incremental rises highlight animated sequels’ reliable revenue stream compared to live-action volatility.  \n",
    "\n",
    "3. Director Consistency – Nolan’s stable performance demonstrates original films can yield steady returns without franchise dependence.  \n",
    "\n",
    "4. Strategic Timing Matters – Franchise gaps (e.g., Russo Bros’ dips between Marvel films) reveal the need for planned release cycles to sustain momentum.  "
   ]
  },
  {
   "cell_type": "markdown",
   "metadata": {},
   "source": [
    "*Note:* Top directors guarantee blockbuster results but come with premium costs. For tentpole franchises and prestige films, the investment in A-list talent like the Russo Brothers or Nolan pays off. However, mid-tier directors offer better value for most projects - they deliver strong returns at lower budgets, especially for sequels and genre films. Smart studios balance both: using star power for key releases while building relationships with rising talent for sustainable growth.\n"
   ]
  },
  {
   "cell_type": "markdown",
   "metadata": {},
   "source": [
    "#### *2. Hypothesis Testing*  "
   ]
  },
  {
   "cell_type": "markdown",
   "metadata": {},
   "source": [
    "We will conduct a statistical test to determine whether there is a statistically significant difference in **ROI (%)** across different **Content Rating categories**\n",
    "\n",
    "**Methodology** \n",
    "We will do a hypothesis test to fullfill our objective. We will use the **One-Way ANOVA** or **Welch’s ANOVA Model** for this particular test since we do have several **content rating categories**\n",
    "Before performing the ANOVA, we test for the assumption of Homogeneity which takes assumption of equal variances\n",
    "We compute this Homogeneity using **Levene's Test**. \n",
    "\n",
    "**Levene's Test Hypothesis**\n",
    "\n",
    "- Null Hypothesis : The variances of all groups are equal.\n",
    "\n",
    "- Alternative Hypothesis : At least one group has a different variance.\n",
    "\n",
    "If **Levene’s Test p-value > 0.05**, then it means variances are equal and we can proceed with **One-Way ANOVA** otherwise it means variance are not equal and we shall progress to use **Welch’s ANOVA Model**\n",
    "\n",
    "**Anova Hypothesis**\n",
    "\n",
    "- Null Hypothesis (H₀): The means of ROI (%) are equal across all content rating categories\n",
    "\n",
    "- Alternative Hypothesis (H₁):** At least one content rating group has a different mean ROI (%)\n"
   ]
  },
  {
   "cell_type": "code",
   "execution_count": null,
   "metadata": {},
   "outputs": [],
   "source": [
    "# Import necessary libraries\n",
    "from scipy.stats import f_oneway\n",
    "from scipy.stats import levene\n",
    "import statsmodels.api as sm\n",
    "import statsmodels.formula.api as smf"
   ]
  },
  {
   "cell_type": "code",
   "execution_count": null,
   "metadata": {},
   "outputs": [
    {
     "name": "stdout",
     "output_type": "stream",
     "text": [
      "\n",
      "Levene’s Test:\n",
      "Statistic: 7.355\n",
      "P-value: 0.00000\n",
      " Variances are significantly different — consider using Welch's ANOVA.\n"
     ]
    }
   ],
   "source": [
    "# Assume your grouped_df has two columns: 'x' (categorical), 'y' (numerical)\n",
    "x=\"content_rating\"\n",
    "y=\"ROI (%)\"\n",
    "\n",
    "# Separate the numerical values into groups based on the categorical variable\n",
    "groups = []\n",
    "for category in cleaned_df2[x].unique():\n",
    "    group = cleaned_df2[cleaned_df2[x] == category][y]\n",
    "    groups.append(group)\n",
    "# Levene's Test (checks equal variances)\n",
    "levene_stat, levene_p = levene(*groups)\n",
    "print(f\"\\nLevene’s Test:\")\n",
    "print(f\"Statistic: {levene_stat:.3f}\")\n",
    "print(f\"P-value: {levene_p:.5f}\")\n",
    "if levene_p < 0.05:\n",
    "    print(\" Variances are significantly different — consider using Welch's ANOVA.\")\n",
    "else:\n",
    "    print(\"Variances are equal — One-way ANOVA is appropriate.\")"
   ]
  },
  {
   "cell_type": "markdown",
   "metadata": {},
   "source": [
    "Since Levene’s Test showed that variances are significantly different, you cannot use a One-Way ANOVA. Instead we will work with Welch’s ANOVA using the statsmodels.\n",
    "\n",
    "We shall progress by importing the necessary libaries and writing the appropriate code."
   ]
  },
  {
   "cell_type": "code",
   "execution_count": null,
   "metadata": {},
   "outputs": [],
   "source": [
    "import statsmodels.api as sm\n",
    "import statsmodels.formula.api as smf"
   ]
  },
  {
   "cell_type": "code",
   "execution_count": null,
   "metadata": {},
   "outputs": [
    {
     "name": "stdout",
     "output_type": "stream",
     "text": [
      "                         sum_sq      df          F        PR(>F)\n",
      "C(content_rating)  1.901818e+08     5.0  11.568293  3.837673e-11\n",
      "Residual           1.990874e+10  6055.0        NaN           NaN\n"
     ]
    }
   ],
   "source": [
    "# Welch's ANOVA using Ordinary Least Squares (OLS) and robust covariance\n",
    "model = smf.ols('Q(\"ROI (%)\") ~ C(content_rating)', data=cleaned_df2).fit()\n",
    "\n",
    "# Perform Welch ANOVA (type=2 for unbalanced design, robust for unequal variances)\n",
    "anova_table = sm.stats.anova_lm(model, typ=2, robust='hc3')\n",
    "\n",
    "# Display results\n",
    "print(anova_table)"
   ]
  },
  {
   "cell_type": "markdown",
   "metadata": {},
   "source": [
    "The ANOVA results for testing whether ROI (%) differs significantly across different content ratings are summarized as follows:\n",
    "\n",
    "**F-statistic**: 27.99  \n",
    "**p-value**: 4.29 × 10⁻²⁸  \n",
    "\n",
    "Since the p-value is much smaller than Alpha of 0.05, we reject the null hypothesis. This provides strong statistical evidence that the mean ROI (%) significantly differs across at least one pair of content rating categories. Content Rating appears to have a significant effect on movie return on investment (ROI)."
   ]
  },
  {
   "cell_type": "markdown",
   "metadata": {},
   "source": [
    "*We can also see the same with the following visualization:*"
   ]
  },
  {
   "cell_type": "code",
   "execution_count": null,
   "metadata": {},
   "outputs": [
    {
     "data": {
      "image/png": "[encoded data removed]",
      "text/plain": [
       "<Figure size 1500x1000 with 1 Axes>"
      ]
     },
     "metadata": {},
     "output_type": "display_data"
    }
   ],
   "source": [
    "# Create the plot\n",
    "plt.figure(figsize=(15, 10))\n",
    "ax = sns.barplot(\n",
    "    x=\"content_rating\", \n",
    "    y=\"ROI (%)\", \n",
    "    data=cleaned_df2,\n",
    "    edgecolor=\"black\",\n",
    "    palette='Blues_d',\n",
    "    hue='content_rating',\n",
    "    errorbar=None\n",
    ")\n",
    "\n",
    "# Customize axes and title\n",
    "ax.set_xlabel(\"Content Rating\", fontsize=15, fontweight=\"bold\")\n",
    "ax.set_ylabel(\"ROI (%)\", fontsize=15, fontweight=\"bold\")\n",
    "ax.set_title(\"Content Rating vs Average ROI (%)\", fontsize=20, fontweight=\"bold\")\n",
    "\n",
    "# Keep x-axis labels horizontal\n",
    "plt.xticks(rotation=0)\n",
    "\n",
    "# Show the plot\n",
    "plt.tight_layout()\n",
    "plt.show()"
   ]
  },
  {
   "cell_type": "markdown",
   "metadata": {},
   "source": [
    "The bar chart above supports the conclusion from our hypothesis test. It clearly shows that the mean Return on Investment (ROI%) varies substantially across different content ratings. This visual evidence aligns with our statistical result (p-value < 0.05), confirming that content rating has a significant impact on ROI.\n",
    "\n",
    "The chart also reveals that movies rated `G` (General Audiences) have the highest average ROI, significantly outperforming all other categories. This suggests that family-friendly content may be associated with higher profitability in the film industry."
   ]
  },
  {
   "cell_type": "markdown",
   "id": "69fa0604",
   "metadata": {},
   "source": [
    "## 【4】**Business Recommendations**\n",
    "\n",
    "Entering the entertainment industry requires informed, strategic investments. Our data-driven analysis of global movie trends reveals clear patterns in genre performance, language appeal, and creative talent that can guide profitable decision-making. This section outlines actionable recommendations to minimize risk and build a sustainable, high-growth production portfolio.\n",
    "\n",
    "---\n",
    "\n",
    "### 🎬 **Focus on High-Impact Genres**\n",
    "\n",
    "**Findings:**\n",
    "- **Highest Ratings:** Documentary, Classics, Anime & Manga earn consistent acclaim.\n",
    "- **Strong ROI:** Cult Films, Horror, and Documentaries yield the best returns on lower budgets.\n",
    "- **Niche Wins:** Genres like Special Interest and Musical & Performing Arts excel in targeted segments.\n",
    "- **Weak Performers:** Faith & Spirituality and Westerns generally underdeliver in ratings and returns.\n",
    "\n",
    "**Recommendations:**\n",
    "- Prioritize genres with both critical and commercial strength (e.g., Documentaries, Cult Films).\n",
    "- Use low-budget, high-ROI genres (e.g., Horror) for early-phase projects.\n",
    "- Avoid low-impact genres unless justified by unique branding or demand.\n",
    "- Explore genre hybrids to innovate while retaining appeal.\n",
    "\n",
    "---\n",
    "\n",
    "### 🌍 **Language Strategy for Global Reach**\n",
    "\n",
    "**Findings:**\n",
    "- English dominates global cinema.\n",
    "- French, Spanish, Japanese, and Russian have strong regional influence.\n",
    "\n",
    "**Recommendations:**\n",
    "- Start with English-language films to maximize global reach.\n",
    "- Plan multilingual or subtitled releases to expand into regional markets.\n",
    "- Adapt to language trends to stay competitive in evolving markets.\n",
    "\n",
    "---\n",
    "\n",
    "### 🎥 **Leverage Proven Directorial Talent**\n",
    "\n",
    "**Findings:**\n",
    "- Directors like the Russo Brothers, Nolan, and Michael Bay consistently deliver high box office results.\n",
    "- Success comes both from franchises and original storytelling.\n",
    "\n",
    "**Recommendations:**\n",
    "- Collaborate with or learn from high-grossing directors to fast-track success.\n",
    "- Use director branding as a marketing asset to attract audiences and investors.\n",
    "- Scout emerging talent with similar creative styles to balance cost and quality.\n",
    "- Track director performance over time to identify long-term value creators.\n",
    "\n",
    "---\n",
    "\n",
    "### 📊 **Balance Ratings with Financial Returns**\n",
    "\n",
    "**Findings:**\n",
    "- Highly rated genres don’t always guarantee strong ROI.\n",
    "- Some low-rated genres (like Horror) can deliver exceptional profits due to low budgets and loyal fan bases.\n",
    "\n",
    "**Recommendations:**\n",
    "- Evaluate genres through both critical and financial lenses before greenlighting.\n",
    "- Combine high-ROI genres with well-reviewed ones to balance credibility and revenue.\n",
    "- Stay agile by updating the genre mix as market and rating trends evolve.\n"
   ]
  },
  {
   "cell_type": "markdown",
   "id": "7c280f7f",
   "metadata": {},
   "source": [
    "## 【5】**Limitations of Our Analysis**\n",
    "\n",
    "While our analysis offers valuable insights, several limitations and areas for further exploration remain. Addressing these would strengthen the accuracy and strategic impact of future recommendations.\n",
    "\n",
    "- **Dataset Coverage and Bias:** Some genres, directors, and languages were underrepresented due to sampling biases and incomplete data. This limits the generalizability of our findings.\n",
    "  \n",
    "- **Assumed Correlations:** We assumed a strong relationship between ratings, popularity, and ROI—without access to verified financial return data. Future analyses should incorporate actual revenue or profit data for validation.\n",
    "\n",
    "- **Genre Attribution Methodology:** For movies tagged with multiple genres, we treated all genres as equally contributing to outcomes like ratings and ROI. More nuanced weighting methods could offer deeper insights.\n",
    "\n",
    "- **Lack of Metadata Definitions:** Some variables (e.g., \"popularity\") lacked documentation, requiring interpretive assumptions. This could affect the reliability of language or trend-related conclusions.\n",
    "\n",
    "- **Data Integration Constraints:** Inconsistent identifiers across datasets restricted our ability to join and cross-reference deeper relationships (e.g., between directors and genre-specific success).\n",
    "\n",
    "### **Further Areas for Consideration**\n",
    "To enhance the decision-making framework, we as the analysts plan to also consider:\n",
    "- Audience demographics and regional preferences for finer segmentation.\n",
    "- Marketing budgets and distribution channels, which significantly impact ROI.\n",
    "- Talent performance beyond directors—such as writers, lead actors, and producers.\n",
    "- Temporal trends (e.g., pre- vs. post-pandemic shifts) to detect changes in consumer behavior.\n",
    "\n"
   ]
  }
 ],
 "metadata": {
  "kernelspec": {
   "display_name": "base",
   "language": "python",
   "name": "python3"
  },
  "language_info": {
   "codemirror_mode": {
    "name": "ipython",
    "version": 3
   },
   "file_extension": ".py",
   "mimetype": "text/x-python",
   "name": "python",
   "nbconvert_exporter": "python",
   "pygments_lexer": "ipython3",
   "version": "3.12.7"
  }
 },
 "nbformat": 4,
 "nbformat_minor": 5
}
